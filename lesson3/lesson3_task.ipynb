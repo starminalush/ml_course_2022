{
 "cells": [
  {
   "cell_type": "code",
   "execution_count": null,
   "id": "d7d52018",
   "metadata": {},
   "outputs": [],
   "source": [
    "import pandas as pd\n",
    "import matplotlib.pyplot as plt\n",
    "from sklearn.tree import DecisionTreeClassifier\n",
    "from sklearn.neighbors import KNeighborsClassifier\n",
    "from sklearn.metrics import classification_report,accuracy_score,confusion_matrix,plot_confusion_matrix\n",
    "from sklearn.model_selection import train_test_split, GridSearchCV\n",
    "from sklearn.tree import plot_tree, export_graphviz\n",
    "import matplotlib.pyplot as plt\n",
    "import math"
   ]
  },
  {
   "cell_type": "markdown",
   "id": "74b7c08f",
   "metadata": {},
   "source": [
    "## Анализ данных"
   ]
  },
  {
   "cell_type": "code",
   "execution_count": null,
   "id": "aa12c44e",
   "metadata": {},
   "outputs": [],
   "source": [
    "df = pd.read_csv('csgo_round_snapshots.csv')"
   ]
  },
  {
   "cell_type": "code",
   "execution_count": null,
   "id": "ae28809c",
   "metadata": {},
   "outputs": [],
   "source": [
    "df.head()"
   ]
  },
  {
   "cell_type": "code",
   "execution_count": null,
   "id": "1a882707",
   "metadata": {},
   "outputs": [],
   "source": [
    "#что еще можно сделать?"
   ]
  },
  {
   "cell_type": "markdown",
   "id": "0f08d4b6",
   "metadata": {},
   "source": [
    "# Начало пути"
   ]
  },
  {
   "cell_type": "markdown",
   "id": "42c12775",
   "metadata": {},
   "source": [
    "Делаем маленький датасет"
   ]
  },
  {
   "cell_type": "code",
   "execution_count": null,
   "id": "d14822e7",
   "metadata": {},
   "outputs": [],
   "source": [
    "df_toy = df[['ct_score', 't_score', 'map', 'bomb_planted', 'ct_players_alive', 't_players_alive', 'ct_health', 't_health', 'round_winner']]"
   ]
  },
  {
   "cell_type": "code",
   "execution_count": null,
   "id": "39728609",
   "metadata": {},
   "outputs": [],
   "source": [
    "small_df_toy = pd.concat([df_toy[df_toy['round_winner'] == 'CT'][:5], df_toy[df_toy['round_winner'] == 'T'][:4]])\n",
    "small_df_toy"
   ]
  },
  {
   "cell_type": "code",
   "execution_count": null,
   "id": "9d25d754",
   "metadata": {},
   "outputs": [],
   "source": [
    "## давайте посчитаем энтропию и прирост информации"
   ]
  },
  {
   "cell_type": "markdown",
   "id": "9cc61f09",
   "metadata": {},
   "source": [
    "## Обучим дерево решений на небольшом примере"
   ]
  },
  {
   "cell_type": "markdown",
   "id": "ff30f264",
   "metadata": {},
   "source": [
    "https://scikit-learn.org/stable/modules/generated/sklearn.tree.DecisionTreeClassifier.html#sklearn.tree.DecisionTreeClassifier"
   ]
  },
  {
   "cell_type": "code",
   "execution_count": null,
   "id": "8f21badb",
   "metadata": {},
   "outputs": [],
   "source": [
    "#1. перевести все категориальные переменные в числовые\n",
    "#2. разделить выборку на тренировочную и тестовую\n",
    "#3. обучить DecisionTreeClassifier\n",
    "#4. вывести метрики из classification_report"
   ]
  },
  {
   "cell_type": "markdown",
   "id": "c78771ad",
   "metadata": {},
   "source": [
    "Подбираем параметры"
   ]
  },
  {
   "cell_type": "code",
   "execution_count": null,
   "id": "d1c8f2fb",
   "metadata": {},
   "outputs": [],
   "source": [
    "#1. Используем GridSearchCV, подбираем те параметры, которые можно"
   ]
  },
  {
   "cell_type": "markdown",
   "id": "5363b110",
   "metadata": {},
   "source": [
    "## Обучим  KNN"
   ]
  },
  {
   "cell_type": "markdown",
   "id": "f86aa62a",
   "metadata": {},
   "source": [
    "https://scikit-learn.org/stable/modules/generated/sklearn.neighbors.KNeighborsClassifier.html"
   ]
  },
  {
   "cell_type": "code",
   "execution_count": null,
   "id": "57ade8d9",
   "metadata": {},
   "outputs": [],
   "source": [
    "#1. обучить KNeighborsClassifier\n",
    "#2. построить confusion_matrix"
   ]
  },
  {
   "cell_type": "markdown",
   "id": "cff0447c",
   "metadata": {},
   "source": [
    "Подбираем параметры"
   ]
  },
  {
   "cell_type": "code",
   "execution_count": null,
   "id": "ee3bc155",
   "metadata": {},
   "outputs": [],
   "source": [
    "#1. Используем GridSearchCV, подбираем те параметры, которые можно"
   ]
  },
  {
   "cell_type": "markdown",
   "id": "2db9f81e",
   "metadata": {},
   "source": [
    "## А теперь все то же самое, только на всем датасете!"
   ]
  },
  {
   "cell_type": "code",
   "execution_count": null,
   "id": "5a419f5c",
   "metadata": {},
   "outputs": [],
   "source": []
  }
 ],
 "metadata": {
  "kernelspec": {
   "display_name": "Python 3 (ipykernel)",
   "language": "python",
   "name": "python3"
  },
  "language_info": {
   "codemirror_mode": {
    "name": "ipython",
    "version": 3
   },
   "file_extension": ".py",
   "mimetype": "text/x-python",
   "name": "python",
   "nbconvert_exporter": "python",
   "pygments_lexer": "ipython3",
   "version": "3.8.10"
  }
 },
 "nbformat": 4,
 "nbformat_minor": 5
}
