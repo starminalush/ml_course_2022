{
  "cells": [
    {
      "cell_type": "markdown",
      "id": "10d41a58",
      "metadata": {
        "id": "10d41a58"
      },
      "source": [
        "## Импорты"
      ]
    },
    {
      "cell_type": "code",
      "execution_count": null,
      "id": "cbad34d7",
      "metadata": {
        "id": "cbad34d7"
      },
      "outputs": [],
      "source": [
        "import pandas as pd\n",
        "from sklearn.linear_model import LogisticRegression\n",
        "from sklearn.svm import SVC\n",
        "from sklearn.metrics import classification_report,accuracy_score,confusion_matrix,plot_confusion_matrix\n",
        "from sklearn.model_selection import train_test_split, GridSearchCV\n",
        "from sklearn.tree import plot_tree, export_graphviz, DecisionTreeClassifier\n",
        "from sklearn.pipeline import make_pipeline\n",
        "from sklearn.ensemble import BaggingClassifier, RandomForestClassifier, ExtraTreesClassifier, GradientBoostingClassifier\n",
        "import matplotlib.pyplot as plt\n",
        "import math"
      ]
    },
    {
      "cell_type": "markdown",
      "id": "32154d02",
      "metadata": {
        "id": "32154d02"
      },
      "source": [
        "## Анализ данных"
      ]
    },
    {
      "cell_type": "code",
      "execution_count": null,
      "id": "9fc9b825",
      "metadata": {
        "colab": {
          "base_uri": "https://localhost:8080/",
          "height": 300
        },
        "id": "9fc9b825",
        "outputId": "7d7d2c72-31bd-47f0-84be-75649344457c"
      },
      "outputs": [
        {
          "output_type": "execute_result",
          "data": {
            "text/plain": [
              "   time_left  ct_score  t_score       map  bomb_planted  ct_health  t_health  \\\n",
              "0     175.00       0.0      0.0  de_dust2         False      500.0     500.0   \n",
              "1     156.03       0.0      0.0  de_dust2         False      500.0     500.0   \n",
              "2      96.03       0.0      0.0  de_dust2         False      391.0     400.0   \n",
              "3      76.03       0.0      0.0  de_dust2         False      391.0     400.0   \n",
              "4     174.97       1.0      0.0  de_dust2         False      500.0     500.0   \n",
              "\n",
              "   ct_armor  t_armor  ct_money  ...  t_grenade_flashbang  \\\n",
              "0       0.0      0.0    4000.0  ...                  0.0   \n",
              "1     400.0    300.0     600.0  ...                  0.0   \n",
              "2     294.0    200.0     750.0  ...                  0.0   \n",
              "3     294.0    200.0     750.0  ...                  0.0   \n",
              "4     192.0      0.0   18350.0  ...                  0.0   \n",
              "\n",
              "   ct_grenade_smokegrenade  t_grenade_smokegrenade  \\\n",
              "0                      0.0                     0.0   \n",
              "1                      0.0                     2.0   \n",
              "2                      0.0                     2.0   \n",
              "3                      0.0                     0.0   \n",
              "4                      0.0                     0.0   \n",
              "\n",
              "   ct_grenade_incendiarygrenade  t_grenade_incendiarygrenade  \\\n",
              "0                           0.0                          0.0   \n",
              "1                           0.0                          0.0   \n",
              "2                           0.0                          0.0   \n",
              "3                           0.0                          0.0   \n",
              "4                           0.0                          0.0   \n",
              "\n",
              "   ct_grenade_molotovgrenade  t_grenade_molotovgrenade  \\\n",
              "0                        0.0                       0.0   \n",
              "1                        0.0                       0.0   \n",
              "2                        0.0                       0.0   \n",
              "3                        0.0                       0.0   \n",
              "4                        0.0                       0.0   \n",
              "\n",
              "   ct_grenade_decoygrenade  t_grenade_decoygrenade  round_winner  \n",
              "0                      0.0                     0.0            CT  \n",
              "1                      0.0                     0.0            CT  \n",
              "2                      0.0                     0.0            CT  \n",
              "3                      0.0                     0.0            CT  \n",
              "4                      0.0                     0.0            CT  \n",
              "\n",
              "[5 rows x 97 columns]"
            ],
            "text/html": [
              "\n",
              "  <div id=\"df-388d3568-3a88-431f-840d-711b776e632a\">\n",
              "    <div class=\"colab-df-container\">\n",
              "      <div>\n",
              "<style scoped>\n",
              "    .dataframe tbody tr th:only-of-type {\n",
              "        vertical-align: middle;\n",
              "    }\n",
              "\n",
              "    .dataframe tbody tr th {\n",
              "        vertical-align: top;\n",
              "    }\n",
              "\n",
              "    .dataframe thead th {\n",
              "        text-align: right;\n",
              "    }\n",
              "</style>\n",
              "<table border=\"1\" class=\"dataframe\">\n",
              "  <thead>\n",
              "    <tr style=\"text-align: right;\">\n",
              "      <th></th>\n",
              "      <th>time_left</th>\n",
              "      <th>ct_score</th>\n",
              "      <th>t_score</th>\n",
              "      <th>map</th>\n",
              "      <th>bomb_planted</th>\n",
              "      <th>ct_health</th>\n",
              "      <th>t_health</th>\n",
              "      <th>ct_armor</th>\n",
              "      <th>t_armor</th>\n",
              "      <th>ct_money</th>\n",
              "      <th>...</th>\n",
              "      <th>t_grenade_flashbang</th>\n",
              "      <th>ct_grenade_smokegrenade</th>\n",
              "      <th>t_grenade_smokegrenade</th>\n",
              "      <th>ct_grenade_incendiarygrenade</th>\n",
              "      <th>t_grenade_incendiarygrenade</th>\n",
              "      <th>ct_grenade_molotovgrenade</th>\n",
              "      <th>t_grenade_molotovgrenade</th>\n",
              "      <th>ct_grenade_decoygrenade</th>\n",
              "      <th>t_grenade_decoygrenade</th>\n",
              "      <th>round_winner</th>\n",
              "    </tr>\n",
              "  </thead>\n",
              "  <tbody>\n",
              "    <tr>\n",
              "      <th>0</th>\n",
              "      <td>175.00</td>\n",
              "      <td>0.0</td>\n",
              "      <td>0.0</td>\n",
              "      <td>de_dust2</td>\n",
              "      <td>False</td>\n",
              "      <td>500.0</td>\n",
              "      <td>500.0</td>\n",
              "      <td>0.0</td>\n",
              "      <td>0.0</td>\n",
              "      <td>4000.0</td>\n",
              "      <td>...</td>\n",
              "      <td>0.0</td>\n",
              "      <td>0.0</td>\n",
              "      <td>0.0</td>\n",
              "      <td>0.0</td>\n",
              "      <td>0.0</td>\n",
              "      <td>0.0</td>\n",
              "      <td>0.0</td>\n",
              "      <td>0.0</td>\n",
              "      <td>0.0</td>\n",
              "      <td>CT</td>\n",
              "    </tr>\n",
              "    <tr>\n",
              "      <th>1</th>\n",
              "      <td>156.03</td>\n",
              "      <td>0.0</td>\n",
              "      <td>0.0</td>\n",
              "      <td>de_dust2</td>\n",
              "      <td>False</td>\n",
              "      <td>500.0</td>\n",
              "      <td>500.0</td>\n",
              "      <td>400.0</td>\n",
              "      <td>300.0</td>\n",
              "      <td>600.0</td>\n",
              "      <td>...</td>\n",
              "      <td>0.0</td>\n",
              "      <td>0.0</td>\n",
              "      <td>2.0</td>\n",
              "      <td>0.0</td>\n",
              "      <td>0.0</td>\n",
              "      <td>0.0</td>\n",
              "      <td>0.0</td>\n",
              "      <td>0.0</td>\n",
              "      <td>0.0</td>\n",
              "      <td>CT</td>\n",
              "    </tr>\n",
              "    <tr>\n",
              "      <th>2</th>\n",
              "      <td>96.03</td>\n",
              "      <td>0.0</td>\n",
              "      <td>0.0</td>\n",
              "      <td>de_dust2</td>\n",
              "      <td>False</td>\n",
              "      <td>391.0</td>\n",
              "      <td>400.0</td>\n",
              "      <td>294.0</td>\n",
              "      <td>200.0</td>\n",
              "      <td>750.0</td>\n",
              "      <td>...</td>\n",
              "      <td>0.0</td>\n",
              "      <td>0.0</td>\n",
              "      <td>2.0</td>\n",
              "      <td>0.0</td>\n",
              "      <td>0.0</td>\n",
              "      <td>0.0</td>\n",
              "      <td>0.0</td>\n",
              "      <td>0.0</td>\n",
              "      <td>0.0</td>\n",
              "      <td>CT</td>\n",
              "    </tr>\n",
              "    <tr>\n",
              "      <th>3</th>\n",
              "      <td>76.03</td>\n",
              "      <td>0.0</td>\n",
              "      <td>0.0</td>\n",
              "      <td>de_dust2</td>\n",
              "      <td>False</td>\n",
              "      <td>391.0</td>\n",
              "      <td>400.0</td>\n",
              "      <td>294.0</td>\n",
              "      <td>200.0</td>\n",
              "      <td>750.0</td>\n",
              "      <td>...</td>\n",
              "      <td>0.0</td>\n",
              "      <td>0.0</td>\n",
              "      <td>0.0</td>\n",
              "      <td>0.0</td>\n",
              "      <td>0.0</td>\n",
              "      <td>0.0</td>\n",
              "      <td>0.0</td>\n",
              "      <td>0.0</td>\n",
              "      <td>0.0</td>\n",
              "      <td>CT</td>\n",
              "    </tr>\n",
              "    <tr>\n",
              "      <th>4</th>\n",
              "      <td>174.97</td>\n",
              "      <td>1.0</td>\n",
              "      <td>0.0</td>\n",
              "      <td>de_dust2</td>\n",
              "      <td>False</td>\n",
              "      <td>500.0</td>\n",
              "      <td>500.0</td>\n",
              "      <td>192.0</td>\n",
              "      <td>0.0</td>\n",
              "      <td>18350.0</td>\n",
              "      <td>...</td>\n",
              "      <td>0.0</td>\n",
              "      <td>0.0</td>\n",
              "      <td>0.0</td>\n",
              "      <td>0.0</td>\n",
              "      <td>0.0</td>\n",
              "      <td>0.0</td>\n",
              "      <td>0.0</td>\n",
              "      <td>0.0</td>\n",
              "      <td>0.0</td>\n",
              "      <td>CT</td>\n",
              "    </tr>\n",
              "  </tbody>\n",
              "</table>\n",
              "<p>5 rows × 97 columns</p>\n",
              "</div>\n",
              "      <button class=\"colab-df-convert\" onclick=\"convertToInteractive('df-388d3568-3a88-431f-840d-711b776e632a')\"\n",
              "              title=\"Convert this dataframe to an interactive table.\"\n",
              "              style=\"display:none;\">\n",
              "        \n",
              "  <svg xmlns=\"http://www.w3.org/2000/svg\" height=\"24px\"viewBox=\"0 0 24 24\"\n",
              "       width=\"24px\">\n",
              "    <path d=\"M0 0h24v24H0V0z\" fill=\"none\"/>\n",
              "    <path d=\"M18.56 5.44l.94 2.06.94-2.06 2.06-.94-2.06-.94-.94-2.06-.94 2.06-2.06.94zm-11 1L8.5 8.5l.94-2.06 2.06-.94-2.06-.94L8.5 2.5l-.94 2.06-2.06.94zm10 10l.94 2.06.94-2.06 2.06-.94-2.06-.94-.94-2.06-.94 2.06-2.06.94z\"/><path d=\"M17.41 7.96l-1.37-1.37c-.4-.4-.92-.59-1.43-.59-.52 0-1.04.2-1.43.59L10.3 9.45l-7.72 7.72c-.78.78-.78 2.05 0 2.83L4 21.41c.39.39.9.59 1.41.59.51 0 1.02-.2 1.41-.59l7.78-7.78 2.81-2.81c.8-.78.8-2.07 0-2.86zM5.41 20L4 18.59l7.72-7.72 1.47 1.35L5.41 20z\"/>\n",
              "  </svg>\n",
              "      </button>\n",
              "      \n",
              "  <style>\n",
              "    .colab-df-container {\n",
              "      display:flex;\n",
              "      flex-wrap:wrap;\n",
              "      gap: 12px;\n",
              "    }\n",
              "\n",
              "    .colab-df-convert {\n",
              "      background-color: #E8F0FE;\n",
              "      border: none;\n",
              "      border-radius: 50%;\n",
              "      cursor: pointer;\n",
              "      display: none;\n",
              "      fill: #1967D2;\n",
              "      height: 32px;\n",
              "      padding: 0 0 0 0;\n",
              "      width: 32px;\n",
              "    }\n",
              "\n",
              "    .colab-df-convert:hover {\n",
              "      background-color: #E2EBFA;\n",
              "      box-shadow: 0px 1px 2px rgba(60, 64, 67, 0.3), 0px 1px 3px 1px rgba(60, 64, 67, 0.15);\n",
              "      fill: #174EA6;\n",
              "    }\n",
              "\n",
              "    [theme=dark] .colab-df-convert {\n",
              "      background-color: #3B4455;\n",
              "      fill: #D2E3FC;\n",
              "    }\n",
              "\n",
              "    [theme=dark] .colab-df-convert:hover {\n",
              "      background-color: #434B5C;\n",
              "      box-shadow: 0px 1px 3px 1px rgba(0, 0, 0, 0.15);\n",
              "      filter: drop-shadow(0px 1px 2px rgba(0, 0, 0, 0.3));\n",
              "      fill: #FFFFFF;\n",
              "    }\n",
              "  </style>\n",
              "\n",
              "      <script>\n",
              "        const buttonEl =\n",
              "          document.querySelector('#df-388d3568-3a88-431f-840d-711b776e632a button.colab-df-convert');\n",
              "        buttonEl.style.display =\n",
              "          google.colab.kernel.accessAllowed ? 'block' : 'none';\n",
              "\n",
              "        async function convertToInteractive(key) {\n",
              "          const element = document.querySelector('#df-388d3568-3a88-431f-840d-711b776e632a');\n",
              "          const dataTable =\n",
              "            await google.colab.kernel.invokeFunction('convertToInteractive',\n",
              "                                                     [key], {});\n",
              "          if (!dataTable) return;\n",
              "\n",
              "          const docLinkHtml = 'Like what you see? Visit the ' +\n",
              "            '<a target=\"_blank\" href=https://colab.research.google.com/notebooks/data_table.ipynb>data table notebook</a>'\n",
              "            + ' to learn more about interactive tables.';\n",
              "          element.innerHTML = '';\n",
              "          dataTable['output_type'] = 'display_data';\n",
              "          await google.colab.output.renderOutput(dataTable, element);\n",
              "          const docLink = document.createElement('div');\n",
              "          docLink.innerHTML = docLinkHtml;\n",
              "          element.appendChild(docLink);\n",
              "        }\n",
              "      </script>\n",
              "    </div>\n",
              "  </div>\n",
              "  "
            ]
          },
          "metadata": {},
          "execution_count": 47
        }
      ],
      "source": [
        "df  = pd.read_csv('csgo_round_snapshots.csv')\n",
        "df.head()"
      ]
    },
    {
      "cell_type": "code",
      "execution_count": null,
      "id": "c68f7791",
      "metadata": {
        "colab": {
          "base_uri": "https://localhost:8080/"
        },
        "id": "c68f7791",
        "outputId": "4992bc9d-11e0-467d-91e5-9dfd1ebd0a20"
      },
      "outputs": [
        {
          "output_type": "execute_result",
          "data": {
            "text/plain": [
              "Index(['time_left', 'ct_score', 't_score', 'map', 'bomb_planted', 'ct_health',\n",
              "       't_health', 'ct_armor', 't_armor', 'ct_money', 't_money', 'ct_helmets',\n",
              "       't_helmets', 'ct_defuse_kits', 'ct_players_alive', 't_players_alive',\n",
              "       'ct_weapon_ak47', 't_weapon_ak47', 'ct_weapon_aug', 't_weapon_aug',\n",
              "       'ct_weapon_awp', 't_weapon_awp', 'ct_weapon_bizon', 't_weapon_bizon',\n",
              "       'ct_weapon_cz75auto', 't_weapon_cz75auto', 'ct_weapon_elite',\n",
              "       't_weapon_elite', 'ct_weapon_famas', 't_weapon_famas',\n",
              "       'ct_weapon_g3sg1', 't_weapon_g3sg1', 'ct_weapon_galilar',\n",
              "       't_weapon_galilar', 'ct_weapon_glock', 't_weapon_glock',\n",
              "       'ct_weapon_m249', 't_weapon_m249', 'ct_weapon_m4a1s', 't_weapon_m4a1s',\n",
              "       'ct_weapon_m4a4', 't_weapon_m4a4', 'ct_weapon_mac10', 't_weapon_mac10',\n",
              "       'ct_weapon_mag7', 't_weapon_mag7', 'ct_weapon_mp5sd', 't_weapon_mp5sd',\n",
              "       'ct_weapon_mp7', 't_weapon_mp7', 'ct_weapon_mp9', 't_weapon_mp9',\n",
              "       'ct_weapon_negev', 't_weapon_negev', 'ct_weapon_nova', 't_weapon_nova',\n",
              "       'ct_weapon_p90', 't_weapon_p90', 'ct_weapon_r8revolver',\n",
              "       't_weapon_r8revolver', 'ct_weapon_sawedoff', 't_weapon_sawedoff',\n",
              "       'ct_weapon_scar20', 't_weapon_scar20', 'ct_weapon_sg553',\n",
              "       't_weapon_sg553', 'ct_weapon_ssg08', 't_weapon_ssg08',\n",
              "       'ct_weapon_ump45', 't_weapon_ump45', 'ct_weapon_xm1014',\n",
              "       't_weapon_xm1014', 'ct_weapon_deagle', 't_weapon_deagle',\n",
              "       'ct_weapon_fiveseven', 't_weapon_fiveseven', 'ct_weapon_usps',\n",
              "       't_weapon_usps', 'ct_weapon_p250', 't_weapon_p250', 'ct_weapon_p2000',\n",
              "       't_weapon_p2000', 'ct_weapon_tec9', 't_weapon_tec9',\n",
              "       'ct_grenade_hegrenade', 't_grenade_hegrenade', 'ct_grenade_flashbang',\n",
              "       't_grenade_flashbang', 'ct_grenade_smokegrenade',\n",
              "       't_grenade_smokegrenade', 'ct_grenade_incendiarygrenade',\n",
              "       't_grenade_incendiarygrenade', 'ct_grenade_molotovgrenade',\n",
              "       't_grenade_molotovgrenade', 'ct_grenade_decoygrenade',\n",
              "       't_grenade_decoygrenade', 'round_winner'],\n",
              "      dtype='object')"
            ]
          },
          "metadata": {},
          "execution_count": 48
        }
      ],
      "source": [
        "df.columns"
      ]
    },
    {
      "cell_type": "code",
      "execution_count": null,
      "id": "b02b2caf",
      "metadata": {
        "colab": {
          "base_uri": "https://localhost:8080/"
        },
        "id": "b02b2caf",
        "outputId": "c58d7ea0-40aa-46a1-c309-a18c7a51423f"
      },
      "outputs": [
        {
          "output_type": "stream",
          "name": "stdout",
          "text": [
            "<class 'pandas.core.frame.DataFrame'>\n",
            "RangeIndex: 122410 entries, 0 to 122409\n",
            "Data columns (total 97 columns):\n",
            " #   Column                        Non-Null Count   Dtype  \n",
            "---  ------                        --------------   -----  \n",
            " 0   time_left                     122410 non-null  float64\n",
            " 1   ct_score                      122410 non-null  float64\n",
            " 2   t_score                       122410 non-null  float64\n",
            " 3   map                           122410 non-null  object \n",
            " 4   bomb_planted                  122410 non-null  bool   \n",
            " 5   ct_health                     122410 non-null  float64\n",
            " 6   t_health                      122410 non-null  float64\n",
            " 7   ct_armor                      122410 non-null  float64\n",
            " 8   t_armor                       122410 non-null  float64\n",
            " 9   ct_money                      122410 non-null  float64\n",
            " 10  t_money                       122410 non-null  float64\n",
            " 11  ct_helmets                    122410 non-null  float64\n",
            " 12  t_helmets                     122410 non-null  float64\n",
            " 13  ct_defuse_kits                122410 non-null  float64\n",
            " 14  ct_players_alive              122410 non-null  float64\n",
            " 15  t_players_alive               122410 non-null  float64\n",
            " 16  ct_weapon_ak47                122410 non-null  float64\n",
            " 17  t_weapon_ak47                 122410 non-null  float64\n",
            " 18  ct_weapon_aug                 122410 non-null  float64\n",
            " 19  t_weapon_aug                  122410 non-null  float64\n",
            " 20  ct_weapon_awp                 122410 non-null  float64\n",
            " 21  t_weapon_awp                  122410 non-null  float64\n",
            " 22  ct_weapon_bizon               122410 non-null  float64\n",
            " 23  t_weapon_bizon                122410 non-null  float64\n",
            " 24  ct_weapon_cz75auto            122410 non-null  float64\n",
            " 25  t_weapon_cz75auto             122410 non-null  float64\n",
            " 26  ct_weapon_elite               122410 non-null  float64\n",
            " 27  t_weapon_elite                122410 non-null  float64\n",
            " 28  ct_weapon_famas               122410 non-null  float64\n",
            " 29  t_weapon_famas                122410 non-null  float64\n",
            " 30  ct_weapon_g3sg1               122410 non-null  float64\n",
            " 31  t_weapon_g3sg1                122410 non-null  float64\n",
            " 32  ct_weapon_galilar             122410 non-null  float64\n",
            " 33  t_weapon_galilar              122410 non-null  float64\n",
            " 34  ct_weapon_glock               122410 non-null  float64\n",
            " 35  t_weapon_glock                122410 non-null  float64\n",
            " 36  ct_weapon_m249                122410 non-null  float64\n",
            " 37  t_weapon_m249                 122410 non-null  float64\n",
            " 38  ct_weapon_m4a1s               122410 non-null  float64\n",
            " 39  t_weapon_m4a1s                122410 non-null  float64\n",
            " 40  ct_weapon_m4a4                122410 non-null  float64\n",
            " 41  t_weapon_m4a4                 122410 non-null  float64\n",
            " 42  ct_weapon_mac10               122410 non-null  float64\n",
            " 43  t_weapon_mac10                122410 non-null  float64\n",
            " 44  ct_weapon_mag7                122410 non-null  float64\n",
            " 45  t_weapon_mag7                 122410 non-null  float64\n",
            " 46  ct_weapon_mp5sd               122410 non-null  float64\n",
            " 47  t_weapon_mp5sd                122410 non-null  float64\n",
            " 48  ct_weapon_mp7                 122410 non-null  float64\n",
            " 49  t_weapon_mp7                  122410 non-null  float64\n",
            " 50  ct_weapon_mp9                 122410 non-null  float64\n",
            " 51  t_weapon_mp9                  122410 non-null  float64\n",
            " 52  ct_weapon_negev               122410 non-null  float64\n",
            " 53  t_weapon_negev                122410 non-null  float64\n",
            " 54  ct_weapon_nova                122410 non-null  float64\n",
            " 55  t_weapon_nova                 122410 non-null  float64\n",
            " 56  ct_weapon_p90                 122410 non-null  float64\n",
            " 57  t_weapon_p90                  122410 non-null  float64\n",
            " 58  ct_weapon_r8revolver          122410 non-null  float64\n",
            " 59  t_weapon_r8revolver           122410 non-null  float64\n",
            " 60  ct_weapon_sawedoff            122410 non-null  float64\n",
            " 61  t_weapon_sawedoff             122410 non-null  float64\n",
            " 62  ct_weapon_scar20              122410 non-null  float64\n",
            " 63  t_weapon_scar20               122410 non-null  float64\n",
            " 64  ct_weapon_sg553               122410 non-null  float64\n",
            " 65  t_weapon_sg553                122410 non-null  float64\n",
            " 66  ct_weapon_ssg08               122410 non-null  float64\n",
            " 67  t_weapon_ssg08                122410 non-null  float64\n",
            " 68  ct_weapon_ump45               122410 non-null  float64\n",
            " 69  t_weapon_ump45                122410 non-null  float64\n",
            " 70  ct_weapon_xm1014              122410 non-null  float64\n",
            " 71  t_weapon_xm1014               122410 non-null  float64\n",
            " 72  ct_weapon_deagle              122410 non-null  float64\n",
            " 73  t_weapon_deagle               122410 non-null  float64\n",
            " 74  ct_weapon_fiveseven           122410 non-null  float64\n",
            " 75  t_weapon_fiveseven            122410 non-null  float64\n",
            " 76  ct_weapon_usps                122410 non-null  float64\n",
            " 77  t_weapon_usps                 122410 non-null  float64\n",
            " 78  ct_weapon_p250                122410 non-null  float64\n",
            " 79  t_weapon_p250                 122410 non-null  float64\n",
            " 80  ct_weapon_p2000               122410 non-null  float64\n",
            " 81  t_weapon_p2000                122410 non-null  float64\n",
            " 82  ct_weapon_tec9                122410 non-null  float64\n",
            " 83  t_weapon_tec9                 122410 non-null  float64\n",
            " 84  ct_grenade_hegrenade          122410 non-null  float64\n",
            " 85  t_grenade_hegrenade           122410 non-null  float64\n",
            " 86  ct_grenade_flashbang          122410 non-null  float64\n",
            " 87  t_grenade_flashbang           122410 non-null  float64\n",
            " 88  ct_grenade_smokegrenade       122410 non-null  float64\n",
            " 89  t_grenade_smokegrenade        122410 non-null  float64\n",
            " 90  ct_grenade_incendiarygrenade  122410 non-null  float64\n",
            " 91  t_grenade_incendiarygrenade   122410 non-null  float64\n",
            " 92  ct_grenade_molotovgrenade     122410 non-null  float64\n",
            " 93  t_grenade_molotovgrenade      122410 non-null  float64\n",
            " 94  ct_grenade_decoygrenade       122410 non-null  float64\n",
            " 95  t_grenade_decoygrenade        122410 non-null  float64\n",
            " 96  round_winner                  122410 non-null  object \n",
            "dtypes: bool(1), float64(94), object(2)\n",
            "memory usage: 89.8+ MB\n"
          ]
        }
      ],
      "source": [
        "df.info()"
      ]
    },
    {
      "cell_type": "code",
      "execution_count": null,
      "id": "62ad00a7",
      "metadata": {
        "id": "62ad00a7"
      },
      "outputs": [],
      "source": [
        "def bar_plot(variable):\n",
        "    var = df[variable]\n",
        "    varValue = var.value_counts()\n",
        "    \n",
        "    plt.figure(figsize = (9,3))\n",
        "    plt.bar(varValue.index, varValue)\n",
        "    plt.xticks(varValue.index, varValue.index.values)\n",
        "    plt.ylabel(\"Frequency\")\n",
        "    plt.title(variable)\n",
        "    plt.show()\n",
        "    print(\"{}: \\n {}\".format(variable,varValue))\n",
        "\n",
        "def plot_hist(variable):\n",
        "    plt.figure(figsize = (9,3))\n",
        "    plt.hist(df[variable], bins = 50)\n",
        "    plt.xlabel(variable)\n",
        "    plt.ylabel(\"Frequency\")\n",
        "    plt.title(\"{} distribution with hist\".format(variable))\n",
        "    plt.show()"
      ]
    },
    {
      "cell_type": "code",
      "execution_count": null,
      "id": "e22f474c",
      "metadata": {
        "colab": {
          "base_uri": "https://localhost:8080/",
          "height": 296
        },
        "id": "e22f474c",
        "outputId": "aad1f50c-e1ee-430d-9db2-b66919b46696"
      },
      "outputs": [
        {
          "output_type": "display_data",
          "data": {
            "text/plain": [
              "<Figure size 648x216 with 1 Axes>"
            ],
            "image/png": "[encoded data removed]"
          },
          "metadata": {
            "needs_background": "light"
          }
        },
        {
          "output_type": "stream",
          "name": "stdout",
          "text": [
            "round_winner: \n",
            " T     62406\n",
            "CT    60004\n",
            "Name: round_winner, dtype: int64\n"
          ]
        }
      ],
      "source": [
        "bar_plot('round_winner')"
      ]
    },
    {
      "cell_type": "code",
      "execution_count": null,
      "id": "2fe91dae",
      "metadata": {
        "id": "2fe91dae",
        "outputId": "106c5238-01a9-448f-fa27-756739f86052",
        "colab": {
          "base_uri": "https://localhost:8080/",
          "height": 242
        }
      },
      "outputs": [
        {
          "output_type": "display_data",
          "data": {
            "text/plain": [
              "<Figure size 648x216 with 1 Axes>"
            ],
            "image/png": "[encoded data removed]"
          },
          "metadata": {
            "needs_background": "light"
          }
        }
      ],
      "source": [
        "plot_hist('ct_players_alive')"
      ]
    },
    {
      "cell_type": "code",
      "execution_count": null,
      "id": "14cb5765",
      "metadata": {
        "id": "14cb5765",
        "outputId": "0cb5e362-1008-4dbb-b0ac-37f60e547953",
        "colab": {
          "base_uri": "https://localhost:8080/",
          "height": 242
        }
      },
      "outputs": [
        {
          "output_type": "display_data",
          "data": {
            "text/plain": [
              "<Figure size 648x216 with 1 Axes>"
            ],
            "image/png": "[encoded data removed]"
          },
          "metadata": {
            "needs_background": "light"
          }
        }
      ],
      "source": [
        "plot_hist('t_players_alive')"
      ]
    },
    {
      "cell_type": "code",
      "execution_count": null,
      "id": "6f9ceeff",
      "metadata": {
        "id": "6f9ceeff",
        "outputId": "3e2ca351-69c4-47ba-c22f-854216e4032c",
        "colab": {
          "base_uri": "https://localhost:8080/",
          "height": 242
        }
      },
      "outputs": [
        {
          "output_type": "display_data",
          "data": {
            "text/plain": [
              "<Figure size 648x216 with 1 Axes>"
            ],
            "image/png": "[encoded data removed]"
          },
          "metadata": {
            "needs_background": "light"
          }
        }
      ],
      "source": [
        "plot_hist('t_health')"
      ]
    },
    {
      "cell_type": "code",
      "execution_count": null,
      "id": "45b9aff7",
      "metadata": {
        "id": "45b9aff7",
        "outputId": "a21f8708-df7b-4af3-b83a-f336fef1c565",
        "colab": {
          "base_uri": "https://localhost:8080/",
          "height": 242
        }
      },
      "outputs": [
        {
          "output_type": "display_data",
          "data": {
            "text/plain": [
              "<Figure size 648x216 with 1 Axes>"
            ],
            "image/png": "[encoded data removed]"
          },
          "metadata": {
            "needs_background": "light"
          }
        }
      ],
      "source": [
        "plot_hist('ct_health')"
      ]
    },
    {
      "cell_type": "markdown",
      "id": "95b9bcc9",
      "metadata": {
        "id": "95b9bcc9"
      },
      "source": [
        "## Ансамбли"
      ]
    },
    {
      "cell_type": "code",
      "source": [
        "#1 переведем категориальные переменные в числовые\n",
        "#2 разобьем на train test"
      ],
      "metadata": {
        "id": "SF8AcZrhsVF5"
      },
      "id": "SF8AcZrhsVF5",
      "execution_count": null,
      "outputs": []
    },
    {
      "cell_type": "code",
      "source": [
        "df = pd.get_dummies(df, columns = ['map', 'bomb_planted'])\n",
        "df['round_winner'] = df['round_winner'].apply(lambda x: 1 if x == 'CT' else 0)\n",
        "df.head()"
      ],
      "metadata": {
        "colab": {
          "base_uri": "https://localhost:8080/",
          "height": 300
        },
        "id": "I4i1iGlFs9HX",
        "outputId": "9dd44342-897d-47e2-ef3b-f72e104af3dc"
      },
      "id": "I4i1iGlFs9HX",
      "execution_count": null,
      "outputs": [
        {
          "output_type": "execute_result",
          "data": {
            "text/plain": [
              "   time_left  ct_score  t_score  ct_health  t_health  ct_armor  t_armor  \\\n",
              "0     175.00       0.0      0.0      500.0     500.0       0.0      0.0   \n",
              "1     156.03       0.0      0.0      500.0     500.0     400.0    300.0   \n",
              "2      96.03       0.0      0.0      391.0     400.0     294.0    200.0   \n",
              "3      76.03       0.0      0.0      391.0     400.0     294.0    200.0   \n",
              "4     174.97       1.0      0.0      500.0     500.0     192.0      0.0   \n",
              "\n",
              "   ct_money  t_money  ct_helmets  ...  map_de_cache  map_de_dust2  \\\n",
              "0    4000.0   4000.0         0.0  ...             0             1   \n",
              "1     600.0    650.0         0.0  ...             0             1   \n",
              "2     750.0    500.0         0.0  ...             0             1   \n",
              "3     750.0    500.0         0.0  ...             0             1   \n",
              "4   18350.0  10750.0         0.0  ...             0             1   \n",
              "\n",
              "   map_de_inferno  map_de_mirage  map_de_nuke  map_de_overpass  map_de_train  \\\n",
              "0               0              0            0                0             0   \n",
              "1               0              0            0                0             0   \n",
              "2               0              0            0                0             0   \n",
              "3               0              0            0                0             0   \n",
              "4               0              0            0                0             0   \n",
              "\n",
              "   map_de_vertigo  bomb_planted_False  bomb_planted_True  \n",
              "0               0                   1                  0  \n",
              "1               0                   1                  0  \n",
              "2               0                   1                  0  \n",
              "3               0                   1                  0  \n",
              "4               0                   1                  0  \n",
              "\n",
              "[5 rows x 105 columns]"
            ],
            "text/html": [
              "\n",
              "  <div id=\"df-9f6ed8d6-70cd-49af-adf3-185806eac4e3\">\n",
              "    <div class=\"colab-df-container\">\n",
              "      <div>\n",
              "<style scoped>\n",
              "    .dataframe tbody tr th:only-of-type {\n",
              "        vertical-align: middle;\n",
              "    }\n",
              "\n",
              "    .dataframe tbody tr th {\n",
              "        vertical-align: top;\n",
              "    }\n",
              "\n",
              "    .dataframe thead th {\n",
              "        text-align: right;\n",
              "    }\n",
              "</style>\n",
              "<table border=\"1\" class=\"dataframe\">\n",
              "  <thead>\n",
              "    <tr style=\"text-align: right;\">\n",
              "      <th></th>\n",
              "      <th>time_left</th>\n",
              "      <th>ct_score</th>\n",
              "      <th>t_score</th>\n",
              "      <th>ct_health</th>\n",
              "      <th>t_health</th>\n",
              "      <th>ct_armor</th>\n",
              "      <th>t_armor</th>\n",
              "      <th>ct_money</th>\n",
              "      <th>t_money</th>\n",
              "      <th>ct_helmets</th>\n",
              "      <th>...</th>\n",
              "      <th>map_de_cache</th>\n",
              "      <th>map_de_dust2</th>\n",
              "      <th>map_de_inferno</th>\n",
              "      <th>map_de_mirage</th>\n",
              "      <th>map_de_nuke</th>\n",
              "      <th>map_de_overpass</th>\n",
              "      <th>map_de_train</th>\n",
              "      <th>map_de_vertigo</th>\n",
              "      <th>bomb_planted_False</th>\n",
              "      <th>bomb_planted_True</th>\n",
              "    </tr>\n",
              "  </thead>\n",
              "  <tbody>\n",
              "    <tr>\n",
              "      <th>0</th>\n",
              "      <td>175.00</td>\n",
              "      <td>0.0</td>\n",
              "      <td>0.0</td>\n",
              "      <td>500.0</td>\n",
              "      <td>500.0</td>\n",
              "      <td>0.0</td>\n",
              "      <td>0.0</td>\n",
              "      <td>4000.0</td>\n",
              "      <td>4000.0</td>\n",
              "      <td>0.0</td>\n",
              "      <td>...</td>\n",
              "      <td>0</td>\n",
              "      <td>1</td>\n",
              "      <td>0</td>\n",
              "      <td>0</td>\n",
              "      <td>0</td>\n",
              "      <td>0</td>\n",
              "      <td>0</td>\n",
              "      <td>0</td>\n",
              "      <td>1</td>\n",
              "      <td>0</td>\n",
              "    </tr>\n",
              "    <tr>\n",
              "      <th>1</th>\n",
              "      <td>156.03</td>\n",
              "      <td>0.0</td>\n",
              "      <td>0.0</td>\n",
              "      <td>500.0</td>\n",
              "      <td>500.0</td>\n",
              "      <td>400.0</td>\n",
              "      <td>300.0</td>\n",
              "      <td>600.0</td>\n",
              "      <td>650.0</td>\n",
              "      <td>0.0</td>\n",
              "      <td>...</td>\n",
              "      <td>0</td>\n",
              "      <td>1</td>\n",
              "      <td>0</td>\n",
              "      <td>0</td>\n",
              "      <td>0</td>\n",
              "      <td>0</td>\n",
              "      <td>0</td>\n",
              "      <td>0</td>\n",
              "      <td>1</td>\n",
              "      <td>0</td>\n",
              "    </tr>\n",
              "    <tr>\n",
              "      <th>2</th>\n",
              "      <td>96.03</td>\n",
              "      <td>0.0</td>\n",
              "      <td>0.0</td>\n",
              "      <td>391.0</td>\n",
              "      <td>400.0</td>\n",
              "      <td>294.0</td>\n",
              "      <td>200.0</td>\n",
              "      <td>750.0</td>\n",
              "      <td>500.0</td>\n",
              "      <td>0.0</td>\n",
              "      <td>...</td>\n",
              "      <td>0</td>\n",
              "      <td>1</td>\n",
              "      <td>0</td>\n",
              "      <td>0</td>\n",
              "      <td>0</td>\n",
              "      <td>0</td>\n",
              "      <td>0</td>\n",
              "      <td>0</td>\n",
              "      <td>1</td>\n",
              "      <td>0</td>\n",
              "    </tr>\n",
              "    <tr>\n",
              "      <th>3</th>\n",
              "      <td>76.03</td>\n",
              "      <td>0.0</td>\n",
              "      <td>0.0</td>\n",
              "      <td>391.0</td>\n",
              "      <td>400.0</td>\n",
              "      <td>294.0</td>\n",
              "      <td>200.0</td>\n",
              "      <td>750.0</td>\n",
              "      <td>500.0</td>\n",
              "      <td>0.0</td>\n",
              "      <td>...</td>\n",
              "      <td>0</td>\n",
              "      <td>1</td>\n",
              "      <td>0</td>\n",
              "      <td>0</td>\n",
              "      <td>0</td>\n",
              "      <td>0</td>\n",
              "      <td>0</td>\n",
              "      <td>0</td>\n",
              "      <td>1</td>\n",
              "      <td>0</td>\n",
              "    </tr>\n",
              "    <tr>\n",
              "      <th>4</th>\n",
              "      <td>174.97</td>\n",
              "      <td>1.0</td>\n",
              "      <td>0.0</td>\n",
              "      <td>500.0</td>\n",
              "      <td>500.0</td>\n",
              "      <td>192.0</td>\n",
              "      <td>0.0</td>\n",
              "      <td>18350.0</td>\n",
              "      <td>10750.0</td>\n",
              "      <td>0.0</td>\n",
              "      <td>...</td>\n",
              "      <td>0</td>\n",
              "      <td>1</td>\n",
              "      <td>0</td>\n",
              "      <td>0</td>\n",
              "      <td>0</td>\n",
              "      <td>0</td>\n",
              "      <td>0</td>\n",
              "      <td>0</td>\n",
              "      <td>1</td>\n",
              "      <td>0</td>\n",
              "    </tr>\n",
              "  </tbody>\n",
              "</table>\n",
              "<p>5 rows × 105 columns</p>\n",
              "</div>\n",
              "      <button class=\"colab-df-convert\" onclick=\"convertToInteractive('df-9f6ed8d6-70cd-49af-adf3-185806eac4e3')\"\n",
              "              title=\"Convert this dataframe to an interactive table.\"\n",
              "              style=\"display:none;\">\n",
              "        \n",
              "  <svg xmlns=\"http://www.w3.org/2000/svg\" height=\"24px\"viewBox=\"0 0 24 24\"\n",
              "       width=\"24px\">\n",
              "    <path d=\"M0 0h24v24H0V0z\" fill=\"none\"/>\n",
              "    <path d=\"M18.56 5.44l.94 2.06.94-2.06 2.06-.94-2.06-.94-.94-2.06-.94 2.06-2.06.94zm-11 1L8.5 8.5l.94-2.06 2.06-.94-2.06-.94L8.5 2.5l-.94 2.06-2.06.94zm10 10l.94 2.06.94-2.06 2.06-.94-2.06-.94-.94-2.06-.94 2.06-2.06.94z\"/><path d=\"M17.41 7.96l-1.37-1.37c-.4-.4-.92-.59-1.43-.59-.52 0-1.04.2-1.43.59L10.3 9.45l-7.72 7.72c-.78.78-.78 2.05 0 2.83L4 21.41c.39.39.9.59 1.41.59.51 0 1.02-.2 1.41-.59l7.78-7.78 2.81-2.81c.8-.78.8-2.07 0-2.86zM5.41 20L4 18.59l7.72-7.72 1.47 1.35L5.41 20z\"/>\n",
              "  </svg>\n",
              "      </button>\n",
              "      \n",
              "  <style>\n",
              "    .colab-df-container {\n",
              "      display:flex;\n",
              "      flex-wrap:wrap;\n",
              "      gap: 12px;\n",
              "    }\n",
              "\n",
              "    .colab-df-convert {\n",
              "      background-color: #E8F0FE;\n",
              "      border: none;\n",
              "      border-radius: 50%;\n",
              "      cursor: pointer;\n",
              "      display: none;\n",
              "      fill: #1967D2;\n",
              "      height: 32px;\n",
              "      padding: 0 0 0 0;\n",
              "      width: 32px;\n",
              "    }\n",
              "\n",
              "    .colab-df-convert:hover {\n",
              "      background-color: #E2EBFA;\n",
              "      box-shadow: 0px 1px 2px rgba(60, 64, 67, 0.3), 0px 1px 3px 1px rgba(60, 64, 67, 0.15);\n",
              "      fill: #174EA6;\n",
              "    }\n",
              "\n",
              "    [theme=dark] .colab-df-convert {\n",
              "      background-color: #3B4455;\n",
              "      fill: #D2E3FC;\n",
              "    }\n",
              "\n",
              "    [theme=dark] .colab-df-convert:hover {\n",
              "      background-color: #434B5C;\n",
              "      box-shadow: 0px 1px 3px 1px rgba(0, 0, 0, 0.15);\n",
              "      filter: drop-shadow(0px 1px 2px rgba(0, 0, 0, 0.3));\n",
              "      fill: #FFFFFF;\n",
              "    }\n",
              "  </style>\n",
              "\n",
              "      <script>\n",
              "        const buttonEl =\n",
              "          document.querySelector('#df-9f6ed8d6-70cd-49af-adf3-185806eac4e3 button.colab-df-convert');\n",
              "        buttonEl.style.display =\n",
              "          google.colab.kernel.accessAllowed ? 'block' : 'none';\n",
              "\n",
              "        async function convertToInteractive(key) {\n",
              "          const element = document.querySelector('#df-9f6ed8d6-70cd-49af-adf3-185806eac4e3');\n",
              "          const dataTable =\n",
              "            await google.colab.kernel.invokeFunction('convertToInteractive',\n",
              "                                                     [key], {});\n",
              "          if (!dataTable) return;\n",
              "\n",
              "          const docLinkHtml = 'Like what you see? Visit the ' +\n",
              "            '<a target=\"_blank\" href=https://colab.research.google.com/notebooks/data_table.ipynb>data table notebook</a>'\n",
              "            + ' to learn more about interactive tables.';\n",
              "          element.innerHTML = '';\n",
              "          dataTable['output_type'] = 'display_data';\n",
              "          await google.colab.output.renderOutput(dataTable, element);\n",
              "          const docLink = document.createElement('div');\n",
              "          docLink.innerHTML = docLinkHtml;\n",
              "          element.appendChild(docLink);\n",
              "        }\n",
              "      </script>\n",
              "    </div>\n",
              "  </div>\n",
              "  "
            ]
          },
          "metadata": {},
          "execution_count": 57
        }
      ]
    },
    {
      "cell_type": "code",
      "source": [
        "y = df['round_winner']\n",
        "X = df.drop(['round_winner'], axis = 1)"
      ],
      "metadata": {
        "id": "7GG98DxKtqX0"
      },
      "id": "7GG98DxKtqX0",
      "execution_count": null,
      "outputs": []
    },
    {
      "cell_type": "code",
      "source": [
        "X.shape"
      ],
      "metadata": {
        "colab": {
          "base_uri": "https://localhost:8080/"
        },
        "id": "HdJaT4wmt0YQ",
        "outputId": "8ef0c269-2329-4e79-8be7-385bd53e9264"
      },
      "id": "HdJaT4wmt0YQ",
      "execution_count": null,
      "outputs": [
        {
          "output_type": "execute_result",
          "data": {
            "text/plain": [
              "(122410, 104)"
            ]
          },
          "metadata": {},
          "execution_count": 59
        }
      ]
    },
    {
      "cell_type": "code",
      "source": [
        "y.shape"
      ],
      "metadata": {
        "colab": {
          "base_uri": "https://localhost:8080/"
        },
        "id": "4Nd_6VZ8t2Fz",
        "outputId": "40d504ef-8c70-41ae-ca7f-6e508c910aab"
      },
      "id": "4Nd_6VZ8t2Fz",
      "execution_count": null,
      "outputs": [
        {
          "output_type": "execute_result",
          "data": {
            "text/plain": [
              "(122410,)"
            ]
          },
          "metadata": {},
          "execution_count": 60
        }
      ]
    },
    {
      "cell_type": "code",
      "source": [
        "X_train, X_test, y_train, y_test = train_test_split(X, y, test_size=0.3, random_state=42)"
      ],
      "metadata": {
        "id": "R2KDm-IjthZo"
      },
      "id": "R2KDm-IjthZo",
      "execution_count": null,
      "outputs": []
    },
    {
      "cell_type": "code",
      "source": [
        "X_test.shape"
      ],
      "metadata": {
        "colab": {
          "base_uri": "https://localhost:8080/"
        },
        "id": "lHTbXiv3uAWp",
        "outputId": "66f89e73-3e5d-4dce-d8f8-d658aa033423"
      },
      "id": "lHTbXiv3uAWp",
      "execution_count": null,
      "outputs": [
        {
          "output_type": "execute_result",
          "data": {
            "text/plain": [
              "(36723, 104)"
            ]
          },
          "metadata": {},
          "execution_count": 62
        }
      ]
    },
    {
      "cell_type": "code",
      "source": [
        "y_test.shape"
      ],
      "metadata": {
        "colab": {
          "base_uri": "https://localhost:8080/"
        },
        "id": "GqnhX3z0uDDL",
        "outputId": "75d9a057-cfb8-4bcf-b625-d48c216739da"
      },
      "id": "GqnhX3z0uDDL",
      "execution_count": null,
      "outputs": [
        {
          "output_type": "execute_result",
          "data": {
            "text/plain": [
              "(36723,)"
            ]
          },
          "metadata": {},
          "execution_count": 63
        }
      ]
    },
    {
      "cell_type": "markdown",
      "id": "7409eb9f",
      "metadata": {
        "id": "7409eb9f"
      },
      "source": [
        "## Bagging"
      ]
    },
    {
      "cell_type": "code",
      "execution_count": null,
      "id": "e5acb230",
      "metadata": {
        "id": "e5acb230"
      },
      "outputs": [],
      "source": [
        "#обучим лес"
      ]
    },
    {
      "cell_type": "code",
      "source": [
        "random_forest_clf = RandomForestClassifier(max_depth=3, random_state=42, n_estimators=5)\n",
        "random_forest_clf.fit(X_train, y_train)"
      ],
      "metadata": {
        "colab": {
          "base_uri": "https://localhost:8080/"
        },
        "id": "OWE2I4G5sAsi",
        "outputId": "b0d169ab-9707-4dd6-e3c2-d9de5dc92f10"
      },
      "id": "OWE2I4G5sAsi",
      "execution_count": null,
      "outputs": [
        {
          "output_type": "execute_result",
          "data": {
            "text/plain": [
              "RandomForestClassifier(max_depth=3, n_estimators=5, random_state=42)"
            ]
          },
          "metadata": {},
          "execution_count": 65
        }
      ]
    },
    {
      "cell_type": "code",
      "source": [
        "y_pred = random_forest_clf.predict(X_test)"
      ],
      "metadata": {
        "id": "retXzKKeuvx1"
      },
      "id": "retXzKKeuvx1",
      "execution_count": null,
      "outputs": []
    },
    {
      "cell_type": "code",
      "source": [
        "y_pred"
      ],
      "metadata": {
        "id": "YGDX-Gapxr5f",
        "outputId": "6b0f713f-172f-4b03-d53e-4811d06743aa",
        "colab": {
          "base_uri": "https://localhost:8080/"
        }
      },
      "id": "YGDX-Gapxr5f",
      "execution_count": null,
      "outputs": [
        {
          "output_type": "execute_result",
          "data": {
            "text/plain": [
              "array([0, 1, 1, ..., 0, 1, 1])"
            ]
          },
          "metadata": {},
          "execution_count": 67
        }
      ]
    },
    {
      "cell_type": "code",
      "source": [
        "for i, estimator in enumerate(random_forest_clf.estimators_):\n",
        "  export_graphviz(estimator, feature_names = X.columns, out_file = f\"{i}_rf.dot\", filled=True)"
      ],
      "metadata": {
        "id": "9ITS7NQQwypE"
      },
      "id": "9ITS7NQQwypE",
      "execution_count": null,
      "outputs": []
    },
    {
      "cell_type": "code",
      "source": [
        "!dot -Tpng '4_rf.dot' -o '4_rf.png'"
      ],
      "metadata": {
        "id": "y40C0-oexSPp"
      },
      "id": "y40C0-oexSPp",
      "execution_count": null,
      "outputs": []
    },
    {
      "cell_type": "code",
      "source": [
        "print(classification_report(y_pred, y_test))"
      ],
      "metadata": {
        "colab": {
          "base_uri": "https://localhost:8080/"
        },
        "id": "HAKpYU397Lzy",
        "outputId": "0e638c61-f8af-49bc-ec1f-c8f40180e02d"
      },
      "id": "HAKpYU397Lzy",
      "execution_count": null,
      "outputs": [
        {
          "output_type": "stream",
          "name": "stdout",
          "text": [
            "              precision    recall  f1-score   support\n",
            "\n",
            "           0       0.71      0.72      0.72     18435\n",
            "           1       0.72      0.71      0.71     18288\n",
            "\n",
            "    accuracy                           0.72     36723\n",
            "   macro avg       0.72      0.72      0.72     36723\n",
            "weighted avg       0.72      0.72      0.72     36723\n",
            "\n"
          ]
        }
      ]
    },
    {
      "cell_type": "code",
      "execution_count": null,
      "id": "c6d113f4",
      "metadata": {
        "id": "c6d113f4"
      },
      "outputs": [],
      "source": [
        "#визуализируем деревья в лесу"
      ]
    },
    {
      "cell_type": "code",
      "execution_count": null,
      "id": "24afae91",
      "metadata": {
        "id": "24afae91"
      },
      "outputs": [],
      "source": [
        "#то же самое, только с помощью GridSearchView"
      ]
    },
    {
      "cell_type": "code",
      "source": [
        "rfc =RandomForestClassifier(random_state=42)\n",
        "params_grid = { \n",
        "    'n_estimators': [5, 10],\n",
        "    'max_depth': [4,5,6],\n",
        "    'criterion': ['gini', 'entropy']\n",
        "}"
      ],
      "metadata": {
        "id": "XgLyLxov7YMc"
      },
      "id": "XgLyLxov7YMc",
      "execution_count": null,
      "outputs": []
    },
    {
      "cell_type": "code",
      "source": [
        "CV_rfc = GridSearchCV(estimator=rfc, param_grid=params_grid, cv=5)\n",
        "CV_rfc.fit(X_train, y_train)"
      ],
      "metadata": {
        "colab": {
          "base_uri": "https://localhost:8080/"
        },
        "id": "WgOR8AAI8euE",
        "outputId": "1eb1d8d5-6239-4138-d792-220548750330"
      },
      "id": "WgOR8AAI8euE",
      "execution_count": null,
      "outputs": [
        {
          "output_type": "execute_result",
          "data": {
            "text/plain": [
              "GridSearchCV(cv=5, estimator=RandomForestClassifier(random_state=42),\n",
              "             param_grid={'criterion': ['gini', 'entropy'],\n",
              "                         'max_depth': [4, 5, 6], 'n_estimators': [5, 10]})"
            ]
          },
          "metadata": {},
          "execution_count": 83
        }
      ]
    },
    {
      "cell_type": "code",
      "source": [
        "CV_rfc.best_estimator_"
      ],
      "metadata": {
        "colab": {
          "base_uri": "https://localhost:8080/"
        },
        "id": "42OvWv4i9J7I",
        "outputId": "a9271dfe-fff6-48f4-c81c-f1bff9247276"
      },
      "id": "42OvWv4i9J7I",
      "execution_count": null,
      "outputs": [
        {
          "output_type": "execute_result",
          "data": {
            "text/plain": [
              "RandomForestClassifier(max_depth=6, n_estimators=10, random_state=42)"
            ]
          },
          "metadata": {},
          "execution_count": 87
        }
      ]
    },
    {
      "cell_type": "code",
      "source": [
        "y_pred  = CV_rfc.predict(X_test)"
      ],
      "metadata": {
        "id": "iOzX5F5y9FNn"
      },
      "id": "iOzX5F5y9FNn",
      "execution_count": null,
      "outputs": []
    },
    {
      "cell_type": "code",
      "source": [
        "for i, estimator in enumerate(CV_rfc.best_estimator_.estimators_):\n",
        "  export_graphviz(estimator, feature_names = X.columns, out_file = f\"{i}_rf.dot\", filled=True)"
      ],
      "metadata": {
        "id": "UZ2y4Rmt-KBJ"
      },
      "id": "UZ2y4Rmt-KBJ",
      "execution_count": null,
      "outputs": []
    },
    {
      "cell_type": "code",
      "source": [
        "!dot -Tpng '4_rf.dot' -o '4_rf.png'"
      ],
      "metadata": {
        "id": "AexIRfWj-etn"
      },
      "id": "AexIRfWj-etn",
      "execution_count": null,
      "outputs": []
    },
    {
      "cell_type": "code",
      "execution_count": null,
      "id": "e253fd76",
      "metadata": {
        "id": "e253fd76"
      },
      "outputs": [],
      "source": [
        "#сравнить метрики"
      ]
    },
    {
      "cell_type": "markdown",
      "id": "1196c1a6",
      "metadata": {
        "id": "1196c1a6"
      },
      "source": [
        "## Stacking"
      ]
    },
    {
      "cell_type": "markdown",
      "source": [
        "![image.png](data:image/png;base64,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)"
      ],
      "metadata": {
        "id": "VgZqTkPwAwYv"
      },
      "id": "VgZqTkPwAwYv"
    },
    {
      "cell_type": "code",
      "execution_count": null,
      "id": "88f4c674",
      "metadata": {
        "id": "88f4c674"
      },
      "outputs": [],
      "source": [
        "#сделать несколько эстиматоров"
      ]
    },
    {
      "cell_type": "code",
      "source": [
        "from sklearn.svm import LinearSVC\n",
        "\n",
        "#базовые простые алгоритмы\n",
        "estimators = [\n",
        "    ('rf', RandomForestClassifier(n_estimators=3, random_state=42)),\n",
        "    ('svc', LinearSVC(random_state=42))\n",
        "]"
      ],
      "metadata": {
        "id": "XLRgtUnYA-LW"
      },
      "id": "XLRgtUnYA-LW",
      "execution_count": null,
      "outputs": []
    },
    {
      "cell_type": "code",
      "source": [
        "meta_estimator = LogisticRegression(random_state=42)"
      ],
      "metadata": {
        "id": "7toujwSMB0T7"
      },
      "id": "7toujwSMB0T7",
      "execution_count": null,
      "outputs": []
    },
    {
      "cell_type": "code",
      "source": [
        "from sklearn.ensemble import StackingClassifier\n",
        "stacking = StackingClassifier(estimators= estimators, final_estimator=meta_estimator)"
      ],
      "metadata": {
        "id": "erRXqHfuCCEB"
      },
      "id": "erRXqHfuCCEB",
      "execution_count": null,
      "outputs": []
    },
    {
      "cell_type": "code",
      "source": [
        "stacking.fit(X_train, y_train)\n",
        "y_pred = stacking.predict(X_test)\n",
        "print(classification_report(y_test, y_pred))"
      ],
      "metadata": {
        "colab": {
          "base_uri": "https://localhost:8080/"
        },
        "id": "tjw6oefaCc1H",
        "outputId": "8ac41283-e1de-49e7-9c36-e4619e3bdafc"
      },
      "id": "tjw6oefaCc1H",
      "execution_count": null,
      "outputs": [
        {
          "output_type": "stream",
          "name": "stderr",
          "text": [
            "/usr/local/lib/python3.7/dist-packages/sklearn/svm/_base.py:1208: ConvergenceWarning: Liblinear failed to converge, increase the number of iterations.\n",
            "  ConvergenceWarning,\n",
            "/usr/local/lib/python3.7/dist-packages/sklearn/svm/_base.py:1208: ConvergenceWarning: Liblinear failed to converge, increase the number of iterations.\n",
            "  ConvergenceWarning,\n",
            "/usr/local/lib/python3.7/dist-packages/sklearn/svm/_base.py:1208: ConvergenceWarning: Liblinear failed to converge, increase the number of iterations.\n",
            "  ConvergenceWarning,\n",
            "/usr/local/lib/python3.7/dist-packages/sklearn/svm/_base.py:1208: ConvergenceWarning: Liblinear failed to converge, increase the number of iterations.\n",
            "  ConvergenceWarning,\n",
            "/usr/local/lib/python3.7/dist-packages/sklearn/svm/_base.py:1208: ConvergenceWarning: Liblinear failed to converge, increase the number of iterations.\n",
            "  ConvergenceWarning,\n",
            "/usr/local/lib/python3.7/dist-packages/sklearn/svm/_base.py:1208: ConvergenceWarning: Liblinear failed to converge, increase the number of iterations.\n",
            "  ConvergenceWarning,\n"
          ]
        },
        {
          "output_type": "stream",
          "name": "stdout",
          "text": [
            "              precision    recall  f1-score   support\n",
            "\n",
            "           0       0.80      0.80      0.80     18669\n",
            "           1       0.80      0.80      0.80     18054\n",
            "\n",
            "    accuracy                           0.80     36723\n",
            "   macro avg       0.80      0.80      0.80     36723\n",
            "weighted avg       0.80      0.80      0.80     36723\n",
            "\n"
          ]
        }
      ]
    },
    {
      "cell_type": "code",
      "source": [],
      "metadata": {
        "id": "vbxGub7kCzTR"
      },
      "id": "vbxGub7kCzTR",
      "execution_count": null,
      "outputs": []
    }
  ],
  "metadata": {
    "kernelspec": {
      "display_name": "Python 3 (ipykernel)",
      "language": "python",
      "name": "python3"
    },
    "language_info": {
      "codemirror_mode": {
        "name": "ipython",
        "version": 3
      },
      "file_extension": ".py",
      "mimetype": "text/x-python",
      "name": "python",
      "nbconvert_exporter": "python",
      "pygments_lexer": "ipython3",
      "version": "3.8.10"
    },
    "colab": {
      "provenance": []
    }
  },
  "nbformat": 4,
  "nbformat_minor": 5
}