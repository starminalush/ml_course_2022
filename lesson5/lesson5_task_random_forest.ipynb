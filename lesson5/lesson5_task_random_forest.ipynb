{
 "cells": [
  {
   "cell_type": "markdown",
   "id": "10d41a58",
   "metadata": {},
   "source": [
    "## Импорты"
   ]
  },
  {
   "cell_type": "code",
   "execution_count": 1,
   "id": "cbad34d7",
   "metadata": {},
   "outputs": [],
   "source": [
    "import pandas as pd\n",
    "from sklearn.linear_model import LogisticRegression\n",
    "from sklearn.svm import SVC\n",
    "from sklearn.metrics import classification_report,accuracy_score,confusion_matrix,plot_confusion_matrix\n",
    "from sklearn.model_selection import train_test_split, GridSearchCV\n",
    "from sklearn.tree import plot_tree, export_graphviz, DecisionTreeClassifier\n",
    "from sklearn.pipeline import make_pipeline\n",
    "from sklearn.ensemble import BaggingClassifier, RandomForestClassifier, ExtraTreesClassifier, GradientBoostingClassifier\n",
    "import matplotlib.pyplot as plt\n",
    "import math"
   ]
  },
  {
   "cell_type": "markdown",
   "id": "32154d02",
   "metadata": {},
   "source": [
    "## Анализ данных"
   ]
  },
  {
   "cell_type": "code",
   "execution_count": 2,
   "id": "9fc9b825",
   "metadata": {},
   "outputs": [
    {
     "data": {
      "text/html": [
       "<div>\n",
       "<style scoped>\n",
       "    .dataframe tbody tr th:only-of-type {\n",
       "        vertical-align: middle;\n",
       "    }\n",
       "\n",
       "    .dataframe tbody tr th {\n",
       "        vertical-align: top;\n",
       "    }\n",
       "\n",
       "    .dataframe thead th {\n",
       "        text-align: right;\n",
       "    }\n",
       "</style>\n",
       "<table border=\"1\" class=\"dataframe\">\n",
       "  <thead>\n",
       "    <tr style=\"text-align: right;\">\n",
       "      <th></th>\n",
       "      <th>time_left</th>\n",
       "      <th>ct_score</th>\n",
       "      <th>t_score</th>\n",
       "      <th>map</th>\n",
       "      <th>bomb_planted</th>\n",
       "      <th>ct_health</th>\n",
       "      <th>t_health</th>\n",
       "      <th>ct_armor</th>\n",
       "      <th>t_armor</th>\n",
       "      <th>ct_money</th>\n",
       "      <th>...</th>\n",
       "      <th>t_grenade_flashbang</th>\n",
       "      <th>ct_grenade_smokegrenade</th>\n",
       "      <th>t_grenade_smokegrenade</th>\n",
       "      <th>ct_grenade_incendiarygrenade</th>\n",
       "      <th>t_grenade_incendiarygrenade</th>\n",
       "      <th>ct_grenade_molotovgrenade</th>\n",
       "      <th>t_grenade_molotovgrenade</th>\n",
       "      <th>ct_grenade_decoygrenade</th>\n",
       "      <th>t_grenade_decoygrenade</th>\n",
       "      <th>round_winner</th>\n",
       "    </tr>\n",
       "  </thead>\n",
       "  <tbody>\n",
       "    <tr>\n",
       "      <th>0</th>\n",
       "      <td>175.00</td>\n",
       "      <td>0.0</td>\n",
       "      <td>0.0</td>\n",
       "      <td>de_dust2</td>\n",
       "      <td>False</td>\n",
       "      <td>500.0</td>\n",
       "      <td>500.0</td>\n",
       "      <td>0.0</td>\n",
       "      <td>0.0</td>\n",
       "      <td>4000.0</td>\n",
       "      <td>...</td>\n",
       "      <td>0.0</td>\n",
       "      <td>0.0</td>\n",
       "      <td>0.0</td>\n",
       "      <td>0.0</td>\n",
       "      <td>0.0</td>\n",
       "      <td>0.0</td>\n",
       "      <td>0.0</td>\n",
       "      <td>0.0</td>\n",
       "      <td>0.0</td>\n",
       "      <td>CT</td>\n",
       "    </tr>\n",
       "    <tr>\n",
       "      <th>1</th>\n",
       "      <td>156.03</td>\n",
       "      <td>0.0</td>\n",
       "      <td>0.0</td>\n",
       "      <td>de_dust2</td>\n",
       "      <td>False</td>\n",
       "      <td>500.0</td>\n",
       "      <td>500.0</td>\n",
       "      <td>400.0</td>\n",
       "      <td>300.0</td>\n",
       "      <td>600.0</td>\n",
       "      <td>...</td>\n",
       "      <td>0.0</td>\n",
       "      <td>0.0</td>\n",
       "      <td>2.0</td>\n",
       "      <td>0.0</td>\n",
       "      <td>0.0</td>\n",
       "      <td>0.0</td>\n",
       "      <td>0.0</td>\n",
       "      <td>0.0</td>\n",
       "      <td>0.0</td>\n",
       "      <td>CT</td>\n",
       "    </tr>\n",
       "    <tr>\n",
       "      <th>2</th>\n",
       "      <td>96.03</td>\n",
       "      <td>0.0</td>\n",
       "      <td>0.0</td>\n",
       "      <td>de_dust2</td>\n",
       "      <td>False</td>\n",
       "      <td>391.0</td>\n",
       "      <td>400.0</td>\n",
       "      <td>294.0</td>\n",
       "      <td>200.0</td>\n",
       "      <td>750.0</td>\n",
       "      <td>...</td>\n",
       "      <td>0.0</td>\n",
       "      <td>0.0</td>\n",
       "      <td>2.0</td>\n",
       "      <td>0.0</td>\n",
       "      <td>0.0</td>\n",
       "      <td>0.0</td>\n",
       "      <td>0.0</td>\n",
       "      <td>0.0</td>\n",
       "      <td>0.0</td>\n",
       "      <td>CT</td>\n",
       "    </tr>\n",
       "    <tr>\n",
       "      <th>3</th>\n",
       "      <td>76.03</td>\n",
       "      <td>0.0</td>\n",
       "      <td>0.0</td>\n",
       "      <td>de_dust2</td>\n",
       "      <td>False</td>\n",
       "      <td>391.0</td>\n",
       "      <td>400.0</td>\n",
       "      <td>294.0</td>\n",
       "      <td>200.0</td>\n",
       "      <td>750.0</td>\n",
       "      <td>...</td>\n",
       "      <td>0.0</td>\n",
       "      <td>0.0</td>\n",
       "      <td>0.0</td>\n",
       "      <td>0.0</td>\n",
       "      <td>0.0</td>\n",
       "      <td>0.0</td>\n",
       "      <td>0.0</td>\n",
       "      <td>0.0</td>\n",
       "      <td>0.0</td>\n",
       "      <td>CT</td>\n",
       "    </tr>\n",
       "    <tr>\n",
       "      <th>4</th>\n",
       "      <td>174.97</td>\n",
       "      <td>1.0</td>\n",
       "      <td>0.0</td>\n",
       "      <td>de_dust2</td>\n",
       "      <td>False</td>\n",
       "      <td>500.0</td>\n",
       "      <td>500.0</td>\n",
       "      <td>192.0</td>\n",
       "      <td>0.0</td>\n",
       "      <td>18350.0</td>\n",
       "      <td>...</td>\n",
       "      <td>0.0</td>\n",
       "      <td>0.0</td>\n",
       "      <td>0.0</td>\n",
       "      <td>0.0</td>\n",
       "      <td>0.0</td>\n",
       "      <td>0.0</td>\n",
       "      <td>0.0</td>\n",
       "      <td>0.0</td>\n",
       "      <td>0.0</td>\n",
       "      <td>CT</td>\n",
       "    </tr>\n",
       "  </tbody>\n",
       "</table>\n",
       "<p>5 rows × 97 columns</p>\n",
       "</div>"
      ],
      "text/plain": [
       "   time_left  ct_score  t_score       map  bomb_planted  ct_health  t_health  \\\n",
       "0     175.00       0.0      0.0  de_dust2         False      500.0     500.0   \n",
       "1     156.03       0.0      0.0  de_dust2         False      500.0     500.0   \n",
       "2      96.03       0.0      0.0  de_dust2         False      391.0     400.0   \n",
       "3      76.03       0.0      0.0  de_dust2         False      391.0     400.0   \n",
       "4     174.97       1.0      0.0  de_dust2         False      500.0     500.0   \n",
       "\n",
       "   ct_armor  t_armor  ct_money  ...  t_grenade_flashbang  \\\n",
       "0       0.0      0.0    4000.0  ...                  0.0   \n",
       "1     400.0    300.0     600.0  ...                  0.0   \n",
       "2     294.0    200.0     750.0  ...                  0.0   \n",
       "3     294.0    200.0     750.0  ...                  0.0   \n",
       "4     192.0      0.0   18350.0  ...                  0.0   \n",
       "\n",
       "   ct_grenade_smokegrenade  t_grenade_smokegrenade  \\\n",
       "0                      0.0                     0.0   \n",
       "1                      0.0                     2.0   \n",
       "2                      0.0                     2.0   \n",
       "3                      0.0                     0.0   \n",
       "4                      0.0                     0.0   \n",
       "\n",
       "   ct_grenade_incendiarygrenade  t_grenade_incendiarygrenade  \\\n",
       "0                           0.0                          0.0   \n",
       "1                           0.0                          0.0   \n",
       "2                           0.0                          0.0   \n",
       "3                           0.0                          0.0   \n",
       "4                           0.0                          0.0   \n",
       "\n",
       "   ct_grenade_molotovgrenade  t_grenade_molotovgrenade  \\\n",
       "0                        0.0                       0.0   \n",
       "1                        0.0                       0.0   \n",
       "2                        0.0                       0.0   \n",
       "3                        0.0                       0.0   \n",
       "4                        0.0                       0.0   \n",
       "\n",
       "   ct_grenade_decoygrenade  t_grenade_decoygrenade  round_winner  \n",
       "0                      0.0                     0.0            CT  \n",
       "1                      0.0                     0.0            CT  \n",
       "2                      0.0                     0.0            CT  \n",
       "3                      0.0                     0.0            CT  \n",
       "4                      0.0                     0.0            CT  \n",
       "\n",
       "[5 rows x 97 columns]"
      ]
     },
     "execution_count": 2,
     "metadata": {},
     "output_type": "execute_result"
    }
   ],
   "source": [
    "df  = pd.read_csv('csgo_round_snapshots.csv')\n",
    "df.head()"
   ]
  },
  {
   "cell_type": "code",
   "execution_count": 3,
   "id": "c68f7791",
   "metadata": {},
   "outputs": [
    {
     "data": {
      "text/plain": [
       "Index(['time_left', 'ct_score', 't_score', 'map', 'bomb_planted', 'ct_health',\n",
       "       't_health', 'ct_armor', 't_armor', 'ct_money', 't_money', 'ct_helmets',\n",
       "       't_helmets', 'ct_defuse_kits', 'ct_players_alive', 't_players_alive',\n",
       "       'ct_weapon_ak47', 't_weapon_ak47', 'ct_weapon_aug', 't_weapon_aug',\n",
       "       'ct_weapon_awp', 't_weapon_awp', 'ct_weapon_bizon', 't_weapon_bizon',\n",
       "       'ct_weapon_cz75auto', 't_weapon_cz75auto', 'ct_weapon_elite',\n",
       "       't_weapon_elite', 'ct_weapon_famas', 't_weapon_famas',\n",
       "       'ct_weapon_g3sg1', 't_weapon_g3sg1', 'ct_weapon_galilar',\n",
       "       't_weapon_galilar', 'ct_weapon_glock', 't_weapon_glock',\n",
       "       'ct_weapon_m249', 't_weapon_m249', 'ct_weapon_m4a1s', 't_weapon_m4a1s',\n",
       "       'ct_weapon_m4a4', 't_weapon_m4a4', 'ct_weapon_mac10', 't_weapon_mac10',\n",
       "       'ct_weapon_mag7', 't_weapon_mag7', 'ct_weapon_mp5sd', 't_weapon_mp5sd',\n",
       "       'ct_weapon_mp7', 't_weapon_mp7', 'ct_weapon_mp9', 't_weapon_mp9',\n",
       "       'ct_weapon_negev', 't_weapon_negev', 'ct_weapon_nova', 't_weapon_nova',\n",
       "       'ct_weapon_p90', 't_weapon_p90', 'ct_weapon_r8revolver',\n",
       "       't_weapon_r8revolver', 'ct_weapon_sawedoff', 't_weapon_sawedoff',\n",
       "       'ct_weapon_scar20', 't_weapon_scar20', 'ct_weapon_sg553',\n",
       "       't_weapon_sg553', 'ct_weapon_ssg08', 't_weapon_ssg08',\n",
       "       'ct_weapon_ump45', 't_weapon_ump45', 'ct_weapon_xm1014',\n",
       "       't_weapon_xm1014', 'ct_weapon_deagle', 't_weapon_deagle',\n",
       "       'ct_weapon_fiveseven', 't_weapon_fiveseven', 'ct_weapon_usps',\n",
       "       't_weapon_usps', 'ct_weapon_p250', 't_weapon_p250', 'ct_weapon_p2000',\n",
       "       't_weapon_p2000', 'ct_weapon_tec9', 't_weapon_tec9',\n",
       "       'ct_grenade_hegrenade', 't_grenade_hegrenade', 'ct_grenade_flashbang',\n",
       "       't_grenade_flashbang', 'ct_grenade_smokegrenade',\n",
       "       't_grenade_smokegrenade', 'ct_grenade_incendiarygrenade',\n",
       "       't_grenade_incendiarygrenade', 'ct_grenade_molotovgrenade',\n",
       "       't_grenade_molotovgrenade', 'ct_grenade_decoygrenade',\n",
       "       't_grenade_decoygrenade', 'round_winner'],\n",
       "      dtype='object')"
      ]
     },
     "execution_count": 3,
     "metadata": {},
     "output_type": "execute_result"
    }
   ],
   "source": [
    "df.columns"
   ]
  },
  {
   "cell_type": "code",
   "execution_count": 4,
   "id": "b02b2caf",
   "metadata": {},
   "outputs": [
    {
     "name": "stdout",
     "output_type": "stream",
     "text": [
      "<class 'pandas.core.frame.DataFrame'>\n",
      "RangeIndex: 122410 entries, 0 to 122409\n",
      "Data columns (total 97 columns):\n",
      " #   Column                        Non-Null Count   Dtype  \n",
      "---  ------                        --------------   -----  \n",
      " 0   time_left                     122410 non-null  float64\n",
      " 1   ct_score                      122410 non-null  float64\n",
      " 2   t_score                       122410 non-null  float64\n",
      " 3   map                           122410 non-null  object \n",
      " 4   bomb_planted                  122410 non-null  bool   \n",
      " 5   ct_health                     122410 non-null  float64\n",
      " 6   t_health                      122410 non-null  float64\n",
      " 7   ct_armor                      122410 non-null  float64\n",
      " 8   t_armor                       122410 non-null  float64\n",
      " 9   ct_money                      122410 non-null  float64\n",
      " 10  t_money                       122410 non-null  float64\n",
      " 11  ct_helmets                    122410 non-null  float64\n",
      " 12  t_helmets                     122410 non-null  float64\n",
      " 13  ct_defuse_kits                122410 non-null  float64\n",
      " 14  ct_players_alive              122410 non-null  float64\n",
      " 15  t_players_alive               122410 non-null  float64\n",
      " 16  ct_weapon_ak47                122410 non-null  float64\n",
      " 17  t_weapon_ak47                 122410 non-null  float64\n",
      " 18  ct_weapon_aug                 122410 non-null  float64\n",
      " 19  t_weapon_aug                  122410 non-null  float64\n",
      " 20  ct_weapon_awp                 122410 non-null  float64\n",
      " 21  t_weapon_awp                  122410 non-null  float64\n",
      " 22  ct_weapon_bizon               122410 non-null  float64\n",
      " 23  t_weapon_bizon                122410 non-null  float64\n",
      " 24  ct_weapon_cz75auto            122410 non-null  float64\n",
      " 25  t_weapon_cz75auto             122410 non-null  float64\n",
      " 26  ct_weapon_elite               122410 non-null  float64\n",
      " 27  t_weapon_elite                122410 non-null  float64\n",
      " 28  ct_weapon_famas               122410 non-null  float64\n",
      " 29  t_weapon_famas                122410 non-null  float64\n",
      " 30  ct_weapon_g3sg1               122410 non-null  float64\n",
      " 31  t_weapon_g3sg1                122410 non-null  float64\n",
      " 32  ct_weapon_galilar             122410 non-null  float64\n",
      " 33  t_weapon_galilar              122410 non-null  float64\n",
      " 34  ct_weapon_glock               122410 non-null  float64\n",
      " 35  t_weapon_glock                122410 non-null  float64\n",
      " 36  ct_weapon_m249                122410 non-null  float64\n",
      " 37  t_weapon_m249                 122410 non-null  float64\n",
      " 38  ct_weapon_m4a1s               122410 non-null  float64\n",
      " 39  t_weapon_m4a1s                122410 non-null  float64\n",
      " 40  ct_weapon_m4a4                122410 non-null  float64\n",
      " 41  t_weapon_m4a4                 122410 non-null  float64\n",
      " 42  ct_weapon_mac10               122410 non-null  float64\n",
      " 43  t_weapon_mac10                122410 non-null  float64\n",
      " 44  ct_weapon_mag7                122410 non-null  float64\n",
      " 45  t_weapon_mag7                 122410 non-null  float64\n",
      " 46  ct_weapon_mp5sd               122410 non-null  float64\n",
      " 47  t_weapon_mp5sd                122410 non-null  float64\n",
      " 48  ct_weapon_mp7                 122410 non-null  float64\n",
      " 49  t_weapon_mp7                  122410 non-null  float64\n",
      " 50  ct_weapon_mp9                 122410 non-null  float64\n",
      " 51  t_weapon_mp9                  122410 non-null  float64\n",
      " 52  ct_weapon_negev               122410 non-null  float64\n",
      " 53  t_weapon_negev                122410 non-null  float64\n",
      " 54  ct_weapon_nova                122410 non-null  float64\n",
      " 55  t_weapon_nova                 122410 non-null  float64\n",
      " 56  ct_weapon_p90                 122410 non-null  float64\n",
      " 57  t_weapon_p90                  122410 non-null  float64\n",
      " 58  ct_weapon_r8revolver          122410 non-null  float64\n",
      " 59  t_weapon_r8revolver           122410 non-null  float64\n",
      " 60  ct_weapon_sawedoff            122410 non-null  float64\n",
      " 61  t_weapon_sawedoff             122410 non-null  float64\n",
      " 62  ct_weapon_scar20              122410 non-null  float64\n",
      " 63  t_weapon_scar20               122410 non-null  float64\n",
      " 64  ct_weapon_sg553               122410 non-null  float64\n",
      " 65  t_weapon_sg553                122410 non-null  float64\n",
      " 66  ct_weapon_ssg08               122410 non-null  float64\n",
      " 67  t_weapon_ssg08                122410 non-null  float64\n",
      " 68  ct_weapon_ump45               122410 non-null  float64\n",
      " 69  t_weapon_ump45                122410 non-null  float64\n",
      " 70  ct_weapon_xm1014              122410 non-null  float64\n",
      " 71  t_weapon_xm1014               122410 non-null  float64\n",
      " 72  ct_weapon_deagle              122410 non-null  float64\n",
      " 73  t_weapon_deagle               122410 non-null  float64\n",
      " 74  ct_weapon_fiveseven           122410 non-null  float64\n",
      " 75  t_weapon_fiveseven            122410 non-null  float64\n",
      " 76  ct_weapon_usps                122410 non-null  float64\n",
      " 77  t_weapon_usps                 122410 non-null  float64\n",
      " 78  ct_weapon_p250                122410 non-null  float64\n",
      " 79  t_weapon_p250                 122410 non-null  float64\n",
      " 80  ct_weapon_p2000               122410 non-null  float64\n",
      " 81  t_weapon_p2000                122410 non-null  float64\n",
      " 82  ct_weapon_tec9                122410 non-null  float64\n",
      " 83  t_weapon_tec9                 122410 non-null  float64\n",
      " 84  ct_grenade_hegrenade          122410 non-null  float64\n",
      " 85  t_grenade_hegrenade           122410 non-null  float64\n",
      " 86  ct_grenade_flashbang          122410 non-null  float64\n",
      " 87  t_grenade_flashbang           122410 non-null  float64\n",
      " 88  ct_grenade_smokegrenade       122410 non-null  float64\n",
      " 89  t_grenade_smokegrenade        122410 non-null  float64\n",
      " 90  ct_grenade_incendiarygrenade  122410 non-null  float64\n",
      " 91  t_grenade_incendiarygrenade   122410 non-null  float64\n",
      " 92  ct_grenade_molotovgrenade     122410 non-null  float64\n",
      " 93  t_grenade_molotovgrenade      122410 non-null  float64\n",
      " 94  ct_grenade_decoygrenade       122410 non-null  float64\n",
      " 95  t_grenade_decoygrenade        122410 non-null  float64\n",
      " 96  round_winner                  122410 non-null  object \n",
      "dtypes: bool(1), float64(94), object(2)\n",
      "memory usage: 89.8+ MB\n"
     ]
    }
   ],
   "source": [
    "df.info()"
   ]
  },
  {
   "cell_type": "code",
   "execution_count": 5,
   "id": "62ad00a7",
   "metadata": {},
   "outputs": [],
   "source": [
    "def bar_plot(variable):\n",
    "    var = df[variable]\n",
    "    varValue = var.value_counts()\n",
    "    \n",
    "    plt.figure(figsize = (9,3))\n",
    "    plt.bar(varValue.index, varValue)\n",
    "    plt.xticks(varValue.index, varValue.index.values)\n",
    "    plt.ylabel(\"Frequency\")\n",
    "    plt.title(variable)\n",
    "    plt.show()\n",
    "    print(\"{}: \\n {}\".format(variable,varValue))\n",
    "\n",
    "def plot_hist(variable):\n",
    "    plt.figure(figsize = (9,3))\n",
    "    plt.hist(df[variable], bins = 50)\n",
    "    plt.xlabel(variable)\n",
    "    plt.ylabel(\"Frequency\")\n",
    "    plt.title(\"{} distribution with hist\".format(variable))\n",
    "    plt.show()"
   ]
  },
  {
   "cell_type": "code",
   "execution_count": 6,
   "id": "e22f474c",
   "metadata": {},
   "outputs": [
    {
     "data": {
      "image/png": "[encoded data removed]",
      "text/plain": [
       "<Figure size 648x216 with 1 Axes>"
      ]
     },
     "metadata": {
      "needs_background": "light"
     },
     "output_type": "display_data"
    },
    {
     "name": "stdout",
     "output_type": "stream",
     "text": [
      "round_winner: \n",
      " T     62406\n",
      "CT    60004\n",
      "Name: round_winner, dtype: int64\n"
     ]
    }
   ],
   "source": [
    "bar_plot('round_winner')"
   ]
  },
  {
   "cell_type": "code",
   "execution_count": 7,
   "id": "2fe91dae",
   "metadata": {},
   "outputs": [
    {
     "data": {
      "image/png": "[encoded data removed]",
      "text/plain": [
       "<Figure size 648x216 with 1 Axes>"
      ]
     },
     "metadata": {
      "needs_background": "light"
     },
     "output_type": "display_data"
    }
   ],
   "source": [
    "plot_hist('ct_players_alive')"
   ]
  },
  {
   "cell_type": "code",
   "execution_count": 8,
   "id": "14cb5765",
   "metadata": {},
   "outputs": [
    {
     "data": {
      "image/png": "[encoded data removed]",
      "text/plain": [
       "<Figure size 648x216 with 1 Axes>"
      ]
     },
     "metadata": {
      "needs_background": "light"
     },
     "output_type": "display_data"
    }
   ],
   "source": [
    "plot_hist('t_players_alive')"
   ]
  },
  {
   "cell_type": "code",
   "execution_count": 9,
   "id": "6f9ceeff",
   "metadata": {},
   "outputs": [
    {
     "data": {
      "image/png": "[encoded data removed]",
      "text/plain": [
       "<Figure size 648x216 with 1 Axes>"
      ]
     },
     "metadata": {
      "needs_background": "light"
     },
     "output_type": "display_data"
    }
   ],
   "source": [
    "plot_hist('t_health')"
   ]
  },
  {
   "cell_type": "code",
   "execution_count": 10,
   "id": "45b9aff7",
   "metadata": {},
   "outputs": [
    {
     "data": {
      "image/png": "[encoded data removed]",
      "text/plain": [
       "<Figure size 648x216 with 1 Axes>"
      ]
     },
     "metadata": {
      "needs_background": "light"
     },
     "output_type": "display_data"
    }
   ],
   "source": [
    "plot_hist('ct_health')"
   ]
  },
  {
   "cell_type": "markdown",
   "id": "95b9bcc9",
   "metadata": {},
   "source": [
    "## Ансамбли"
   ]
  },
  {
   "cell_type": "markdown",
   "id": "7409eb9f",
   "metadata": {},
   "source": [
    "## Bagging"
   ]
  },
  {
   "cell_type": "code",
   "execution_count": 14,
   "id": "e5acb230",
   "metadata": {},
   "outputs": [],
   "source": [
    "#обучим дерево"
   ]
  },
  {
   "cell_type": "code",
   "execution_count": 1,
   "id": "c6d113f4",
   "metadata": {},
   "outputs": [],
   "source": [
    "#визуализируем деревья в лесу"
   ]
  },
  {
   "cell_type": "code",
   "execution_count": 19,
   "id": "24afae91",
   "metadata": {},
   "outputs": [],
   "source": [
    "#то же самое, только с помощью GridSearchView"
   ]
  },
  {
   "cell_type": "code",
   "execution_count": null,
   "id": "e253fd76",
   "metadata": {},
   "outputs": [],
   "source": [
    "#сравнить метрики"
   ]
  },
  {
   "cell_type": "markdown",
   "id": "acd2c3b6",
   "metadata": {},
   "source": [
    "## Boosting"
   ]
  },
  {
   "cell_type": "markdown",
   "id": "1196c1a6",
   "metadata": {},
   "source": [
    "## Stacking"
   ]
  },
  {
   "cell_type": "code",
   "execution_count": 2,
   "id": "88f4c674",
   "metadata": {},
   "outputs": [],
   "source": [
    "#сделать несколько эстиматоров"
   ]
  }
 ],
 "metadata": {
  "kernelspec": {
   "display_name": "Python 3 (ipykernel)",
   "language": "python",
   "name": "python3"
  },
  "language_info": {
   "codemirror_mode": {
    "name": "ipython",
    "version": 3
   },
   "file_extension": ".py",
   "mimetype": "text/x-python",
   "name": "python",
   "nbconvert_exporter": "python",
   "pygments_lexer": "ipython3",
   "version": "3.8.10"
  }
 },
 "nbformat": 4,
 "nbformat_minor": 5
}
