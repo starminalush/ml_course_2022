{
  "cells": [
    {
      "cell_type": "code",
      "source": [],
      "metadata": {
        "id": "XwyR5tMIaqNi"
      },
      "id": "XwyR5tMIaqNi",
      "execution_count": null,
      "outputs": []
    },
    {
      "cell_type": "code",
      "execution_count": null,
      "id": "4037baf3",
      "metadata": {
        "id": "4037baf3"
      },
      "outputs": [],
      "source": [
        "import pandas as pd\n",
        "import matplotlib.pyplot as plt\n",
        "from sklearn.linear_model import LinearRegression\n",
        "import matplotlib.pyplot as plt\n",
        "from sklearn.model_selection import train_test_split\n",
        "import seaborn as sns\n",
        "import numpy as np"
      ]
    },
    {
      "cell_type": "markdown",
      "id": "a762a8ef",
      "metadata": {
        "id": "a762a8ef"
      },
      "source": [
        "## Анализ данных"
      ]
    },
    {
      "cell_type": "code",
      "execution_count": null,
      "id": "8093fe30",
      "metadata": {
        "colab": {
          "base_uri": "https://localhost:8080/",
          "height": 206
        },
        "id": "8093fe30",
        "outputId": "ce15db77-fb12-4434-dd80-fd8100c84a22"
      },
      "outputs": [
        {
          "output_type": "execute_result",
          "data": {
            "text/plain": [
              "   Unnamed: 0   airline   flight source_city departure_time stops  \\\n",
              "0           0  SpiceJet  SG-8709       Delhi        Evening  zero   \n",
              "1           1  SpiceJet  SG-8157       Delhi  Early_Morning  zero   \n",
              "2           2   AirAsia   I5-764       Delhi  Early_Morning  zero   \n",
              "3           3   Vistara   UK-995       Delhi        Morning  zero   \n",
              "4           4   Vistara   UK-963       Delhi        Morning  zero   \n",
              "\n",
              "    arrival_time destination_city    class  duration  days_left  price  \n",
              "0          Night           Mumbai  Economy      2.17          1   5953  \n",
              "1        Morning           Mumbai  Economy      2.33          1   5953  \n",
              "2  Early_Morning           Mumbai  Economy      2.17          1   5956  \n",
              "3      Afternoon           Mumbai  Economy      2.25          1   5955  \n",
              "4        Morning           Mumbai  Economy      2.33          1   5955  "
            ],
            "text/html": [
              "\n",
              "  <div id=\"df-23682fb1-3248-4058-a555-24a35dd073f1\">\n",
              "    <div class=\"colab-df-container\">\n",
              "      <div>\n",
              "<style scoped>\n",
              "    .dataframe tbody tr th:only-of-type {\n",
              "        vertical-align: middle;\n",
              "    }\n",
              "\n",
              "    .dataframe tbody tr th {\n",
              "        vertical-align: top;\n",
              "    }\n",
              "\n",
              "    .dataframe thead th {\n",
              "        text-align: right;\n",
              "    }\n",
              "</style>\n",
              "<table border=\"1\" class=\"dataframe\">\n",
              "  <thead>\n",
              "    <tr style=\"text-align: right;\">\n",
              "      <th></th>\n",
              "      <th>Unnamed: 0</th>\n",
              "      <th>airline</th>\n",
              "      <th>flight</th>\n",
              "      <th>source_city</th>\n",
              "      <th>departure_time</th>\n",
              "      <th>stops</th>\n",
              "      <th>arrival_time</th>\n",
              "      <th>destination_city</th>\n",
              "      <th>class</th>\n",
              "      <th>duration</th>\n",
              "      <th>days_left</th>\n",
              "      <th>price</th>\n",
              "    </tr>\n",
              "  </thead>\n",
              "  <tbody>\n",
              "    <tr>\n",
              "      <th>0</th>\n",
              "      <td>0</td>\n",
              "      <td>SpiceJet</td>\n",
              "      <td>SG-8709</td>\n",
              "      <td>Delhi</td>\n",
              "      <td>Evening</td>\n",
              "      <td>zero</td>\n",
              "      <td>Night</td>\n",
              "      <td>Mumbai</td>\n",
              "      <td>Economy</td>\n",
              "      <td>2.17</td>\n",
              "      <td>1</td>\n",
              "      <td>5953</td>\n",
              "    </tr>\n",
              "    <tr>\n",
              "      <th>1</th>\n",
              "      <td>1</td>\n",
              "      <td>SpiceJet</td>\n",
              "      <td>SG-8157</td>\n",
              "      <td>Delhi</td>\n",
              "      <td>Early_Morning</td>\n",
              "      <td>zero</td>\n",
              "      <td>Morning</td>\n",
              "      <td>Mumbai</td>\n",
              "      <td>Economy</td>\n",
              "      <td>2.33</td>\n",
              "      <td>1</td>\n",
              "      <td>5953</td>\n",
              "    </tr>\n",
              "    <tr>\n",
              "      <th>2</th>\n",
              "      <td>2</td>\n",
              "      <td>AirAsia</td>\n",
              "      <td>I5-764</td>\n",
              "      <td>Delhi</td>\n",
              "      <td>Early_Morning</td>\n",
              "      <td>zero</td>\n",
              "      <td>Early_Morning</td>\n",
              "      <td>Mumbai</td>\n",
              "      <td>Economy</td>\n",
              "      <td>2.17</td>\n",
              "      <td>1</td>\n",
              "      <td>5956</td>\n",
              "    </tr>\n",
              "    <tr>\n",
              "      <th>3</th>\n",
              "      <td>3</td>\n",
              "      <td>Vistara</td>\n",
              "      <td>UK-995</td>\n",
              "      <td>Delhi</td>\n",
              "      <td>Morning</td>\n",
              "      <td>zero</td>\n",
              "      <td>Afternoon</td>\n",
              "      <td>Mumbai</td>\n",
              "      <td>Economy</td>\n",
              "      <td>2.25</td>\n",
              "      <td>1</td>\n",
              "      <td>5955</td>\n",
              "    </tr>\n",
              "    <tr>\n",
              "      <th>4</th>\n",
              "      <td>4</td>\n",
              "      <td>Vistara</td>\n",
              "      <td>UK-963</td>\n",
              "      <td>Delhi</td>\n",
              "      <td>Morning</td>\n",
              "      <td>zero</td>\n",
              "      <td>Morning</td>\n",
              "      <td>Mumbai</td>\n",
              "      <td>Economy</td>\n",
              "      <td>2.33</td>\n",
              "      <td>1</td>\n",
              "      <td>5955</td>\n",
              "    </tr>\n",
              "  </tbody>\n",
              "</table>\n",
              "</div>\n",
              "      <button class=\"colab-df-convert\" onclick=\"convertToInteractive('df-23682fb1-3248-4058-a555-24a35dd073f1')\"\n",
              "              title=\"Convert this dataframe to an interactive table.\"\n",
              "              style=\"display:none;\">\n",
              "        \n",
              "  <svg xmlns=\"http://www.w3.org/2000/svg\" height=\"24px\"viewBox=\"0 0 24 24\"\n",
              "       width=\"24px\">\n",
              "    <path d=\"M0 0h24v24H0V0z\" fill=\"none\"/>\n",
              "    <path d=\"M18.56 5.44l.94 2.06.94-2.06 2.06-.94-2.06-.94-.94-2.06-.94 2.06-2.06.94zm-11 1L8.5 8.5l.94-2.06 2.06-.94-2.06-.94L8.5 2.5l-.94 2.06-2.06.94zm10 10l.94 2.06.94-2.06 2.06-.94-2.06-.94-.94-2.06-.94 2.06-2.06.94z\"/><path d=\"M17.41 7.96l-1.37-1.37c-.4-.4-.92-.59-1.43-.59-.52 0-1.04.2-1.43.59L10.3 9.45l-7.72 7.72c-.78.78-.78 2.05 0 2.83L4 21.41c.39.39.9.59 1.41.59.51 0 1.02-.2 1.41-.59l7.78-7.78 2.81-2.81c.8-.78.8-2.07 0-2.86zM5.41 20L4 18.59l7.72-7.72 1.47 1.35L5.41 20z\"/>\n",
              "  </svg>\n",
              "      </button>\n",
              "      \n",
              "  <style>\n",
              "    .colab-df-container {\n",
              "      display:flex;\n",
              "      flex-wrap:wrap;\n",
              "      gap: 12px;\n",
              "    }\n",
              "\n",
              "    .colab-df-convert {\n",
              "      background-color: #E8F0FE;\n",
              "      border: none;\n",
              "      border-radius: 50%;\n",
              "      cursor: pointer;\n",
              "      display: none;\n",
              "      fill: #1967D2;\n",
              "      height: 32px;\n",
              "      padding: 0 0 0 0;\n",
              "      width: 32px;\n",
              "    }\n",
              "\n",
              "    .colab-df-convert:hover {\n",
              "      background-color: #E2EBFA;\n",
              "      box-shadow: 0px 1px 2px rgba(60, 64, 67, 0.3), 0px 1px 3px 1px rgba(60, 64, 67, 0.15);\n",
              "      fill: #174EA6;\n",
              "    }\n",
              "\n",
              "    [theme=dark] .colab-df-convert {\n",
              "      background-color: #3B4455;\n",
              "      fill: #D2E3FC;\n",
              "    }\n",
              "\n",
              "    [theme=dark] .colab-df-convert:hover {\n",
              "      background-color: #434B5C;\n",
              "      box-shadow: 0px 1px 3px 1px rgba(0, 0, 0, 0.15);\n",
              "      filter: drop-shadow(0px 1px 2px rgba(0, 0, 0, 0.3));\n",
              "      fill: #FFFFFF;\n",
              "    }\n",
              "  </style>\n",
              "\n",
              "      <script>\n",
              "        const buttonEl =\n",
              "          document.querySelector('#df-23682fb1-3248-4058-a555-24a35dd073f1 button.colab-df-convert');\n",
              "        buttonEl.style.display =\n",
              "          google.colab.kernel.accessAllowed ? 'block' : 'none';\n",
              "\n",
              "        async function convertToInteractive(key) {\n",
              "          const element = document.querySelector('#df-23682fb1-3248-4058-a555-24a35dd073f1');\n",
              "          const dataTable =\n",
              "            await google.colab.kernel.invokeFunction('convertToInteractive',\n",
              "                                                     [key], {});\n",
              "          if (!dataTable) return;\n",
              "\n",
              "          const docLinkHtml = 'Like what you see? Visit the ' +\n",
              "            '<a target=\"_blank\" href=https://colab.research.google.com/notebooks/data_table.ipynb>data table notebook</a>'\n",
              "            + ' to learn more about interactive tables.';\n",
              "          element.innerHTML = '';\n",
              "          dataTable['output_type'] = 'display_data';\n",
              "          await google.colab.output.renderOutput(dataTable, element);\n",
              "          const docLink = document.createElement('div');\n",
              "          docLink.innerHTML = docLinkHtml;\n",
              "          element.appendChild(docLink);\n",
              "        }\n",
              "      </script>\n",
              "    </div>\n",
              "  </div>\n",
              "  "
            ]
          },
          "metadata": {},
          "execution_count": 2
        }
      ],
      "source": [
        "df = pd.read_csv('linear_regression.csv')\n",
        "df.head()"
      ]
    },
    {
      "cell_type": "code",
      "execution_count": null,
      "id": "1a17fd68",
      "metadata": {
        "colab": {
          "base_uri": "https://localhost:8080/",
          "height": 206
        },
        "id": "1a17fd68",
        "outputId": "1f0ae1eb-8add-4cdf-dc70-1e22c14a91e3"
      },
      "outputs": [
        {
          "output_type": "execute_result",
          "data": {
            "text/plain": [
              "    airline   flight source_city departure_time stops   arrival_time  \\\n",
              "0  SpiceJet  SG-8709       Delhi        Evening  zero          Night   \n",
              "1  SpiceJet  SG-8157       Delhi  Early_Morning  zero        Morning   \n",
              "2   AirAsia   I5-764       Delhi  Early_Morning  zero  Early_Morning   \n",
              "3   Vistara   UK-995       Delhi        Morning  zero      Afternoon   \n",
              "4   Vistara   UK-963       Delhi        Morning  zero        Morning   \n",
              "\n",
              "  destination_city    class  duration  days_left  price  \n",
              "0           Mumbai  Economy      2.17          1   5953  \n",
              "1           Mumbai  Economy      2.33          1   5953  \n",
              "2           Mumbai  Economy      2.17          1   5956  \n",
              "3           Mumbai  Economy      2.25          1   5955  \n",
              "4           Mumbai  Economy      2.33          1   5955  "
            ],
            "text/html": [
              "\n",
              "  <div id=\"df-cdc1b237-2f9d-4a22-8a8b-5e8b44e8305b\">\n",
              "    <div class=\"colab-df-container\">\n",
              "      <div>\n",
              "<style scoped>\n",
              "    .dataframe tbody tr th:only-of-type {\n",
              "        vertical-align: middle;\n",
              "    }\n",
              "\n",
              "    .dataframe tbody tr th {\n",
              "        vertical-align: top;\n",
              "    }\n",
              "\n",
              "    .dataframe thead th {\n",
              "        text-align: right;\n",
              "    }\n",
              "</style>\n",
              "<table border=\"1\" class=\"dataframe\">\n",
              "  <thead>\n",
              "    <tr style=\"text-align: right;\">\n",
              "      <th></th>\n",
              "      <th>airline</th>\n",
              "      <th>flight</th>\n",
              "      <th>source_city</th>\n",
              "      <th>departure_time</th>\n",
              "      <th>stops</th>\n",
              "      <th>arrival_time</th>\n",
              "      <th>destination_city</th>\n",
              "      <th>class</th>\n",
              "      <th>duration</th>\n",
              "      <th>days_left</th>\n",
              "      <th>price</th>\n",
              "    </tr>\n",
              "  </thead>\n",
              "  <tbody>\n",
              "    <tr>\n",
              "      <th>0</th>\n",
              "      <td>SpiceJet</td>\n",
              "      <td>SG-8709</td>\n",
              "      <td>Delhi</td>\n",
              "      <td>Evening</td>\n",
              "      <td>zero</td>\n",
              "      <td>Night</td>\n",
              "      <td>Mumbai</td>\n",
              "      <td>Economy</td>\n",
              "      <td>2.17</td>\n",
              "      <td>1</td>\n",
              "      <td>5953</td>\n",
              "    </tr>\n",
              "    <tr>\n",
              "      <th>1</th>\n",
              "      <td>SpiceJet</td>\n",
              "      <td>SG-8157</td>\n",
              "      <td>Delhi</td>\n",
              "      <td>Early_Morning</td>\n",
              "      <td>zero</td>\n",
              "      <td>Morning</td>\n",
              "      <td>Mumbai</td>\n",
              "      <td>Economy</td>\n",
              "      <td>2.33</td>\n",
              "      <td>1</td>\n",
              "      <td>5953</td>\n",
              "    </tr>\n",
              "    <tr>\n",
              "      <th>2</th>\n",
              "      <td>AirAsia</td>\n",
              "      <td>I5-764</td>\n",
              "      <td>Delhi</td>\n",
              "      <td>Early_Morning</td>\n",
              "      <td>zero</td>\n",
              "      <td>Early_Morning</td>\n",
              "      <td>Mumbai</td>\n",
              "      <td>Economy</td>\n",
              "      <td>2.17</td>\n",
              "      <td>1</td>\n",
              "      <td>5956</td>\n",
              "    </tr>\n",
              "    <tr>\n",
              "      <th>3</th>\n",
              "      <td>Vistara</td>\n",
              "      <td>UK-995</td>\n",
              "      <td>Delhi</td>\n",
              "      <td>Morning</td>\n",
              "      <td>zero</td>\n",
              "      <td>Afternoon</td>\n",
              "      <td>Mumbai</td>\n",
              "      <td>Economy</td>\n",
              "      <td>2.25</td>\n",
              "      <td>1</td>\n",
              "      <td>5955</td>\n",
              "    </tr>\n",
              "    <tr>\n",
              "      <th>4</th>\n",
              "      <td>Vistara</td>\n",
              "      <td>UK-963</td>\n",
              "      <td>Delhi</td>\n",
              "      <td>Morning</td>\n",
              "      <td>zero</td>\n",
              "      <td>Morning</td>\n",
              "      <td>Mumbai</td>\n",
              "      <td>Economy</td>\n",
              "      <td>2.33</td>\n",
              "      <td>1</td>\n",
              "      <td>5955</td>\n",
              "    </tr>\n",
              "  </tbody>\n",
              "</table>\n",
              "</div>\n",
              "      <button class=\"colab-df-convert\" onclick=\"convertToInteractive('df-cdc1b237-2f9d-4a22-8a8b-5e8b44e8305b')\"\n",
              "              title=\"Convert this dataframe to an interactive table.\"\n",
              "              style=\"display:none;\">\n",
              "        \n",
              "  <svg xmlns=\"http://www.w3.org/2000/svg\" height=\"24px\"viewBox=\"0 0 24 24\"\n",
              "       width=\"24px\">\n",
              "    <path d=\"M0 0h24v24H0V0z\" fill=\"none\"/>\n",
              "    <path d=\"M18.56 5.44l.94 2.06.94-2.06 2.06-.94-2.06-.94-.94-2.06-.94 2.06-2.06.94zm-11 1L8.5 8.5l.94-2.06 2.06-.94-2.06-.94L8.5 2.5l-.94 2.06-2.06.94zm10 10l.94 2.06.94-2.06 2.06-.94-2.06-.94-.94-2.06-.94 2.06-2.06.94z\"/><path d=\"M17.41 7.96l-1.37-1.37c-.4-.4-.92-.59-1.43-.59-.52 0-1.04.2-1.43.59L10.3 9.45l-7.72 7.72c-.78.78-.78 2.05 0 2.83L4 21.41c.39.39.9.59 1.41.59.51 0 1.02-.2 1.41-.59l7.78-7.78 2.81-2.81c.8-.78.8-2.07 0-2.86zM5.41 20L4 18.59l7.72-7.72 1.47 1.35L5.41 20z\"/>\n",
              "  </svg>\n",
              "      </button>\n",
              "      \n",
              "  <style>\n",
              "    .colab-df-container {\n",
              "      display:flex;\n",
              "      flex-wrap:wrap;\n",
              "      gap: 12px;\n",
              "    }\n",
              "\n",
              "    .colab-df-convert {\n",
              "      background-color: #E8F0FE;\n",
              "      border: none;\n",
              "      border-radius: 50%;\n",
              "      cursor: pointer;\n",
              "      display: none;\n",
              "      fill: #1967D2;\n",
              "      height: 32px;\n",
              "      padding: 0 0 0 0;\n",
              "      width: 32px;\n",
              "    }\n",
              "\n",
              "    .colab-df-convert:hover {\n",
              "      background-color: #E2EBFA;\n",
              "      box-shadow: 0px 1px 2px rgba(60, 64, 67, 0.3), 0px 1px 3px 1px rgba(60, 64, 67, 0.15);\n",
              "      fill: #174EA6;\n",
              "    }\n",
              "\n",
              "    [theme=dark] .colab-df-convert {\n",
              "      background-color: #3B4455;\n",
              "      fill: #D2E3FC;\n",
              "    }\n",
              "\n",
              "    [theme=dark] .colab-df-convert:hover {\n",
              "      background-color: #434B5C;\n",
              "      box-shadow: 0px 1px 3px 1px rgba(0, 0, 0, 0.15);\n",
              "      filter: drop-shadow(0px 1px 2px rgba(0, 0, 0, 0.3));\n",
              "      fill: #FFFFFF;\n",
              "    }\n",
              "  </style>\n",
              "\n",
              "      <script>\n",
              "        const buttonEl =\n",
              "          document.querySelector('#df-cdc1b237-2f9d-4a22-8a8b-5e8b44e8305b button.colab-df-convert');\n",
              "        buttonEl.style.display =\n",
              "          google.colab.kernel.accessAllowed ? 'block' : 'none';\n",
              "\n",
              "        async function convertToInteractive(key) {\n",
              "          const element = document.querySelector('#df-cdc1b237-2f9d-4a22-8a8b-5e8b44e8305b');\n",
              "          const dataTable =\n",
              "            await google.colab.kernel.invokeFunction('convertToInteractive',\n",
              "                                                     [key], {});\n",
              "          if (!dataTable) return;\n",
              "\n",
              "          const docLinkHtml = 'Like what you see? Visit the ' +\n",
              "            '<a target=\"_blank\" href=https://colab.research.google.com/notebooks/data_table.ipynb>data table notebook</a>'\n",
              "            + ' to learn more about interactive tables.';\n",
              "          element.innerHTML = '';\n",
              "          dataTable['output_type'] = 'display_data';\n",
              "          await google.colab.output.renderOutput(dataTable, element);\n",
              "          const docLink = document.createElement('div');\n",
              "          docLink.innerHTML = docLinkHtml;\n",
              "          element.appendChild(docLink);\n",
              "        }\n",
              "      </script>\n",
              "    </div>\n",
              "  </div>\n",
              "  "
            ]
          },
          "metadata": {},
          "execution_count": 3
        }
      ],
      "source": [
        "df.drop(['Unnamed: 0'], inplace=True, axis=1)\n",
        "df.head()"
      ]
    },
    {
      "cell_type": "code",
      "execution_count": null,
      "id": "01e1ab33",
      "metadata": {
        "colab": {
          "base_uri": "https://localhost:8080/"
        },
        "id": "01e1ab33",
        "outputId": "9baeb32a-48a1-4c43-9d8c-b31c4f67f785"
      },
      "outputs": [
        {
          "output_type": "stream",
          "name": "stdout",
          "text": [
            "<class 'pandas.core.frame.DataFrame'>\n",
            "RangeIndex: 300153 entries, 0 to 300152\n",
            "Data columns (total 11 columns):\n",
            " #   Column            Non-Null Count   Dtype  \n",
            "---  ------            --------------   -----  \n",
            " 0   airline           300153 non-null  object \n",
            " 1   flight            300153 non-null  object \n",
            " 2   source_city       300153 non-null  object \n",
            " 3   departure_time    300153 non-null  object \n",
            " 4   stops             300153 non-null  object \n",
            " 5   arrival_time      300153 non-null  object \n",
            " 6   destination_city  300153 non-null  object \n",
            " 7   class             300153 non-null  object \n",
            " 8   duration          300153 non-null  float64\n",
            " 9   days_left         300153 non-null  int64  \n",
            " 10  price             300153 non-null  int64  \n",
            "dtypes: float64(1), int64(2), object(8)\n",
            "memory usage: 25.2+ MB\n"
          ]
        }
      ],
      "source": [
        "df.info()"
      ]
    },
    {
      "cell_type": "code",
      "execution_count": null,
      "id": "15d14c55",
      "metadata": {
        "colab": {
          "base_uri": "https://localhost:8080/",
          "height": 300
        },
        "id": "15d14c55",
        "outputId": "4db07d1a-a462-48fe-efee-c45a4b6310c9"
      },
      "outputs": [
        {
          "output_type": "execute_result",
          "data": {
            "text/plain": [
              "            duration      days_left          price\n",
              "count  300153.000000  300153.000000  300153.000000\n",
              "mean       12.221021      26.004751   20889.660523\n",
              "std         7.191997      13.561004   22697.767366\n",
              "min         0.830000       1.000000    1105.000000\n",
              "25%         6.830000      15.000000    4783.000000\n",
              "50%        11.250000      26.000000    7425.000000\n",
              "75%        16.170000      38.000000   42521.000000\n",
              "max        49.830000      49.000000  123071.000000"
            ],
            "text/html": [
              "\n",
              "  <div id=\"df-11fdb248-9c9f-45d3-841a-41e34a0459dc\">\n",
              "    <div class=\"colab-df-container\">\n",
              "      <div>\n",
              "<style scoped>\n",
              "    .dataframe tbody tr th:only-of-type {\n",
              "        vertical-align: middle;\n",
              "    }\n",
              "\n",
              "    .dataframe tbody tr th {\n",
              "        vertical-align: top;\n",
              "    }\n",
              "\n",
              "    .dataframe thead th {\n",
              "        text-align: right;\n",
              "    }\n",
              "</style>\n",
              "<table border=\"1\" class=\"dataframe\">\n",
              "  <thead>\n",
              "    <tr style=\"text-align: right;\">\n",
              "      <th></th>\n",
              "      <th>duration</th>\n",
              "      <th>days_left</th>\n",
              "      <th>price</th>\n",
              "    </tr>\n",
              "  </thead>\n",
              "  <tbody>\n",
              "    <tr>\n",
              "      <th>count</th>\n",
              "      <td>300153.000000</td>\n",
              "      <td>300153.000000</td>\n",
              "      <td>300153.000000</td>\n",
              "    </tr>\n",
              "    <tr>\n",
              "      <th>mean</th>\n",
              "      <td>12.221021</td>\n",
              "      <td>26.004751</td>\n",
              "      <td>20889.660523</td>\n",
              "    </tr>\n",
              "    <tr>\n",
              "      <th>std</th>\n",
              "      <td>7.191997</td>\n",
              "      <td>13.561004</td>\n",
              "      <td>22697.767366</td>\n",
              "    </tr>\n",
              "    <tr>\n",
              "      <th>min</th>\n",
              "      <td>0.830000</td>\n",
              "      <td>1.000000</td>\n",
              "      <td>1105.000000</td>\n",
              "    </tr>\n",
              "    <tr>\n",
              "      <th>25%</th>\n",
              "      <td>6.830000</td>\n",
              "      <td>15.000000</td>\n",
              "      <td>4783.000000</td>\n",
              "    </tr>\n",
              "    <tr>\n",
              "      <th>50%</th>\n",
              "      <td>11.250000</td>\n",
              "      <td>26.000000</td>\n",
              "      <td>7425.000000</td>\n",
              "    </tr>\n",
              "    <tr>\n",
              "      <th>75%</th>\n",
              "      <td>16.170000</td>\n",
              "      <td>38.000000</td>\n",
              "      <td>42521.000000</td>\n",
              "    </tr>\n",
              "    <tr>\n",
              "      <th>max</th>\n",
              "      <td>49.830000</td>\n",
              "      <td>49.000000</td>\n",
              "      <td>123071.000000</td>\n",
              "    </tr>\n",
              "  </tbody>\n",
              "</table>\n",
              "</div>\n",
              "      <button class=\"colab-df-convert\" onclick=\"convertToInteractive('df-11fdb248-9c9f-45d3-841a-41e34a0459dc')\"\n",
              "              title=\"Convert this dataframe to an interactive table.\"\n",
              "              style=\"display:none;\">\n",
              "        \n",
              "  <svg xmlns=\"http://www.w3.org/2000/svg\" height=\"24px\"viewBox=\"0 0 24 24\"\n",
              "       width=\"24px\">\n",
              "    <path d=\"M0 0h24v24H0V0z\" fill=\"none\"/>\n",
              "    <path d=\"M18.56 5.44l.94 2.06.94-2.06 2.06-.94-2.06-.94-.94-2.06-.94 2.06-2.06.94zm-11 1L8.5 8.5l.94-2.06 2.06-.94-2.06-.94L8.5 2.5l-.94 2.06-2.06.94zm10 10l.94 2.06.94-2.06 2.06-.94-2.06-.94-.94-2.06-.94 2.06-2.06.94z\"/><path d=\"M17.41 7.96l-1.37-1.37c-.4-.4-.92-.59-1.43-.59-.52 0-1.04.2-1.43.59L10.3 9.45l-7.72 7.72c-.78.78-.78 2.05 0 2.83L4 21.41c.39.39.9.59 1.41.59.51 0 1.02-.2 1.41-.59l7.78-7.78 2.81-2.81c.8-.78.8-2.07 0-2.86zM5.41 20L4 18.59l7.72-7.72 1.47 1.35L5.41 20z\"/>\n",
              "  </svg>\n",
              "      </button>\n",
              "      \n",
              "  <style>\n",
              "    .colab-df-container {\n",
              "      display:flex;\n",
              "      flex-wrap:wrap;\n",
              "      gap: 12px;\n",
              "    }\n",
              "\n",
              "    .colab-df-convert {\n",
              "      background-color: #E8F0FE;\n",
              "      border: none;\n",
              "      border-radius: 50%;\n",
              "      cursor: pointer;\n",
              "      display: none;\n",
              "      fill: #1967D2;\n",
              "      height: 32px;\n",
              "      padding: 0 0 0 0;\n",
              "      width: 32px;\n",
              "    }\n",
              "\n",
              "    .colab-df-convert:hover {\n",
              "      background-color: #E2EBFA;\n",
              "      box-shadow: 0px 1px 2px rgba(60, 64, 67, 0.3), 0px 1px 3px 1px rgba(60, 64, 67, 0.15);\n",
              "      fill: #174EA6;\n",
              "    }\n",
              "\n",
              "    [theme=dark] .colab-df-convert {\n",
              "      background-color: #3B4455;\n",
              "      fill: #D2E3FC;\n",
              "    }\n",
              "\n",
              "    [theme=dark] .colab-df-convert:hover {\n",
              "      background-color: #434B5C;\n",
              "      box-shadow: 0px 1px 3px 1px rgba(0, 0, 0, 0.15);\n",
              "      filter: drop-shadow(0px 1px 2px rgba(0, 0, 0, 0.3));\n",
              "      fill: #FFFFFF;\n",
              "    }\n",
              "  </style>\n",
              "\n",
              "      <script>\n",
              "        const buttonEl =\n",
              "          document.querySelector('#df-11fdb248-9c9f-45d3-841a-41e34a0459dc button.colab-df-convert');\n",
              "        buttonEl.style.display =\n",
              "          google.colab.kernel.accessAllowed ? 'block' : 'none';\n",
              "\n",
              "        async function convertToInteractive(key) {\n",
              "          const element = document.querySelector('#df-11fdb248-9c9f-45d3-841a-41e34a0459dc');\n",
              "          const dataTable =\n",
              "            await google.colab.kernel.invokeFunction('convertToInteractive',\n",
              "                                                     [key], {});\n",
              "          if (!dataTable) return;\n",
              "\n",
              "          const docLinkHtml = 'Like what you see? Visit the ' +\n",
              "            '<a target=\"_blank\" href=https://colab.research.google.com/notebooks/data_table.ipynb>data table notebook</a>'\n",
              "            + ' to learn more about interactive tables.';\n",
              "          element.innerHTML = '';\n",
              "          dataTable['output_type'] = 'display_data';\n",
              "          await google.colab.output.renderOutput(dataTable, element);\n",
              "          const docLink = document.createElement('div');\n",
              "          docLink.innerHTML = docLinkHtml;\n",
              "          element.appendChild(docLink);\n",
              "        }\n",
              "      </script>\n",
              "    </div>\n",
              "  </div>\n",
              "  "
            ]
          },
          "metadata": {},
          "execution_count": 5
        }
      ],
      "source": [
        "df.describe()"
      ]
    },
    {
      "cell_type": "code",
      "execution_count": null,
      "id": "fb4ecf04",
      "metadata": {
        "colab": {
          "base_uri": "https://localhost:8080/"
        },
        "id": "fb4ecf04",
        "outputId": "3395dfb7-a660-43d2-88d2-d771c640e061"
      },
      "outputs": [
        {
          "output_type": "execute_result",
          "data": {
            "text/plain": [
              "(300153, 11)"
            ]
          },
          "metadata": {},
          "execution_count": 6
        }
      ],
      "source": [
        "df.shape"
      ]
    },
    {
      "cell_type": "code",
      "execution_count": null,
      "id": "f9dd035e",
      "metadata": {
        "colab": {
          "base_uri": "https://localhost:8080/"
        },
        "id": "f9dd035e",
        "outputId": "5d4d8d1e-d8cc-4562-aa65-297c7bc7d569"
      },
      "outputs": [
        {
          "output_type": "execute_result",
          "data": {
            "text/plain": [
              "airline             0\n",
              "flight              0\n",
              "source_city         0\n",
              "departure_time      0\n",
              "stops               0\n",
              "arrival_time        0\n",
              "destination_city    0\n",
              "class               0\n",
              "duration            0\n",
              "days_left           0\n",
              "price               0\n",
              "dtype: int64"
            ]
          },
          "metadata": {},
          "execution_count": 7
        }
      ],
      "source": [
        "df.isna().sum()"
      ]
    },
    {
      "cell_type": "code",
      "execution_count": null,
      "id": "66e2a0d0",
      "metadata": {
        "colab": {
          "base_uri": "https://localhost:8080/",
          "height": 269
        },
        "id": "66e2a0d0",
        "outputId": "7c7df3b4-1834-4bf0-9a4a-4a89f4070d57"
      },
      "outputs": [
        {
          "output_type": "execute_result",
          "data": {
            "text/plain": [
              "           flight  source_city  departure_time   stops  arrival_time  \\\n",
              "airline                                                                \n",
              "AirAsia     16098        16098           16098   16098         16098   \n",
              "Air_India   80892        80892           80892   80892         80892   \n",
              "GO_FIRST    23173        23173           23173   23173         23173   \n",
              "Indigo      43120        43120           43120   43120         43120   \n",
              "SpiceJet     9011         9011            9011    9011          9011   \n",
              "Vistara    127859       127859          127859  127859        127859   \n",
              "\n",
              "           destination_city   class  duration  days_left   price  \n",
              "airline                                                           \n",
              "AirAsia               16098   16098     16098      16098   16098  \n",
              "Air_India             80892   80892     80892      80892   80892  \n",
              "GO_FIRST              23173   23173     23173      23173   23173  \n",
              "Indigo                43120   43120     43120      43120   43120  \n",
              "SpiceJet               9011    9011      9011       9011    9011  \n",
              "Vistara              127859  127859    127859     127859  127859  "
            ],
            "text/html": [
              "\n",
              "  <div id=\"df-b46b13bc-6f3c-47dc-8f4a-83a867f57273\">\n",
              "    <div class=\"colab-df-container\">\n",
              "      <div>\n",
              "<style scoped>\n",
              "    .dataframe tbody tr th:only-of-type {\n",
              "        vertical-align: middle;\n",
              "    }\n",
              "\n",
              "    .dataframe tbody tr th {\n",
              "        vertical-align: top;\n",
              "    }\n",
              "\n",
              "    .dataframe thead th {\n",
              "        text-align: right;\n",
              "    }\n",
              "</style>\n",
              "<table border=\"1\" class=\"dataframe\">\n",
              "  <thead>\n",
              "    <tr style=\"text-align: right;\">\n",
              "      <th></th>\n",
              "      <th>flight</th>\n",
              "      <th>source_city</th>\n",
              "      <th>departure_time</th>\n",
              "      <th>stops</th>\n",
              "      <th>arrival_time</th>\n",
              "      <th>destination_city</th>\n",
              "      <th>class</th>\n",
              "      <th>duration</th>\n",
              "      <th>days_left</th>\n",
              "      <th>price</th>\n",
              "    </tr>\n",
              "    <tr>\n",
              "      <th>airline</th>\n",
              "      <th></th>\n",
              "      <th></th>\n",
              "      <th></th>\n",
              "      <th></th>\n",
              "      <th></th>\n",
              "      <th></th>\n",
              "      <th></th>\n",
              "      <th></th>\n",
              "      <th></th>\n",
              "      <th></th>\n",
              "    </tr>\n",
              "  </thead>\n",
              "  <tbody>\n",
              "    <tr>\n",
              "      <th>AirAsia</th>\n",
              "      <td>16098</td>\n",
              "      <td>16098</td>\n",
              "      <td>16098</td>\n",
              "      <td>16098</td>\n",
              "      <td>16098</td>\n",
              "      <td>16098</td>\n",
              "      <td>16098</td>\n",
              "      <td>16098</td>\n",
              "      <td>16098</td>\n",
              "      <td>16098</td>\n",
              "    </tr>\n",
              "    <tr>\n",
              "      <th>Air_India</th>\n",
              "      <td>80892</td>\n",
              "      <td>80892</td>\n",
              "      <td>80892</td>\n",
              "      <td>80892</td>\n",
              "      <td>80892</td>\n",
              "      <td>80892</td>\n",
              "      <td>80892</td>\n",
              "      <td>80892</td>\n",
              "      <td>80892</td>\n",
              "      <td>80892</td>\n",
              "    </tr>\n",
              "    <tr>\n",
              "      <th>GO_FIRST</th>\n",
              "      <td>23173</td>\n",
              "      <td>23173</td>\n",
              "      <td>23173</td>\n",
              "      <td>23173</td>\n",
              "      <td>23173</td>\n",
              "      <td>23173</td>\n",
              "      <td>23173</td>\n",
              "      <td>23173</td>\n",
              "      <td>23173</td>\n",
              "      <td>23173</td>\n",
              "    </tr>\n",
              "    <tr>\n",
              "      <th>Indigo</th>\n",
              "      <td>43120</td>\n",
              "      <td>43120</td>\n",
              "      <td>43120</td>\n",
              "      <td>43120</td>\n",
              "      <td>43120</td>\n",
              "      <td>43120</td>\n",
              "      <td>43120</td>\n",
              "      <td>43120</td>\n",
              "      <td>43120</td>\n",
              "      <td>43120</td>\n",
              "    </tr>\n",
              "    <tr>\n",
              "      <th>SpiceJet</th>\n",
              "      <td>9011</td>\n",
              "      <td>9011</td>\n",
              "      <td>9011</td>\n",
              "      <td>9011</td>\n",
              "      <td>9011</td>\n",
              "      <td>9011</td>\n",
              "      <td>9011</td>\n",
              "      <td>9011</td>\n",
              "      <td>9011</td>\n",
              "      <td>9011</td>\n",
              "    </tr>\n",
              "    <tr>\n",
              "      <th>Vistara</th>\n",
              "      <td>127859</td>\n",
              "      <td>127859</td>\n",
              "      <td>127859</td>\n",
              "      <td>127859</td>\n",
              "      <td>127859</td>\n",
              "      <td>127859</td>\n",
              "      <td>127859</td>\n",
              "      <td>127859</td>\n",
              "      <td>127859</td>\n",
              "      <td>127859</td>\n",
              "    </tr>\n",
              "  </tbody>\n",
              "</table>\n",
              "</div>\n",
              "      <button class=\"colab-df-convert\" onclick=\"convertToInteractive('df-b46b13bc-6f3c-47dc-8f4a-83a867f57273')\"\n",
              "              title=\"Convert this dataframe to an interactive table.\"\n",
              "              style=\"display:none;\">\n",
              "        \n",
              "  <svg xmlns=\"http://www.w3.org/2000/svg\" height=\"24px\"viewBox=\"0 0 24 24\"\n",
              "       width=\"24px\">\n",
              "    <path d=\"M0 0h24v24H0V0z\" fill=\"none\"/>\n",
              "    <path d=\"M18.56 5.44l.94 2.06.94-2.06 2.06-.94-2.06-.94-.94-2.06-.94 2.06-2.06.94zm-11 1L8.5 8.5l.94-2.06 2.06-.94-2.06-.94L8.5 2.5l-.94 2.06-2.06.94zm10 10l.94 2.06.94-2.06 2.06-.94-2.06-.94-.94-2.06-.94 2.06-2.06.94z\"/><path d=\"M17.41 7.96l-1.37-1.37c-.4-.4-.92-.59-1.43-.59-.52 0-1.04.2-1.43.59L10.3 9.45l-7.72 7.72c-.78.78-.78 2.05 0 2.83L4 21.41c.39.39.9.59 1.41.59.51 0 1.02-.2 1.41-.59l7.78-7.78 2.81-2.81c.8-.78.8-2.07 0-2.86zM5.41 20L4 18.59l7.72-7.72 1.47 1.35L5.41 20z\"/>\n",
              "  </svg>\n",
              "      </button>\n",
              "      \n",
              "  <style>\n",
              "    .colab-df-container {\n",
              "      display:flex;\n",
              "      flex-wrap:wrap;\n",
              "      gap: 12px;\n",
              "    }\n",
              "\n",
              "    .colab-df-convert {\n",
              "      background-color: #E8F0FE;\n",
              "      border: none;\n",
              "      border-radius: 50%;\n",
              "      cursor: pointer;\n",
              "      display: none;\n",
              "      fill: #1967D2;\n",
              "      height: 32px;\n",
              "      padding: 0 0 0 0;\n",
              "      width: 32px;\n",
              "    }\n",
              "\n",
              "    .colab-df-convert:hover {\n",
              "      background-color: #E2EBFA;\n",
              "      box-shadow: 0px 1px 2px rgba(60, 64, 67, 0.3), 0px 1px 3px 1px rgba(60, 64, 67, 0.15);\n",
              "      fill: #174EA6;\n",
              "    }\n",
              "\n",
              "    [theme=dark] .colab-df-convert {\n",
              "      background-color: #3B4455;\n",
              "      fill: #D2E3FC;\n",
              "    }\n",
              "\n",
              "    [theme=dark] .colab-df-convert:hover {\n",
              "      background-color: #434B5C;\n",
              "      box-shadow: 0px 1px 3px 1px rgba(0, 0, 0, 0.15);\n",
              "      filter: drop-shadow(0px 1px 2px rgba(0, 0, 0, 0.3));\n",
              "      fill: #FFFFFF;\n",
              "    }\n",
              "  </style>\n",
              "\n",
              "      <script>\n",
              "        const buttonEl =\n",
              "          document.querySelector('#df-b46b13bc-6f3c-47dc-8f4a-83a867f57273 button.colab-df-convert');\n",
              "        buttonEl.style.display =\n",
              "          google.colab.kernel.accessAllowed ? 'block' : 'none';\n",
              "\n",
              "        async function convertToInteractive(key) {\n",
              "          const element = document.querySelector('#df-b46b13bc-6f3c-47dc-8f4a-83a867f57273');\n",
              "          const dataTable =\n",
              "            await google.colab.kernel.invokeFunction('convertToInteractive',\n",
              "                                                     [key], {});\n",
              "          if (!dataTable) return;\n",
              "\n",
              "          const docLinkHtml = 'Like what you see? Visit the ' +\n",
              "            '<a target=\"_blank\" href=https://colab.research.google.com/notebooks/data_table.ipynb>data table notebook</a>'\n",
              "            + ' to learn more about interactive tables.';\n",
              "          element.innerHTML = '';\n",
              "          dataTable['output_type'] = 'display_data';\n",
              "          await google.colab.output.renderOutput(dataTable, element);\n",
              "          const docLink = document.createElement('div');\n",
              "          docLink.innerHTML = docLinkHtml;\n",
              "          element.appendChild(docLink);\n",
              "        }\n",
              "      </script>\n",
              "    </div>\n",
              "  </div>\n",
              "  "
            ]
          },
          "metadata": {},
          "execution_count": 8
        }
      ],
      "source": [
        "#ищем самую популярную авиакомпанию\n",
        "\n",
        "df.groupby(['airline']).count()"
      ]
    },
    {
      "cell_type": "code",
      "execution_count": null,
      "id": "0f46ad88",
      "metadata": {
        "colab": {
          "base_uri": "https://localhost:8080/",
          "height": 143
        },
        "id": "0f46ad88",
        "outputId": "85b6218c-199a-487e-9d58-bc4adb4e944a"
      },
      "outputs": [
        {
          "output_type": "execute_result",
          "data": {
            "text/plain": [
              "          airline  flight  source_city  departure_time   stops  arrival_time  \\\n",
              "class                                                                          \n",
              "Business    93487   93487        93487           93487   93487         93487   \n",
              "Economy    206666  206666       206666          206666  206666        206666   \n",
              "\n",
              "          destination_city  duration  days_left   price  \n",
              "class                                                    \n",
              "Business             93487     93487      93487   93487  \n",
              "Economy             206666    206666     206666  206666  "
            ],
            "text/html": [
              "\n",
              "  <div id=\"df-1fd0ab56-bb63-4e6a-a749-14886849cfe4\">\n",
              "    <div class=\"colab-df-container\">\n",
              "      <div>\n",
              "<style scoped>\n",
              "    .dataframe tbody tr th:only-of-type {\n",
              "        vertical-align: middle;\n",
              "    }\n",
              "\n",
              "    .dataframe tbody tr th {\n",
              "        vertical-align: top;\n",
              "    }\n",
              "\n",
              "    .dataframe thead th {\n",
              "        text-align: right;\n",
              "    }\n",
              "</style>\n",
              "<table border=\"1\" class=\"dataframe\">\n",
              "  <thead>\n",
              "    <tr style=\"text-align: right;\">\n",
              "      <th></th>\n",
              "      <th>airline</th>\n",
              "      <th>flight</th>\n",
              "      <th>source_city</th>\n",
              "      <th>departure_time</th>\n",
              "      <th>stops</th>\n",
              "      <th>arrival_time</th>\n",
              "      <th>destination_city</th>\n",
              "      <th>duration</th>\n",
              "      <th>days_left</th>\n",
              "      <th>price</th>\n",
              "    </tr>\n",
              "    <tr>\n",
              "      <th>class</th>\n",
              "      <th></th>\n",
              "      <th></th>\n",
              "      <th></th>\n",
              "      <th></th>\n",
              "      <th></th>\n",
              "      <th></th>\n",
              "      <th></th>\n",
              "      <th></th>\n",
              "      <th></th>\n",
              "      <th></th>\n",
              "    </tr>\n",
              "  </thead>\n",
              "  <tbody>\n",
              "    <tr>\n",
              "      <th>Business</th>\n",
              "      <td>93487</td>\n",
              "      <td>93487</td>\n",
              "      <td>93487</td>\n",
              "      <td>93487</td>\n",
              "      <td>93487</td>\n",
              "      <td>93487</td>\n",
              "      <td>93487</td>\n",
              "      <td>93487</td>\n",
              "      <td>93487</td>\n",
              "      <td>93487</td>\n",
              "    </tr>\n",
              "    <tr>\n",
              "      <th>Economy</th>\n",
              "      <td>206666</td>\n",
              "      <td>206666</td>\n",
              "      <td>206666</td>\n",
              "      <td>206666</td>\n",
              "      <td>206666</td>\n",
              "      <td>206666</td>\n",
              "      <td>206666</td>\n",
              "      <td>206666</td>\n",
              "      <td>206666</td>\n",
              "      <td>206666</td>\n",
              "    </tr>\n",
              "  </tbody>\n",
              "</table>\n",
              "</div>\n",
              "      <button class=\"colab-df-convert\" onclick=\"convertToInteractive('df-1fd0ab56-bb63-4e6a-a749-14886849cfe4')\"\n",
              "              title=\"Convert this dataframe to an interactive table.\"\n",
              "              style=\"display:none;\">\n",
              "        \n",
              "  <svg xmlns=\"http://www.w3.org/2000/svg\" height=\"24px\"viewBox=\"0 0 24 24\"\n",
              "       width=\"24px\">\n",
              "    <path d=\"M0 0h24v24H0V0z\" fill=\"none\"/>\n",
              "    <path d=\"M18.56 5.44l.94 2.06.94-2.06 2.06-.94-2.06-.94-.94-2.06-.94 2.06-2.06.94zm-11 1L8.5 8.5l.94-2.06 2.06-.94-2.06-.94L8.5 2.5l-.94 2.06-2.06.94zm10 10l.94 2.06.94-2.06 2.06-.94-2.06-.94-.94-2.06-.94 2.06-2.06.94z\"/><path d=\"M17.41 7.96l-1.37-1.37c-.4-.4-.92-.59-1.43-.59-.52 0-1.04.2-1.43.59L10.3 9.45l-7.72 7.72c-.78.78-.78 2.05 0 2.83L4 21.41c.39.39.9.59 1.41.59.51 0 1.02-.2 1.41-.59l7.78-7.78 2.81-2.81c.8-.78.8-2.07 0-2.86zM5.41 20L4 18.59l7.72-7.72 1.47 1.35L5.41 20z\"/>\n",
              "  </svg>\n",
              "      </button>\n",
              "      \n",
              "  <style>\n",
              "    .colab-df-container {\n",
              "      display:flex;\n",
              "      flex-wrap:wrap;\n",
              "      gap: 12px;\n",
              "    }\n",
              "\n",
              "    .colab-df-convert {\n",
              "      background-color: #E8F0FE;\n",
              "      border: none;\n",
              "      border-radius: 50%;\n",
              "      cursor: pointer;\n",
              "      display: none;\n",
              "      fill: #1967D2;\n",
              "      height: 32px;\n",
              "      padding: 0 0 0 0;\n",
              "      width: 32px;\n",
              "    }\n",
              "\n",
              "    .colab-df-convert:hover {\n",
              "      background-color: #E2EBFA;\n",
              "      box-shadow: 0px 1px 2px rgba(60, 64, 67, 0.3), 0px 1px 3px 1px rgba(60, 64, 67, 0.15);\n",
              "      fill: #174EA6;\n",
              "    }\n",
              "\n",
              "    [theme=dark] .colab-df-convert {\n",
              "      background-color: #3B4455;\n",
              "      fill: #D2E3FC;\n",
              "    }\n",
              "\n",
              "    [theme=dark] .colab-df-convert:hover {\n",
              "      background-color: #434B5C;\n",
              "      box-shadow: 0px 1px 3px 1px rgba(0, 0, 0, 0.15);\n",
              "      filter: drop-shadow(0px 1px 2px rgba(0, 0, 0, 0.3));\n",
              "      fill: #FFFFFF;\n",
              "    }\n",
              "  </style>\n",
              "\n",
              "      <script>\n",
              "        const buttonEl =\n",
              "          document.querySelector('#df-1fd0ab56-bb63-4e6a-a749-14886849cfe4 button.colab-df-convert');\n",
              "        buttonEl.style.display =\n",
              "          google.colab.kernel.accessAllowed ? 'block' : 'none';\n",
              "\n",
              "        async function convertToInteractive(key) {\n",
              "          const element = document.querySelector('#df-1fd0ab56-bb63-4e6a-a749-14886849cfe4');\n",
              "          const dataTable =\n",
              "            await google.colab.kernel.invokeFunction('convertToInteractive',\n",
              "                                                     [key], {});\n",
              "          if (!dataTable) return;\n",
              "\n",
              "          const docLinkHtml = 'Like what you see? Visit the ' +\n",
              "            '<a target=\"_blank\" href=https://colab.research.google.com/notebooks/data_table.ipynb>data table notebook</a>'\n",
              "            + ' to learn more about interactive tables.';\n",
              "          element.innerHTML = '';\n",
              "          dataTable['output_type'] = 'display_data';\n",
              "          await google.colab.output.renderOutput(dataTable, element);\n",
              "          const docLink = document.createElement('div');\n",
              "          docLink.innerHTML = docLinkHtml;\n",
              "          element.appendChild(docLink);\n",
              "        }\n",
              "      </script>\n",
              "    </div>\n",
              "  </div>\n",
              "  "
            ]
          },
          "metadata": {},
          "execution_count": 9
        }
      ],
      "source": [
        "#распредление по классу полета\n",
        "df.groupby(['class']).count()"
      ]
    },
    {
      "cell_type": "code",
      "execution_count": null,
      "id": "38886d20",
      "metadata": {
        "colab": {
          "base_uri": "https://localhost:8080/",
          "height": 358
        },
        "id": "38886d20",
        "outputId": "096c8f62-322f-4279-8aa1-fd6460db2857"
      },
      "outputs": [
        {
          "output_type": "display_data",
          "data": {
            "text/plain": [
              "<Figure size 1080x360 with 1 Axes>"
            ],
            "image/png": "[encoded data removed]"
          },
          "metadata": {
            "needs_background": "light"
          }
        }
      ],
      "source": [
        "plt.figure(figsize=(15,5))\n",
        "sns.boxplot(x=df['airline'],y=df['price'],palette='hls')\n",
        "plt.title('Airlines Vs Price',fontsize=15)\n",
        "plt.xlabel('Airline',fontsize=15)\n",
        "plt.ylabel('Price',fontsize=15)\n",
        "plt.show()"
      ]
    },
    {
      "cell_type": "code",
      "execution_count": null,
      "id": "a652777a",
      "metadata": {
        "colab": {
          "base_uri": "https://localhost:8080/",
          "height": 632
        },
        "id": "a652777a",
        "outputId": "18adcb22-d143-43c8-a502-218611ef4b55"
      },
      "outputs": [
        {
          "output_type": "display_data",
          "data": {
            "text/plain": [
              "<Figure size 1728x720 with 2 Axes>"
            ],
            "image/png": "[encoded data removed]"
          },
          "metadata": {
            "needs_background": "light"
          }
        }
      ],
      "source": [
        "plt.figure(figsize=(24,10))\n",
        "plt.subplot(1,2,1)\n",
        "sns.boxplot(x='departure_time',y='price',data=df)\n",
        "plt.title('Departure Time Vs Ticket Price',fontsize=20)\n",
        "plt.xlabel('Departure Time',fontsize=15)\n",
        "plt.ylabel('Price',fontsize=15)\n",
        "plt.subplot(1,2,2)\n",
        "sns.boxplot(x='arrival_time',y='price',data=df,palette='hls')\n",
        "plt.title('Arrival Time Vs Ticket Price',fontsize=20)\n",
        "plt.xlabel('Arrival Time',fontsize=15)\n",
        "plt.ylabel('Price',fontsize=15)\n",
        "plt.show()"
      ]
    },
    {
      "cell_type": "markdown",
      "id": "adfa215b",
      "metadata": {
        "id": "adfa215b"
      },
      "source": [
        "## Простая линейная регрессия для одного признака"
      ]
    },
    {
      "cell_type": "markdown",
      "id": "6b5749a6",
      "metadata": {
        "id": "6b5749a6"
      },
      "source": [
        "https://scikit-learn.org/stable/modules/generated/sklearn.linear_model.LinearRegression.html"
      ]
    },
    {
      "cell_type": "code",
      "execution_count": null,
      "id": "d96c4f87",
      "metadata": {
        "id": "d96c4f87"
      },
      "outputs": [],
      "source": [
        "##игрушечный пример"
      ]
    },
    {
      "cell_type": "code",
      "execution_count": null,
      "id": "7966c7d4",
      "metadata": {
        "colab": {
          "base_uri": "https://localhost:8080/",
          "height": 206
        },
        "id": "7966c7d4",
        "outputId": "5b77ccfc-8042-4186-bb9d-ceccddc742af"
      },
      "outputs": [
        {
          "output_type": "execute_result",
          "data": {
            "text/plain": [
              "    airline   flight source_city departure_time stops   arrival_time  \\\n",
              "0  SpiceJet  SG-8709       Delhi        Evening  zero          Night   \n",
              "1  SpiceJet  SG-8157       Delhi  Early_Morning  zero        Morning   \n",
              "2   AirAsia   I5-764       Delhi  Early_Morning  zero  Early_Morning   \n",
              "3   Vistara   UK-995       Delhi        Morning  zero      Afternoon   \n",
              "4   Vistara   UK-963       Delhi        Morning  zero        Morning   \n",
              "\n",
              "  destination_city    class  duration  days_left  price  \n",
              "0           Mumbai  Economy      2.17          1   5953  \n",
              "1           Mumbai  Economy      2.33          1   5953  \n",
              "2           Mumbai  Economy      2.17          1   5956  \n",
              "3           Mumbai  Economy      2.25          1   5955  \n",
              "4           Mumbai  Economy      2.33          1   5955  "
            ],
            "text/html": [
              "\n",
              "  <div id=\"df-9fbabc4b-5c25-4bf8-a68b-6b1a768132f6\">\n",
              "    <div class=\"colab-df-container\">\n",
              "      <div>\n",
              "<style scoped>\n",
              "    .dataframe tbody tr th:only-of-type {\n",
              "        vertical-align: middle;\n",
              "    }\n",
              "\n",
              "    .dataframe tbody tr th {\n",
              "        vertical-align: top;\n",
              "    }\n",
              "\n",
              "    .dataframe thead th {\n",
              "        text-align: right;\n",
              "    }\n",
              "</style>\n",
              "<table border=\"1\" class=\"dataframe\">\n",
              "  <thead>\n",
              "    <tr style=\"text-align: right;\">\n",
              "      <th></th>\n",
              "      <th>airline</th>\n",
              "      <th>flight</th>\n",
              "      <th>source_city</th>\n",
              "      <th>departure_time</th>\n",
              "      <th>stops</th>\n",
              "      <th>arrival_time</th>\n",
              "      <th>destination_city</th>\n",
              "      <th>class</th>\n",
              "      <th>duration</th>\n",
              "      <th>days_left</th>\n",
              "      <th>price</th>\n",
              "    </tr>\n",
              "  </thead>\n",
              "  <tbody>\n",
              "    <tr>\n",
              "      <th>0</th>\n",
              "      <td>SpiceJet</td>\n",
              "      <td>SG-8709</td>\n",
              "      <td>Delhi</td>\n",
              "      <td>Evening</td>\n",
              "      <td>zero</td>\n",
              "      <td>Night</td>\n",
              "      <td>Mumbai</td>\n",
              "      <td>Economy</td>\n",
              "      <td>2.17</td>\n",
              "      <td>1</td>\n",
              "      <td>5953</td>\n",
              "    </tr>\n",
              "    <tr>\n",
              "      <th>1</th>\n",
              "      <td>SpiceJet</td>\n",
              "      <td>SG-8157</td>\n",
              "      <td>Delhi</td>\n",
              "      <td>Early_Morning</td>\n",
              "      <td>zero</td>\n",
              "      <td>Morning</td>\n",
              "      <td>Mumbai</td>\n",
              "      <td>Economy</td>\n",
              "      <td>2.33</td>\n",
              "      <td>1</td>\n",
              "      <td>5953</td>\n",
              "    </tr>\n",
              "    <tr>\n",
              "      <th>2</th>\n",
              "      <td>AirAsia</td>\n",
              "      <td>I5-764</td>\n",
              "      <td>Delhi</td>\n",
              "      <td>Early_Morning</td>\n",
              "      <td>zero</td>\n",
              "      <td>Early_Morning</td>\n",
              "      <td>Mumbai</td>\n",
              "      <td>Economy</td>\n",
              "      <td>2.17</td>\n",
              "      <td>1</td>\n",
              "      <td>5956</td>\n",
              "    </tr>\n",
              "    <tr>\n",
              "      <th>3</th>\n",
              "      <td>Vistara</td>\n",
              "      <td>UK-995</td>\n",
              "      <td>Delhi</td>\n",
              "      <td>Morning</td>\n",
              "      <td>zero</td>\n",
              "      <td>Afternoon</td>\n",
              "      <td>Mumbai</td>\n",
              "      <td>Economy</td>\n",
              "      <td>2.25</td>\n",
              "      <td>1</td>\n",
              "      <td>5955</td>\n",
              "    </tr>\n",
              "    <tr>\n",
              "      <th>4</th>\n",
              "      <td>Vistara</td>\n",
              "      <td>UK-963</td>\n",
              "      <td>Delhi</td>\n",
              "      <td>Morning</td>\n",
              "      <td>zero</td>\n",
              "      <td>Morning</td>\n",
              "      <td>Mumbai</td>\n",
              "      <td>Economy</td>\n",
              "      <td>2.33</td>\n",
              "      <td>1</td>\n",
              "      <td>5955</td>\n",
              "    </tr>\n",
              "  </tbody>\n",
              "</table>\n",
              "</div>\n",
              "      <button class=\"colab-df-convert\" onclick=\"convertToInteractive('df-9fbabc4b-5c25-4bf8-a68b-6b1a768132f6')\"\n",
              "              title=\"Convert this dataframe to an interactive table.\"\n",
              "              style=\"display:none;\">\n",
              "        \n",
              "  <svg xmlns=\"http://www.w3.org/2000/svg\" height=\"24px\"viewBox=\"0 0 24 24\"\n",
              "       width=\"24px\">\n",
              "    <path d=\"M0 0h24v24H0V0z\" fill=\"none\"/>\n",
              "    <path d=\"M18.56 5.44l.94 2.06.94-2.06 2.06-.94-2.06-.94-.94-2.06-.94 2.06-2.06.94zm-11 1L8.5 8.5l.94-2.06 2.06-.94-2.06-.94L8.5 2.5l-.94 2.06-2.06.94zm10 10l.94 2.06.94-2.06 2.06-.94-2.06-.94-.94-2.06-.94 2.06-2.06.94z\"/><path d=\"M17.41 7.96l-1.37-1.37c-.4-.4-.92-.59-1.43-.59-.52 0-1.04.2-1.43.59L10.3 9.45l-7.72 7.72c-.78.78-.78 2.05 0 2.83L4 21.41c.39.39.9.59 1.41.59.51 0 1.02-.2 1.41-.59l7.78-7.78 2.81-2.81c.8-.78.8-2.07 0-2.86zM5.41 20L4 18.59l7.72-7.72 1.47 1.35L5.41 20z\"/>\n",
              "  </svg>\n",
              "      </button>\n",
              "      \n",
              "  <style>\n",
              "    .colab-df-container {\n",
              "      display:flex;\n",
              "      flex-wrap:wrap;\n",
              "      gap: 12px;\n",
              "    }\n",
              "\n",
              "    .colab-df-convert {\n",
              "      background-color: #E8F0FE;\n",
              "      border: none;\n",
              "      border-radius: 50%;\n",
              "      cursor: pointer;\n",
              "      display: none;\n",
              "      fill: #1967D2;\n",
              "      height: 32px;\n",
              "      padding: 0 0 0 0;\n",
              "      width: 32px;\n",
              "    }\n",
              "\n",
              "    .colab-df-convert:hover {\n",
              "      background-color: #E2EBFA;\n",
              "      box-shadow: 0px 1px 2px rgba(60, 64, 67, 0.3), 0px 1px 3px 1px rgba(60, 64, 67, 0.15);\n",
              "      fill: #174EA6;\n",
              "    }\n",
              "\n",
              "    [theme=dark] .colab-df-convert {\n",
              "      background-color: #3B4455;\n",
              "      fill: #D2E3FC;\n",
              "    }\n",
              "\n",
              "    [theme=dark] .colab-df-convert:hover {\n",
              "      background-color: #434B5C;\n",
              "      box-shadow: 0px 1px 3px 1px rgba(0, 0, 0, 0.15);\n",
              "      filter: drop-shadow(0px 1px 2px rgba(0, 0, 0, 0.3));\n",
              "      fill: #FFFFFF;\n",
              "    }\n",
              "  </style>\n",
              "\n",
              "      <script>\n",
              "        const buttonEl =\n",
              "          document.querySelector('#df-9fbabc4b-5c25-4bf8-a68b-6b1a768132f6 button.colab-df-convert');\n",
              "        buttonEl.style.display =\n",
              "          google.colab.kernel.accessAllowed ? 'block' : 'none';\n",
              "\n",
              "        async function convertToInteractive(key) {\n",
              "          const element = document.querySelector('#df-9fbabc4b-5c25-4bf8-a68b-6b1a768132f6');\n",
              "          const dataTable =\n",
              "            await google.colab.kernel.invokeFunction('convertToInteractive',\n",
              "                                                     [key], {});\n",
              "          if (!dataTable) return;\n",
              "\n",
              "          const docLinkHtml = 'Like what you see? Visit the ' +\n",
              "            '<a target=\"_blank\" href=https://colab.research.google.com/notebooks/data_table.ipynb>data table notebook</a>'\n",
              "            + ' to learn more about interactive tables.';\n",
              "          element.innerHTML = '';\n",
              "          dataTable['output_type'] = 'display_data';\n",
              "          await google.colab.output.renderOutput(dataTable, element);\n",
              "          const docLink = document.createElement('div');\n",
              "          docLink.innerHTML = docLinkHtml;\n",
              "          element.appendChild(docLink);\n",
              "        }\n",
              "      </script>\n",
              "    </div>\n",
              "  </div>\n",
              "  "
            ]
          },
          "metadata": {},
          "execution_count": 13
        }
      ],
      "source": [
        "df.head()"
      ]
    },
    {
      "cell_type": "code",
      "execution_count": null,
      "id": "a8fb7405",
      "metadata": {
        "colab": {
          "base_uri": "https://localhost:8080/",
          "height": 206
        },
        "id": "a8fb7405",
        "outputId": "fd8924a3-1ab7-43b0-9a31-cf0672bf387c"
      },
      "outputs": [
        {
          "output_type": "execute_result",
          "data": {
            "text/plain": [
              "   duration  price\n",
              "0      2.17   5953\n",
              "1      2.33   5953\n",
              "2      2.17   5956\n",
              "3      2.25   5955\n",
              "4      2.33   5955"
            ],
            "text/html": [
              "\n",
              "  <div id=\"df-379cbcff-99e0-47d2-8336-1449d9650d37\">\n",
              "    <div class=\"colab-df-container\">\n",
              "      <div>\n",
              "<style scoped>\n",
              "    .dataframe tbody tr th:only-of-type {\n",
              "        vertical-align: middle;\n",
              "    }\n",
              "\n",
              "    .dataframe tbody tr th {\n",
              "        vertical-align: top;\n",
              "    }\n",
              "\n",
              "    .dataframe thead th {\n",
              "        text-align: right;\n",
              "    }\n",
              "</style>\n",
              "<table border=\"1\" class=\"dataframe\">\n",
              "  <thead>\n",
              "    <tr style=\"text-align: right;\">\n",
              "      <th></th>\n",
              "      <th>duration</th>\n",
              "      <th>price</th>\n",
              "    </tr>\n",
              "  </thead>\n",
              "  <tbody>\n",
              "    <tr>\n",
              "      <th>0</th>\n",
              "      <td>2.17</td>\n",
              "      <td>5953</td>\n",
              "    </tr>\n",
              "    <tr>\n",
              "      <th>1</th>\n",
              "      <td>2.33</td>\n",
              "      <td>5953</td>\n",
              "    </tr>\n",
              "    <tr>\n",
              "      <th>2</th>\n",
              "      <td>2.17</td>\n",
              "      <td>5956</td>\n",
              "    </tr>\n",
              "    <tr>\n",
              "      <th>3</th>\n",
              "      <td>2.25</td>\n",
              "      <td>5955</td>\n",
              "    </tr>\n",
              "    <tr>\n",
              "      <th>4</th>\n",
              "      <td>2.33</td>\n",
              "      <td>5955</td>\n",
              "    </tr>\n",
              "  </tbody>\n",
              "</table>\n",
              "</div>\n",
              "      <button class=\"colab-df-convert\" onclick=\"convertToInteractive('df-379cbcff-99e0-47d2-8336-1449d9650d37')\"\n",
              "              title=\"Convert this dataframe to an interactive table.\"\n",
              "              style=\"display:none;\">\n",
              "        \n",
              "  <svg xmlns=\"http://www.w3.org/2000/svg\" height=\"24px\"viewBox=\"0 0 24 24\"\n",
              "       width=\"24px\">\n",
              "    <path d=\"M0 0h24v24H0V0z\" fill=\"none\"/>\n",
              "    <path d=\"M18.56 5.44l.94 2.06.94-2.06 2.06-.94-2.06-.94-.94-2.06-.94 2.06-2.06.94zm-11 1L8.5 8.5l.94-2.06 2.06-.94-2.06-.94L8.5 2.5l-.94 2.06-2.06.94zm10 10l.94 2.06.94-2.06 2.06-.94-2.06-.94-.94-2.06-.94 2.06-2.06.94z\"/><path d=\"M17.41 7.96l-1.37-1.37c-.4-.4-.92-.59-1.43-.59-.52 0-1.04.2-1.43.59L10.3 9.45l-7.72 7.72c-.78.78-.78 2.05 0 2.83L4 21.41c.39.39.9.59 1.41.59.51 0 1.02-.2 1.41-.59l7.78-7.78 2.81-2.81c.8-.78.8-2.07 0-2.86zM5.41 20L4 18.59l7.72-7.72 1.47 1.35L5.41 20z\"/>\n",
              "  </svg>\n",
              "      </button>\n",
              "      \n",
              "  <style>\n",
              "    .colab-df-container {\n",
              "      display:flex;\n",
              "      flex-wrap:wrap;\n",
              "      gap: 12px;\n",
              "    }\n",
              "\n",
              "    .colab-df-convert {\n",
              "      background-color: #E8F0FE;\n",
              "      border: none;\n",
              "      border-radius: 50%;\n",
              "      cursor: pointer;\n",
              "      display: none;\n",
              "      fill: #1967D2;\n",
              "      height: 32px;\n",
              "      padding: 0 0 0 0;\n",
              "      width: 32px;\n",
              "    }\n",
              "\n",
              "    .colab-df-convert:hover {\n",
              "      background-color: #E2EBFA;\n",
              "      box-shadow: 0px 1px 2px rgba(60, 64, 67, 0.3), 0px 1px 3px 1px rgba(60, 64, 67, 0.15);\n",
              "      fill: #174EA6;\n",
              "    }\n",
              "\n",
              "    [theme=dark] .colab-df-convert {\n",
              "      background-color: #3B4455;\n",
              "      fill: #D2E3FC;\n",
              "    }\n",
              "\n",
              "    [theme=dark] .colab-df-convert:hover {\n",
              "      background-color: #434B5C;\n",
              "      box-shadow: 0px 1px 3px 1px rgba(0, 0, 0, 0.15);\n",
              "      filter: drop-shadow(0px 1px 2px rgba(0, 0, 0, 0.3));\n",
              "      fill: #FFFFFF;\n",
              "    }\n",
              "  </style>\n",
              "\n",
              "      <script>\n",
              "        const buttonEl =\n",
              "          document.querySelector('#df-379cbcff-99e0-47d2-8336-1449d9650d37 button.colab-df-convert');\n",
              "        buttonEl.style.display =\n",
              "          google.colab.kernel.accessAllowed ? 'block' : 'none';\n",
              "\n",
              "        async function convertToInteractive(key) {\n",
              "          const element = document.querySelector('#df-379cbcff-99e0-47d2-8336-1449d9650d37');\n",
              "          const dataTable =\n",
              "            await google.colab.kernel.invokeFunction('convertToInteractive',\n",
              "                                                     [key], {});\n",
              "          if (!dataTable) return;\n",
              "\n",
              "          const docLinkHtml = 'Like what you see? Visit the ' +\n",
              "            '<a target=\"_blank\" href=https://colab.research.google.com/notebooks/data_table.ipynb>data table notebook</a>'\n",
              "            + ' to learn more about interactive tables.';\n",
              "          element.innerHTML = '';\n",
              "          dataTable['output_type'] = 'display_data';\n",
              "          await google.colab.output.renderOutput(dataTable, element);\n",
              "          const docLink = document.createElement('div');\n",
              "          docLink.innerHTML = docLinkHtml;\n",
              "          element.appendChild(docLink);\n",
              "        }\n",
              "      </script>\n",
              "    </div>\n",
              "  </div>\n",
              "  "
            ]
          },
          "metadata": {},
          "execution_count": 14
        }
      ],
      "source": [
        "df_toy = df[['duration', 'price']]\n",
        "df_toy.head()"
      ]
    },
    {
      "cell_type": "code",
      "execution_count": null,
      "id": "a12bd9d7",
      "metadata": {
        "id": "a12bd9d7"
      },
      "outputs": [],
      "source": [
        "y_df_toy = df_toy['price']\n",
        "X_df_toy = df_toy.drop(['price'], axis=1)"
      ]
    },
    {
      "cell_type": "code",
      "execution_count": null,
      "id": "be7190e0",
      "metadata": {
        "colab": {
          "base_uri": "https://localhost:8080/"
        },
        "id": "be7190e0",
        "outputId": "03739701-2ec1-4aa6-d616-8d284515314a"
      },
      "outputs": [
        {
          "output_type": "execute_result",
          "data": {
            "text/plain": [
              "(300153,)"
            ]
          },
          "metadata": {},
          "execution_count": 16
        }
      ],
      "source": [
        "y_df_toy.shape"
      ]
    },
    {
      "cell_type": "code",
      "execution_count": null,
      "id": "94efaa26",
      "metadata": {
        "colab": {
          "base_uri": "https://localhost:8080/"
        },
        "id": "94efaa26",
        "outputId": "3679ec6a-2093-4a59-efb8-b002d53c31de"
      },
      "outputs": [
        {
          "output_type": "execute_result",
          "data": {
            "text/plain": [
              "(300153, 1)"
            ]
          },
          "metadata": {},
          "execution_count": 17
        }
      ],
      "source": [
        "X_df_toy.shape"
      ]
    },
    {
      "cell_type": "code",
      "execution_count": null,
      "id": "ae38ff51",
      "metadata": {
        "id": "ae38ff51"
      },
      "outputs": [],
      "source": [
        "X_train, X_test, y_train, y_test = train_test_split(X_df_toy, y_df_toy,  test_size = 0.3, random_state = 42)"
      ]
    },
    {
      "cell_type": "code",
      "execution_count": null,
      "id": "f92f3351",
      "metadata": {
        "id": "f92f3351"
      },
      "outputs": [],
      "source": [
        "model = LinearRegression()\n",
        "model.fit(X_train,y_train)\n",
        "y_pred = model.predict(X_test)"
      ]
    },
    {
      "cell_type": "code",
      "execution_count": null,
      "id": "f6a7171b",
      "metadata": {
        "colab": {
          "base_uri": "https://localhost:8080/",
          "height": 252
        },
        "id": "f6a7171b",
        "outputId": "81ca5cd2-1bbf-4c59-e87b-c180758b3eba"
      },
      "outputs": [
        {
          "output_type": "display_data",
          "data": {
            "text/plain": [
              "<Figure size 432x288 with 1 Axes>"
            ],
            "image/png": "[encoded data removed]"
          },
          "metadata": {}
        }
      ],
      "source": [
        "# Plot outputs\n",
        "plt.scatter(X_test, y_test, color=\"black\")\n",
        "plt.plot(X_test,y_pred, color=\"blue\", linewidth=3)\n",
        "\n",
        "plt.xticks(())\n",
        "plt.yticks(())\n",
        "\n",
        "plt.show()"
      ]
    },
    {
      "cell_type": "code",
      "execution_count": null,
      "id": "2243435f",
      "metadata": {
        "id": "2243435f"
      },
      "outputs": [],
      "source": [
        "#y  = kx+b\n",
        "# y  = 639.99 * x + 13080.31"
      ]
    },
    {
      "cell_type": "code",
      "source": [
        "print(f\"Coef: {model.coef_}\")"
      ],
      "metadata": {
        "colab": {
          "base_uri": "https://localhost:8080/"
        },
        "id": "dr_guPYXboyI",
        "outputId": "69888ff8-ede2-4dab-c732-38a9fdc14303"
      },
      "id": "dr_guPYXboyI",
      "execution_count": null,
      "outputs": [
        {
          "output_type": "stream",
          "name": "stdout",
          "text": [
            "Coef: [639.99654686]\n"
          ]
        }
      ]
    },
    {
      "cell_type": "code",
      "source": [
        "print(f\"Intercept: {model.intercept_}\")"
      ],
      "metadata": {
        "colab": {
          "base_uri": "https://localhost:8080/"
        },
        "id": "hN5trN_Vbz04",
        "outputId": "f7f90c3c-ff4e-400f-ae65-215d7c8c3281"
      },
      "id": "hN5trN_Vbz04",
      "execution_count": null,
      "outputs": [
        {
          "output_type": "stream",
          "name": "stdout",
          "text": [
            "Intercept: 13080.319307577563\n"
          ]
        }
      ]
    },
    {
      "cell_type": "markdown",
      "id": "4cbfffe6",
      "metadata": {
        "id": "4cbfffe6"
      },
      "source": [
        "## Множественная линейная регрессия"
      ]
    },
    {
      "cell_type": "code",
      "source": [
        "cat_columns = ['airline','flight','source_city','departure_time','stops','arrival_time','destination_city','class']"
      ],
      "metadata": {
        "id": "O93XewMOboPS"
      },
      "id": "O93XewMOboPS",
      "execution_count": null,
      "outputs": []
    },
    {
      "cell_type": "code",
      "source": [
        "df = pd.get_dummies(df, columns = cat_columns)"
      ],
      "metadata": {
        "id": "v5vmx1U0dYMh"
      },
      "id": "v5vmx1U0dYMh",
      "execution_count": null,
      "outputs": []
    },
    {
      "cell_type": "code",
      "source": [
        "df.head()"
      ],
      "metadata": {
        "colab": {
          "base_uri": "https://localhost:8080/",
          "height": 317
        },
        "id": "KlZN3NaQdf-a",
        "outputId": "f1fbef5b-1a3b-4000-9b58-cf53d7f5754b"
      },
      "id": "KlZN3NaQdf-a",
      "execution_count": null,
      "outputs": [
        {
          "output_type": "execute_result",
          "data": {
            "text/plain": [
              "   duration  days_left  price  airline_AirAsia  airline_Air_India  \\\n",
              "0      2.17          1   5953                0                  0   \n",
              "1      2.33          1   5953                0                  0   \n",
              "2      2.17          1   5956                1                  0   \n",
              "3      2.25          1   5955                0                  0   \n",
              "4      2.33          1   5955                0                  0   \n",
              "\n",
              "   airline_GO_FIRST  airline_Indigo  airline_SpiceJet  airline_Vistara  \\\n",
              "0                 0               0                 1                0   \n",
              "1                 0               0                 1                0   \n",
              "2                 0               0                 0                0   \n",
              "3                 0               0                 0                1   \n",
              "4                 0               0                 0                1   \n",
              "\n",
              "   flight_6E-102  ...  arrival_time_Morning  arrival_time_Night  \\\n",
              "0              0  ...                     0                   1   \n",
              "1              0  ...                     1                   0   \n",
              "2              0  ...                     0                   0   \n",
              "3              0  ...                     0                   0   \n",
              "4              0  ...                     1                   0   \n",
              "\n",
              "   destination_city_Bangalore  destination_city_Chennai  \\\n",
              "0                           0                         0   \n",
              "1                           0                         0   \n",
              "2                           0                         0   \n",
              "3                           0                         0   \n",
              "4                           0                         0   \n",
              "\n",
              "   destination_city_Delhi  destination_city_Hyderabad  \\\n",
              "0                       0                           0   \n",
              "1                       0                           0   \n",
              "2                       0                           0   \n",
              "3                       0                           0   \n",
              "4                       0                           0   \n",
              "\n",
              "   destination_city_Kolkata  destination_city_Mumbai  class_Business  \\\n",
              "0                         0                        1               0   \n",
              "1                         0                        1               0   \n",
              "2                         0                        1               0   \n",
              "3                         0                        1               0   \n",
              "4                         0                        1               0   \n",
              "\n",
              "   class_Economy  \n",
              "0              1  \n",
              "1              1  \n",
              "2              1  \n",
              "3              1  \n",
              "4              1  \n",
              "\n",
              "[5 rows x 1599 columns]"
            ],
            "text/html": [
              "\n",
              "  <div id=\"df-13f3d99f-d9df-4816-a308-cdd1610b0df4\">\n",
              "    <div class=\"colab-df-container\">\n",
              "      <div>\n",
              "<style scoped>\n",
              "    .dataframe tbody tr th:only-of-type {\n",
              "        vertical-align: middle;\n",
              "    }\n",
              "\n",
              "    .dataframe tbody tr th {\n",
              "        vertical-align: top;\n",
              "    }\n",
              "\n",
              "    .dataframe thead th {\n",
              "        text-align: right;\n",
              "    }\n",
              "</style>\n",
              "<table border=\"1\" class=\"dataframe\">\n",
              "  <thead>\n",
              "    <tr style=\"text-align: right;\">\n",
              "      <th></th>\n",
              "      <th>duration</th>\n",
              "      <th>days_left</th>\n",
              "      <th>price</th>\n",
              "      <th>airline_AirAsia</th>\n",
              "      <th>airline_Air_India</th>\n",
              "      <th>airline_GO_FIRST</th>\n",
              "      <th>airline_Indigo</th>\n",
              "      <th>airline_SpiceJet</th>\n",
              "      <th>airline_Vistara</th>\n",
              "      <th>flight_6E-102</th>\n",
              "      <th>...</th>\n",
              "      <th>arrival_time_Morning</th>\n",
              "      <th>arrival_time_Night</th>\n",
              "      <th>destination_city_Bangalore</th>\n",
              "      <th>destination_city_Chennai</th>\n",
              "      <th>destination_city_Delhi</th>\n",
              "      <th>destination_city_Hyderabad</th>\n",
              "      <th>destination_city_Kolkata</th>\n",
              "      <th>destination_city_Mumbai</th>\n",
              "      <th>class_Business</th>\n",
              "      <th>class_Economy</th>\n",
              "    </tr>\n",
              "  </thead>\n",
              "  <tbody>\n",
              "    <tr>\n",
              "      <th>0</th>\n",
              "      <td>2.17</td>\n",
              "      <td>1</td>\n",
              "      <td>5953</td>\n",
              "      <td>0</td>\n",
              "      <td>0</td>\n",
              "      <td>0</td>\n",
              "      <td>0</td>\n",
              "      <td>1</td>\n",
              "      <td>0</td>\n",
              "      <td>0</td>\n",
              "      <td>...</td>\n",
              "      <td>0</td>\n",
              "      <td>1</td>\n",
              "      <td>0</td>\n",
              "      <td>0</td>\n",
              "      <td>0</td>\n",
              "      <td>0</td>\n",
              "      <td>0</td>\n",
              "      <td>1</td>\n",
              "      <td>0</td>\n",
              "      <td>1</td>\n",
              "    </tr>\n",
              "    <tr>\n",
              "      <th>1</th>\n",
              "      <td>2.33</td>\n",
              "      <td>1</td>\n",
              "      <td>5953</td>\n",
              "      <td>0</td>\n",
              "      <td>0</td>\n",
              "      <td>0</td>\n",
              "      <td>0</td>\n",
              "      <td>1</td>\n",
              "      <td>0</td>\n",
              "      <td>0</td>\n",
              "      <td>...</td>\n",
              "      <td>1</td>\n",
              "      <td>0</td>\n",
              "      <td>0</td>\n",
              "      <td>0</td>\n",
              "      <td>0</td>\n",
              "      <td>0</td>\n",
              "      <td>0</td>\n",
              "      <td>1</td>\n",
              "      <td>0</td>\n",
              "      <td>1</td>\n",
              "    </tr>\n",
              "    <tr>\n",
              "      <th>2</th>\n",
              "      <td>2.17</td>\n",
              "      <td>1</td>\n",
              "      <td>5956</td>\n",
              "      <td>1</td>\n",
              "      <td>0</td>\n",
              "      <td>0</td>\n",
              "      <td>0</td>\n",
              "      <td>0</td>\n",
              "      <td>0</td>\n",
              "      <td>0</td>\n",
              "      <td>...</td>\n",
              "      <td>0</td>\n",
              "      <td>0</td>\n",
              "      <td>0</td>\n",
              "      <td>0</td>\n",
              "      <td>0</td>\n",
              "      <td>0</td>\n",
              "      <td>0</td>\n",
              "      <td>1</td>\n",
              "      <td>0</td>\n",
              "      <td>1</td>\n",
              "    </tr>\n",
              "    <tr>\n",
              "      <th>3</th>\n",
              "      <td>2.25</td>\n",
              "      <td>1</td>\n",
              "      <td>5955</td>\n",
              "      <td>0</td>\n",
              "      <td>0</td>\n",
              "      <td>0</td>\n",
              "      <td>0</td>\n",
              "      <td>0</td>\n",
              "      <td>1</td>\n",
              "      <td>0</td>\n",
              "      <td>...</td>\n",
              "      <td>0</td>\n",
              "      <td>0</td>\n",
              "      <td>0</td>\n",
              "      <td>0</td>\n",
              "      <td>0</td>\n",
              "      <td>0</td>\n",
              "      <td>0</td>\n",
              "      <td>1</td>\n",
              "      <td>0</td>\n",
              "      <td>1</td>\n",
              "    </tr>\n",
              "    <tr>\n",
              "      <th>4</th>\n",
              "      <td>2.33</td>\n",
              "      <td>1</td>\n",
              "      <td>5955</td>\n",
              "      <td>0</td>\n",
              "      <td>0</td>\n",
              "      <td>0</td>\n",
              "      <td>0</td>\n",
              "      <td>0</td>\n",
              "      <td>1</td>\n",
              "      <td>0</td>\n",
              "      <td>...</td>\n",
              "      <td>1</td>\n",
              "      <td>0</td>\n",
              "      <td>0</td>\n",
              "      <td>0</td>\n",
              "      <td>0</td>\n",
              "      <td>0</td>\n",
              "      <td>0</td>\n",
              "      <td>1</td>\n",
              "      <td>0</td>\n",
              "      <td>1</td>\n",
              "    </tr>\n",
              "  </tbody>\n",
              "</table>\n",
              "<p>5 rows × 1599 columns</p>\n",
              "</div>\n",
              "      <button class=\"colab-df-convert\" onclick=\"convertToInteractive('df-13f3d99f-d9df-4816-a308-cdd1610b0df4')\"\n",
              "              title=\"Convert this dataframe to an interactive table.\"\n",
              "              style=\"display:none;\">\n",
              "        \n",
              "  <svg xmlns=\"http://www.w3.org/2000/svg\" height=\"24px\"viewBox=\"0 0 24 24\"\n",
              "       width=\"24px\">\n",
              "    <path d=\"M0 0h24v24H0V0z\" fill=\"none\"/>\n",
              "    <path d=\"M18.56 5.44l.94 2.06.94-2.06 2.06-.94-2.06-.94-.94-2.06-.94 2.06-2.06.94zm-11 1L8.5 8.5l.94-2.06 2.06-.94-2.06-.94L8.5 2.5l-.94 2.06-2.06.94zm10 10l.94 2.06.94-2.06 2.06-.94-2.06-.94-.94-2.06-.94 2.06-2.06.94z\"/><path d=\"M17.41 7.96l-1.37-1.37c-.4-.4-.92-.59-1.43-.59-.52 0-1.04.2-1.43.59L10.3 9.45l-7.72 7.72c-.78.78-.78 2.05 0 2.83L4 21.41c.39.39.9.59 1.41.59.51 0 1.02-.2 1.41-.59l7.78-7.78 2.81-2.81c.8-.78.8-2.07 0-2.86zM5.41 20L4 18.59l7.72-7.72 1.47 1.35L5.41 20z\"/>\n",
              "  </svg>\n",
              "      </button>\n",
              "      \n",
              "  <style>\n",
              "    .colab-df-container {\n",
              "      display:flex;\n",
              "      flex-wrap:wrap;\n",
              "      gap: 12px;\n",
              "    }\n",
              "\n",
              "    .colab-df-convert {\n",
              "      background-color: #E8F0FE;\n",
              "      border: none;\n",
              "      border-radius: 50%;\n",
              "      cursor: pointer;\n",
              "      display: none;\n",
              "      fill: #1967D2;\n",
              "      height: 32px;\n",
              "      padding: 0 0 0 0;\n",
              "      width: 32px;\n",
              "    }\n",
              "\n",
              "    .colab-df-convert:hover {\n",
              "      background-color: #E2EBFA;\n",
              "      box-shadow: 0px 1px 2px rgba(60, 64, 67, 0.3), 0px 1px 3px 1px rgba(60, 64, 67, 0.15);\n",
              "      fill: #174EA6;\n",
              "    }\n",
              "\n",
              "    [theme=dark] .colab-df-convert {\n",
              "      background-color: #3B4455;\n",
              "      fill: #D2E3FC;\n",
              "    }\n",
              "\n",
              "    [theme=dark] .colab-df-convert:hover {\n",
              "      background-color: #434B5C;\n",
              "      box-shadow: 0px 1px 3px 1px rgba(0, 0, 0, 0.15);\n",
              "      filter: drop-shadow(0px 1px 2px rgba(0, 0, 0, 0.3));\n",
              "      fill: #FFFFFF;\n",
              "    }\n",
              "  </style>\n",
              "\n",
              "      <script>\n",
              "        const buttonEl =\n",
              "          document.querySelector('#df-13f3d99f-d9df-4816-a308-cdd1610b0df4 button.colab-df-convert');\n",
              "        buttonEl.style.display =\n",
              "          google.colab.kernel.accessAllowed ? 'block' : 'none';\n",
              "\n",
              "        async function convertToInteractive(key) {\n",
              "          const element = document.querySelector('#df-13f3d99f-d9df-4816-a308-cdd1610b0df4');\n",
              "          const dataTable =\n",
              "            await google.colab.kernel.invokeFunction('convertToInteractive',\n",
              "                                                     [key], {});\n",
              "          if (!dataTable) return;\n",
              "\n",
              "          const docLinkHtml = 'Like what you see? Visit the ' +\n",
              "            '<a target=\"_blank\" href=https://colab.research.google.com/notebooks/data_table.ipynb>data table notebook</a>'\n",
              "            + ' to learn more about interactive tables.';\n",
              "          element.innerHTML = '';\n",
              "          dataTable['output_type'] = 'display_data';\n",
              "          await google.colab.output.renderOutput(dataTable, element);\n",
              "          const docLink = document.createElement('div');\n",
              "          docLink.innerHTML = docLinkHtml;\n",
              "          element.appendChild(docLink);\n",
              "        }\n",
              "      </script>\n",
              "    </div>\n",
              "  </div>\n",
              "  "
            ]
          },
          "metadata": {},
          "execution_count": 32
        }
      ]
    },
    {
      "cell_type": "code",
      "source": [
        "y = df['price']\n",
        "X = df.drop(['price'], axis=1)"
      ],
      "metadata": {
        "id": "18yhA27zdlaF"
      },
      "id": "18yhA27zdlaF",
      "execution_count": null,
      "outputs": []
    },
    {
      "cell_type": "code",
      "source": [
        "X_train, X_test, y_train, y_test = train_test_split(X, y,  test_size = 0.3, random_state = 42)"
      ],
      "metadata": {
        "id": "_bL0uzHhduG9"
      },
      "id": "_bL0uzHhduG9",
      "execution_count": null,
      "outputs": []
    },
    {
      "cell_type": "code",
      "source": [
        "model = LinearRegression()\n",
        "model.fit(X_train,y_train)\n",
        "y_pred = model.predict(X_test)"
      ],
      "metadata": {
        "id": "dl3SM-9odyvg"
      },
      "id": "dl3SM-9odyvg",
      "execution_count": null,
      "outputs": []
    },
    {
      "cell_type": "code",
      "source": [
        "#y = b + k1*x1 + k2*x2 + ... kn*xn"
      ],
      "metadata": {
        "id": "MEQ3xej5eOw3"
      },
      "id": "MEQ3xej5eOw3",
      "execution_count": null,
      "outputs": []
    },
    {
      "cell_type": "code",
      "source": [
        "print(f\"Coef: {model.coef_}\")"
      ],
      "metadata": {
        "colab": {
          "base_uri": "https://localhost:8080/"
        },
        "id": "S09B_uBoebCz",
        "outputId": "fc73302d-afc7-4e2f-8c07-41af002cff09"
      },
      "id": "S09B_uBoebCz",
      "execution_count": null,
      "outputs": [
        {
          "output_type": "stream",
          "name": "stdout",
          "text": [
            "Coef: [ 5.67891061e+01 -1.27256423e+02 -1.21635803e+13 ... -9.10991564e+12\n",
            "  1.75750863e+13  1.75750863e+13]\n"
          ]
        }
      ]
    },
    {
      "cell_type": "code",
      "source": [
        "print(f\"Intercept: {model.intercept_}\")"
      ],
      "metadata": {
        "colab": {
          "base_uri": "https://localhost:8080/"
        },
        "id": "ar5orA8Mecyr",
        "outputId": "34e144a2-18d6-4863-c59d-fadd79f40b8c"
      },
      "id": "ar5orA8Mecyr",
      "execution_count": null,
      "outputs": [
        {
          "output_type": "stream",
          "name": "stdout",
          "text": [
            "Intercept: -129560310471495.78\n"
          ]
        }
      ]
    },
    {
      "cell_type": "markdown",
      "id": "629b7ffb",
      "metadata": {
        "id": "629b7ffb"
      },
      "source": [
        "## Метрики"
      ]
    },
    {
      "cell_type": "code",
      "execution_count": null,
      "id": "5aa468cc",
      "metadata": {
        "id": "5aa468cc"
      },
      "outputs": [],
      "source": [
        "#считаем метрики mae, mse, rmse, r2"
      ]
    },
    {
      "cell_type": "code",
      "source": [
        "df2  = pd.DataFrame(\n",
        "    {\n",
        "        'gt': y_test,\n",
        "        'pred': y_pred\n",
        "    }\n",
        ")"
      ],
      "metadata": {
        "id": "1z6Q8Y8Ge4gI"
      },
      "id": "1z6Q8Y8Ge4gI",
      "execution_count": null,
      "outputs": []
    },
    {
      "cell_type": "code",
      "source": [
        "df2.head()"
      ],
      "metadata": {
        "colab": {
          "base_uri": "https://localhost:8080/",
          "height": 206
        },
        "id": "UAkM76G_fM8R",
        "outputId": "45bffbb1-a102-40bc-fdd9-e602ddfa1176"
      },
      "id": "UAkM76G_fM8R",
      "execution_count": null,
      "outputs": [
        {
          "output_type": "execute_result",
          "data": {
            "text/plain": [
              "           gt         pred\n",
              "27131    7366   6335.40625\n",
              "266857  64831  56319.65625\n",
              "141228   6195  12883.25000\n",
              "288329  60160  53588.31250\n",
              "97334    6578  11071.25000"
            ],
            "text/html": [
              "\n",
              "  <div id=\"df-e1a5c2de-3231-46e0-9346-9b86cb792d6b\">\n",
              "    <div class=\"colab-df-container\">\n",
              "      <div>\n",
              "<style scoped>\n",
              "    .dataframe tbody tr th:only-of-type {\n",
              "        vertical-align: middle;\n",
              "    }\n",
              "\n",
              "    .dataframe tbody tr th {\n",
              "        vertical-align: top;\n",
              "    }\n",
              "\n",
              "    .dataframe thead th {\n",
              "        text-align: right;\n",
              "    }\n",
              "</style>\n",
              "<table border=\"1\" class=\"dataframe\">\n",
              "  <thead>\n",
              "    <tr style=\"text-align: right;\">\n",
              "      <th></th>\n",
              "      <th>gt</th>\n",
              "      <th>pred</th>\n",
              "    </tr>\n",
              "  </thead>\n",
              "  <tbody>\n",
              "    <tr>\n",
              "      <th>27131</th>\n",
              "      <td>7366</td>\n",
              "      <td>6335.40625</td>\n",
              "    </tr>\n",
              "    <tr>\n",
              "      <th>266857</th>\n",
              "      <td>64831</td>\n",
              "      <td>56319.65625</td>\n",
              "    </tr>\n",
              "    <tr>\n",
              "      <th>141228</th>\n",
              "      <td>6195</td>\n",
              "      <td>12883.25000</td>\n",
              "    </tr>\n",
              "    <tr>\n",
              "      <th>288329</th>\n",
              "      <td>60160</td>\n",
              "      <td>53588.31250</td>\n",
              "    </tr>\n",
              "    <tr>\n",
              "      <th>97334</th>\n",
              "      <td>6578</td>\n",
              "      <td>11071.25000</td>\n",
              "    </tr>\n",
              "  </tbody>\n",
              "</table>\n",
              "</div>\n",
              "      <button class=\"colab-df-convert\" onclick=\"convertToInteractive('df-e1a5c2de-3231-46e0-9346-9b86cb792d6b')\"\n",
              "              title=\"Convert this dataframe to an interactive table.\"\n",
              "              style=\"display:none;\">\n",
              "        \n",
              "  <svg xmlns=\"http://www.w3.org/2000/svg\" height=\"24px\"viewBox=\"0 0 24 24\"\n",
              "       width=\"24px\">\n",
              "    <path d=\"M0 0h24v24H0V0z\" fill=\"none\"/>\n",
              "    <path d=\"M18.56 5.44l.94 2.06.94-2.06 2.06-.94-2.06-.94-.94-2.06-.94 2.06-2.06.94zm-11 1L8.5 8.5l.94-2.06 2.06-.94-2.06-.94L8.5 2.5l-.94 2.06-2.06.94zm10 10l.94 2.06.94-2.06 2.06-.94-2.06-.94-.94-2.06-.94 2.06-2.06.94z\"/><path d=\"M17.41 7.96l-1.37-1.37c-.4-.4-.92-.59-1.43-.59-.52 0-1.04.2-1.43.59L10.3 9.45l-7.72 7.72c-.78.78-.78 2.05 0 2.83L4 21.41c.39.39.9.59 1.41.59.51 0 1.02-.2 1.41-.59l7.78-7.78 2.81-2.81c.8-.78.8-2.07 0-2.86zM5.41 20L4 18.59l7.72-7.72 1.47 1.35L5.41 20z\"/>\n",
              "  </svg>\n",
              "      </button>\n",
              "      \n",
              "  <style>\n",
              "    .colab-df-container {\n",
              "      display:flex;\n",
              "      flex-wrap:wrap;\n",
              "      gap: 12px;\n",
              "    }\n",
              "\n",
              "    .colab-df-convert {\n",
              "      background-color: #E8F0FE;\n",
              "      border: none;\n",
              "      border-radius: 50%;\n",
              "      cursor: pointer;\n",
              "      display: none;\n",
              "      fill: #1967D2;\n",
              "      height: 32px;\n",
              "      padding: 0 0 0 0;\n",
              "      width: 32px;\n",
              "    }\n",
              "\n",
              "    .colab-df-convert:hover {\n",
              "      background-color: #E2EBFA;\n",
              "      box-shadow: 0px 1px 2px rgba(60, 64, 67, 0.3), 0px 1px 3px 1px rgba(60, 64, 67, 0.15);\n",
              "      fill: #174EA6;\n",
              "    }\n",
              "\n",
              "    [theme=dark] .colab-df-convert {\n",
              "      background-color: #3B4455;\n",
              "      fill: #D2E3FC;\n",
              "    }\n",
              "\n",
              "    [theme=dark] .colab-df-convert:hover {\n",
              "      background-color: #434B5C;\n",
              "      box-shadow: 0px 1px 3px 1px rgba(0, 0, 0, 0.15);\n",
              "      filter: drop-shadow(0px 1px 2px rgba(0, 0, 0, 0.3));\n",
              "      fill: #FFFFFF;\n",
              "    }\n",
              "  </style>\n",
              "\n",
              "      <script>\n",
              "        const buttonEl =\n",
              "          document.querySelector('#df-e1a5c2de-3231-46e0-9346-9b86cb792d6b button.colab-df-convert');\n",
              "        buttonEl.style.display =\n",
              "          google.colab.kernel.accessAllowed ? 'block' : 'none';\n",
              "\n",
              "        async function convertToInteractive(key) {\n",
              "          const element = document.querySelector('#df-e1a5c2de-3231-46e0-9346-9b86cb792d6b');\n",
              "          const dataTable =\n",
              "            await google.colab.kernel.invokeFunction('convertToInteractive',\n",
              "                                                     [key], {});\n",
              "          if (!dataTable) return;\n",
              "\n",
              "          const docLinkHtml = 'Like what you see? Visit the ' +\n",
              "            '<a target=\"_blank\" href=https://colab.research.google.com/notebooks/data_table.ipynb>data table notebook</a>'\n",
              "            + ' to learn more about interactive tables.';\n",
              "          element.innerHTML = '';\n",
              "          dataTable['output_type'] = 'display_data';\n",
              "          await google.colab.output.renderOutput(dataTable, element);\n",
              "          const docLink = document.createElement('div');\n",
              "          docLink.innerHTML = docLinkHtml;\n",
              "          element.appendChild(docLink);\n",
              "        }\n",
              "      </script>\n",
              "    </div>\n",
              "  </div>\n",
              "  "
            ]
          },
          "metadata": {},
          "execution_count": 42
        }
      ]
    },
    {
      "cell_type": "code",
      "source": [
        "df2['diff'] = df2['gt'] - df2['pred']\n",
        "df2.head()"
      ],
      "metadata": {
        "colab": {
          "base_uri": "https://localhost:8080/",
          "height": 206
        },
        "id": "L_PVV9s9fW5S",
        "outputId": "fb3f9dc4-3c8e-4c5e-cdd2-5e219ea121af"
      },
      "id": "L_PVV9s9fW5S",
      "execution_count": null,
      "outputs": [
        {
          "output_type": "execute_result",
          "data": {
            "text/plain": [
              "           gt         pred        diff\n",
              "27131    7366   6335.40625  1030.59375\n",
              "266857  64831  56319.65625  8511.34375\n",
              "141228   6195  12883.25000 -6688.25000\n",
              "288329  60160  53588.31250  6571.68750\n",
              "97334    6578  11071.25000 -4493.25000"
            ],
            "text/html": [
              "\n",
              "  <div id=\"df-f7f4e719-100a-4852-a556-ef12663e6318\">\n",
              "    <div class=\"colab-df-container\">\n",
              "      <div>\n",
              "<style scoped>\n",
              "    .dataframe tbody tr th:only-of-type {\n",
              "        vertical-align: middle;\n",
              "    }\n",
              "\n",
              "    .dataframe tbody tr th {\n",
              "        vertical-align: top;\n",
              "    }\n",
              "\n",
              "    .dataframe thead th {\n",
              "        text-align: right;\n",
              "    }\n",
              "</style>\n",
              "<table border=\"1\" class=\"dataframe\">\n",
              "  <thead>\n",
              "    <tr style=\"text-align: right;\">\n",
              "      <th></th>\n",
              "      <th>gt</th>\n",
              "      <th>pred</th>\n",
              "      <th>diff</th>\n",
              "    </tr>\n",
              "  </thead>\n",
              "  <tbody>\n",
              "    <tr>\n",
              "      <th>27131</th>\n",
              "      <td>7366</td>\n",
              "      <td>6335.40625</td>\n",
              "      <td>1030.59375</td>\n",
              "    </tr>\n",
              "    <tr>\n",
              "      <th>266857</th>\n",
              "      <td>64831</td>\n",
              "      <td>56319.65625</td>\n",
              "      <td>8511.34375</td>\n",
              "    </tr>\n",
              "    <tr>\n",
              "      <th>141228</th>\n",
              "      <td>6195</td>\n",
              "      <td>12883.25000</td>\n",
              "      <td>-6688.25000</td>\n",
              "    </tr>\n",
              "    <tr>\n",
              "      <th>288329</th>\n",
              "      <td>60160</td>\n",
              "      <td>53588.31250</td>\n",
              "      <td>6571.68750</td>\n",
              "    </tr>\n",
              "    <tr>\n",
              "      <th>97334</th>\n",
              "      <td>6578</td>\n",
              "      <td>11071.25000</td>\n",
              "      <td>-4493.25000</td>\n",
              "    </tr>\n",
              "  </tbody>\n",
              "</table>\n",
              "</div>\n",
              "      <button class=\"colab-df-convert\" onclick=\"convertToInteractive('df-f7f4e719-100a-4852-a556-ef12663e6318')\"\n",
              "              title=\"Convert this dataframe to an interactive table.\"\n",
              "              style=\"display:none;\">\n",
              "        \n",
              "  <svg xmlns=\"http://www.w3.org/2000/svg\" height=\"24px\"viewBox=\"0 0 24 24\"\n",
              "       width=\"24px\">\n",
              "    <path d=\"M0 0h24v24H0V0z\" fill=\"none\"/>\n",
              "    <path d=\"M18.56 5.44l.94 2.06.94-2.06 2.06-.94-2.06-.94-.94-2.06-.94 2.06-2.06.94zm-11 1L8.5 8.5l.94-2.06 2.06-.94-2.06-.94L8.5 2.5l-.94 2.06-2.06.94zm10 10l.94 2.06.94-2.06 2.06-.94-2.06-.94-.94-2.06-.94 2.06-2.06.94z\"/><path d=\"M17.41 7.96l-1.37-1.37c-.4-.4-.92-.59-1.43-.59-.52 0-1.04.2-1.43.59L10.3 9.45l-7.72 7.72c-.78.78-.78 2.05 0 2.83L4 21.41c.39.39.9.59 1.41.59.51 0 1.02-.2 1.41-.59l7.78-7.78 2.81-2.81c.8-.78.8-2.07 0-2.86zM5.41 20L4 18.59l7.72-7.72 1.47 1.35L5.41 20z\"/>\n",
              "  </svg>\n",
              "      </button>\n",
              "      \n",
              "  <style>\n",
              "    .colab-df-container {\n",
              "      display:flex;\n",
              "      flex-wrap:wrap;\n",
              "      gap: 12px;\n",
              "    }\n",
              "\n",
              "    .colab-df-convert {\n",
              "      background-color: #E8F0FE;\n",
              "      border: none;\n",
              "      border-radius: 50%;\n",
              "      cursor: pointer;\n",
              "      display: none;\n",
              "      fill: #1967D2;\n",
              "      height: 32px;\n",
              "      padding: 0 0 0 0;\n",
              "      width: 32px;\n",
              "    }\n",
              "\n",
              "    .colab-df-convert:hover {\n",
              "      background-color: #E2EBFA;\n",
              "      box-shadow: 0px 1px 2px rgba(60, 64, 67, 0.3), 0px 1px 3px 1px rgba(60, 64, 67, 0.15);\n",
              "      fill: #174EA6;\n",
              "    }\n",
              "\n",
              "    [theme=dark] .colab-df-convert {\n",
              "      background-color: #3B4455;\n",
              "      fill: #D2E3FC;\n",
              "    }\n",
              "\n",
              "    [theme=dark] .colab-df-convert:hover {\n",
              "      background-color: #434B5C;\n",
              "      box-shadow: 0px 1px 3px 1px rgba(0, 0, 0, 0.15);\n",
              "      filter: drop-shadow(0px 1px 2px rgba(0, 0, 0, 0.3));\n",
              "      fill: #FFFFFF;\n",
              "    }\n",
              "  </style>\n",
              "\n",
              "      <script>\n",
              "        const buttonEl =\n",
              "          document.querySelector('#df-f7f4e719-100a-4852-a556-ef12663e6318 button.colab-df-convert');\n",
              "        buttonEl.style.display =\n",
              "          google.colab.kernel.accessAllowed ? 'block' : 'none';\n",
              "\n",
              "        async function convertToInteractive(key) {\n",
              "          const element = document.querySelector('#df-f7f4e719-100a-4852-a556-ef12663e6318');\n",
              "          const dataTable =\n",
              "            await google.colab.kernel.invokeFunction('convertToInteractive',\n",
              "                                                     [key], {});\n",
              "          if (!dataTable) return;\n",
              "\n",
              "          const docLinkHtml = 'Like what you see? Visit the ' +\n",
              "            '<a target=\"_blank\" href=https://colab.research.google.com/notebooks/data_table.ipynb>data table notebook</a>'\n",
              "            + ' to learn more about interactive tables.';\n",
              "          element.innerHTML = '';\n",
              "          dataTable['output_type'] = 'display_data';\n",
              "          await google.colab.output.renderOutput(dataTable, element);\n",
              "          const docLink = document.createElement('div');\n",
              "          docLink.innerHTML = docLinkHtml;\n",
              "          element.appendChild(docLink);\n",
              "        }\n",
              "      </script>\n",
              "    </div>\n",
              "  </div>\n",
              "  "
            ]
          },
          "metadata": {},
          "execution_count": 46
        }
      ]
    },
    {
      "cell_type": "markdown",
      "source": [
        "![image.png](data:image/png;base64,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)"
      ],
      "metadata": {
        "id": "83RP7WkNgS69"
      },
      "id": "83RP7WkNgS69"
    },
    {
      "cell_type": "code",
      "source": [
        "df2['pred_squared'] = (df2['gt'] - df2['pred']) ** 2\n",
        "df2['pred_squared'].mean()"
      ],
      "metadata": {
        "colab": {
          "base_uri": "https://localhost:8080/"
        },
        "id": "F03tPxGdgclg",
        "outputId": "9894fa24-3f8d-4a9c-e6d2-6b6bb72de19e"
      },
      "id": "F03tPxGdgclg",
      "execution_count": null,
      "outputs": [
        {
          "output_type": "execute_result",
          "data": {
            "text/plain": [
              "2.244989796874995e+20"
            ]
          },
          "metadata": {},
          "execution_count": 49
        }
      ]
    },
    {
      "cell_type": "code",
      "source": [
        "from sklearn.metrics import mean_squared_error\n",
        "mean_squared_error(df2['gt'], df2['pred'])"
      ],
      "metadata": {
        "colab": {
          "base_uri": "https://localhost:8080/"
        },
        "id": "6yRsOk46g6tV",
        "outputId": "846d0c94-c75b-43c9-d523-6d7bf459d635"
      },
      "id": "6yRsOk46g6tV",
      "execution_count": null,
      "outputs": [
        {
          "output_type": "execute_result",
          "data": {
            "text/plain": [
              "2.244989796874995e+20"
            ]
          },
          "metadata": {},
          "execution_count": 50
        }
      ]
    },
    {
      "cell_type": "code",
      "source": [
        "y = range(1,11)\n",
        "y_pred  = [1,3,5,8,14,12,6,7,2,19]\n",
        "mean_squared_error(y, y_pred)"
      ],
      "metadata": {
        "colab": {
          "base_uri": "https://localhost:8080/"
        },
        "id": "B9UQfBhlhU6R",
        "outputId": "b15fd605-b517-476d-ce14-e3d159c62795"
      },
      "id": "B9UQfBhlhU6R",
      "execution_count": null,
      "outputs": [
        {
          "output_type": "execute_result",
          "data": {
            "text/plain": [
              "27.0"
            ]
          },
          "metadata": {},
          "execution_count": 52
        }
      ]
    },
    {
      "cell_type": "code",
      "source": [
        "y = range(1001,1011)\n",
        "y_pred  = [1001,1003,1005,1008,1014,1012,1006,1007,1002,1019]\n",
        "mean_squared_error(y, y_pred)"
      ],
      "metadata": {
        "colab": {
          "base_uri": "https://localhost:8080/"
        },
        "id": "9iwI9BWNiFKA",
        "outputId": "0d1f0f0c-77e0-4bc3-f444-e8f215aa29f8"
      },
      "id": "9iwI9BWNiFKA",
      "execution_count": null,
      "outputs": [
        {
          "output_type": "execute_result",
          "data": {
            "text/plain": [
              "27.0"
            ]
          },
          "metadata": {},
          "execution_count": 54
        }
      ]
    },
    {
      "cell_type": "code",
      "source": [
        "df2['avg']  = df2['gt'].mean()\n",
        "df2['avg']"
      ],
      "metadata": {
        "colab": {
          "base_uri": "https://localhost:8080/"
        },
        "id": "7znPE8nfiuO5",
        "outputId": "a771f542-7818-47b4-fa0f-5f335d604eb4"
      },
      "id": "7znPE8nfiuO5",
      "execution_count": null,
      "outputs": [
        {
          "output_type": "execute_result",
          "data": {
            "text/plain": [
              "27131     20874.98141\n",
              "266857    20874.98141\n",
              "141228    20874.98141\n",
              "288329    20874.98141\n",
              "97334     20874.98141\n",
              "             ...     \n",
              "123895    20874.98141\n",
              "251253    20874.98141\n",
              "8335      20874.98141\n",
              "68668     20874.98141\n",
              "108970    20874.98141\n",
              "Name: avg, Length: 90046, dtype: float64"
            ]
          },
          "metadata": {},
          "execution_count": 55
        }
      ]
    },
    {
      "cell_type": "code",
      "source": [
        "mse_b = mean_squared_error(df2['gt'], df2['avg'])\n",
        "mse_b"
      ],
      "metadata": {
        "colab": {
          "base_uri": "https://localhost:8080/"
        },
        "id": "ARBWXlW9jQ7Z",
        "outputId": "2dee09ab-6825-44b9-a75f-b586439d46b1"
      },
      "id": "ARBWXlW9jQ7Z",
      "execution_count": null,
      "outputs": [
        {
          "output_type": "execute_result",
          "data": {
            "text/plain": [
              "514666501.72663844"
            ]
          },
          "metadata": {},
          "execution_count": 57
        }
      ]
    },
    {
      "cell_type": "code",
      "source": [
        "mse_a = mean_squared_error(df2['gt'], df2['pred'])\n",
        "mse_a"
      ],
      "metadata": {
        "colab": {
          "base_uri": "https://localhost:8080/"
        },
        "id": "r24GPk-Xj-Qt",
        "outputId": "193932c3-4e82-4870-aea8-153f4791de89"
      },
      "id": "r24GPk-Xj-Qt",
      "execution_count": null,
      "outputs": [
        {
          "output_type": "execute_result",
          "data": {
            "text/plain": [
              "2.244989796874995e+20"
            ]
          },
          "metadata": {},
          "execution_count": 58
        }
      ]
    },
    {
      "cell_type": "code",
      "source": [
        "r2 = 1 - (mse_a/mse_b)\n",
        "r2"
      ],
      "metadata": {
        "colab": {
          "base_uri": "https://localhost:8080/"
        },
        "id": "uQWjmKVOkDCV",
        "outputId": "fb1ce798-c15a-4ab3-f94c-a77e54570d43"
      },
      "id": "uQWjmKVOkDCV",
      "execution_count": null,
      "outputs": [
        {
          "output_type": "execute_result",
          "data": {
            "text/plain": [
              "-436202820532.9476"
            ]
          },
          "metadata": {},
          "execution_count": 60
        }
      ]
    },
    {
      "cell_type": "markdown",
      "id": "c0b7962b",
      "metadata": {
        "id": "c0b7962b"
      },
      "source": [
        "## Регуляризация"
      ]
    },
    {
      "cell_type": "markdown",
      "id": "16fef0ba",
      "metadata": {
        "id": "16fef0ba"
      },
      "source": [
        "https://scikit-learn.org/stable/modules/generated/sklearn.linear_model.Ridge.html"
      ]
    },
    {
      "cell_type": "code",
      "execution_count": null,
      "id": "a1444bfe",
      "metadata": {
        "id": "a1444bfe"
      },
      "outputs": [],
      "source": [
        "#попробовать регуляризацию и посмотреть, как изменятся метрики при этом"
      ]
    },
    {
      "cell_type": "code",
      "execution_count": null,
      "id": "edc90529",
      "metadata": {
        "id": "edc90529"
      },
      "outputs": [],
      "source": [
        "from sklearn.linear_model import Ridge"
      ]
    },
    {
      "cell_type": "code",
      "source": [
        "model = Ridge()\n",
        "model.fit(X_train,y_train)\n",
        "y_pred = model.predict(X_test)"
      ],
      "metadata": {
        "id": "Z5GBaC3amSXk"
      },
      "id": "Z5GBaC3amSXk",
      "execution_count": null,
      "outputs": []
    },
    {
      "cell_type": "code",
      "source": [
        "df_ridge  = pd.DataFrame(\n",
        "    {\n",
        "        'gt': y_test,\n",
        "        'pred': y_pred\n",
        "    }\n",
        ")\n",
        "df_ridge.head()"
      ],
      "metadata": {
        "colab": {
          "base_uri": "https://localhost:8080/",
          "height": 206
        },
        "id": "E8kglMjUmnQ4",
        "outputId": "86673f0c-b82e-4354-f411-4095668c2692"
      },
      "id": "E8kglMjUmnQ4",
      "execution_count": null,
      "outputs": [
        {
          "output_type": "execute_result",
          "data": {
            "text/plain": [
              "           gt          pred\n",
              "27131    7366   6328.457007\n",
              "266857  64831  56215.030024\n",
              "141228   6195  12889.834125\n",
              "288329  60160  53570.420002\n",
              "97334    6578  11056.948023"
            ],
            "text/html": [
              "\n",
              "  <div id=\"df-22c79a57-3d37-441b-a55f-1862d8dc2900\">\n",
              "    <div class=\"colab-df-container\">\n",
              "      <div>\n",
              "<style scoped>\n",
              "    .dataframe tbody tr th:only-of-type {\n",
              "        vertical-align: middle;\n",
              "    }\n",
              "\n",
              "    .dataframe tbody tr th {\n",
              "        vertical-align: top;\n",
              "    }\n",
              "\n",
              "    .dataframe thead th {\n",
              "        text-align: right;\n",
              "    }\n",
              "</style>\n",
              "<table border=\"1\" class=\"dataframe\">\n",
              "  <thead>\n",
              "    <tr style=\"text-align: right;\">\n",
              "      <th></th>\n",
              "      <th>gt</th>\n",
              "      <th>pred</th>\n",
              "    </tr>\n",
              "  </thead>\n",
              "  <tbody>\n",
              "    <tr>\n",
              "      <th>27131</th>\n",
              "      <td>7366</td>\n",
              "      <td>6328.457007</td>\n",
              "    </tr>\n",
              "    <tr>\n",
              "      <th>266857</th>\n",
              "      <td>64831</td>\n",
              "      <td>56215.030024</td>\n",
              "    </tr>\n",
              "    <tr>\n",
              "      <th>141228</th>\n",
              "      <td>6195</td>\n",
              "      <td>12889.834125</td>\n",
              "    </tr>\n",
              "    <tr>\n",
              "      <th>288329</th>\n",
              "      <td>60160</td>\n",
              "      <td>53570.420002</td>\n",
              "    </tr>\n",
              "    <tr>\n",
              "      <th>97334</th>\n",
              "      <td>6578</td>\n",
              "      <td>11056.948023</td>\n",
              "    </tr>\n",
              "  </tbody>\n",
              "</table>\n",
              "</div>\n",
              "      <button class=\"colab-df-convert\" onclick=\"convertToInteractive('df-22c79a57-3d37-441b-a55f-1862d8dc2900')\"\n",
              "              title=\"Convert this dataframe to an interactive table.\"\n",
              "              style=\"display:none;\">\n",
              "        \n",
              "  <svg xmlns=\"http://www.w3.org/2000/svg\" height=\"24px\"viewBox=\"0 0 24 24\"\n",
              "       width=\"24px\">\n",
              "    <path d=\"M0 0h24v24H0V0z\" fill=\"none\"/>\n",
              "    <path d=\"M18.56 5.44l.94 2.06.94-2.06 2.06-.94-2.06-.94-.94-2.06-.94 2.06-2.06.94zm-11 1L8.5 8.5l.94-2.06 2.06-.94-2.06-.94L8.5 2.5l-.94 2.06-2.06.94zm10 10l.94 2.06.94-2.06 2.06-.94-2.06-.94-.94-2.06-.94 2.06-2.06.94z\"/><path d=\"M17.41 7.96l-1.37-1.37c-.4-.4-.92-.59-1.43-.59-.52 0-1.04.2-1.43.59L10.3 9.45l-7.72 7.72c-.78.78-.78 2.05 0 2.83L4 21.41c.39.39.9.59 1.41.59.51 0 1.02-.2 1.41-.59l7.78-7.78 2.81-2.81c.8-.78.8-2.07 0-2.86zM5.41 20L4 18.59l7.72-7.72 1.47 1.35L5.41 20z\"/>\n",
              "  </svg>\n",
              "      </button>\n",
              "      \n",
              "  <style>\n",
              "    .colab-df-container {\n",
              "      display:flex;\n",
              "      flex-wrap:wrap;\n",
              "      gap: 12px;\n",
              "    }\n",
              "\n",
              "    .colab-df-convert {\n",
              "      background-color: #E8F0FE;\n",
              "      border: none;\n",
              "      border-radius: 50%;\n",
              "      cursor: pointer;\n",
              "      display: none;\n",
              "      fill: #1967D2;\n",
              "      height: 32px;\n",
              "      padding: 0 0 0 0;\n",
              "      width: 32px;\n",
              "    }\n",
              "\n",
              "    .colab-df-convert:hover {\n",
              "      background-color: #E2EBFA;\n",
              "      box-shadow: 0px 1px 2px rgba(60, 64, 67, 0.3), 0px 1px 3px 1px rgba(60, 64, 67, 0.15);\n",
              "      fill: #174EA6;\n",
              "    }\n",
              "\n",
              "    [theme=dark] .colab-df-convert {\n",
              "      background-color: #3B4455;\n",
              "      fill: #D2E3FC;\n",
              "    }\n",
              "\n",
              "    [theme=dark] .colab-df-convert:hover {\n",
              "      background-color: #434B5C;\n",
              "      box-shadow: 0px 1px 3px 1px rgba(0, 0, 0, 0.15);\n",
              "      filter: drop-shadow(0px 1px 2px rgba(0, 0, 0, 0.3));\n",
              "      fill: #FFFFFF;\n",
              "    }\n",
              "  </style>\n",
              "\n",
              "      <script>\n",
              "        const buttonEl =\n",
              "          document.querySelector('#df-22c79a57-3d37-441b-a55f-1862d8dc2900 button.colab-df-convert');\n",
              "        buttonEl.style.display =\n",
              "          google.colab.kernel.accessAllowed ? 'block' : 'none';\n",
              "\n",
              "        async function convertToInteractive(key) {\n",
              "          const element = document.querySelector('#df-22c79a57-3d37-441b-a55f-1862d8dc2900');\n",
              "          const dataTable =\n",
              "            await google.colab.kernel.invokeFunction('convertToInteractive',\n",
              "                                                     [key], {});\n",
              "          if (!dataTable) return;\n",
              "\n",
              "          const docLinkHtml = 'Like what you see? Visit the ' +\n",
              "            '<a target=\"_blank\" href=https://colab.research.google.com/notebooks/data_table.ipynb>data table notebook</a>'\n",
              "            + ' to learn more about interactive tables.';\n",
              "          element.innerHTML = '';\n",
              "          dataTable['output_type'] = 'display_data';\n",
              "          await google.colab.output.renderOutput(dataTable, element);\n",
              "          const docLink = document.createElement('div');\n",
              "          docLink.innerHTML = docLinkHtml;\n",
              "          element.appendChild(docLink);\n",
              "        }\n",
              "      </script>\n",
              "    </div>\n",
              "  </div>\n",
              "  "
            ]
          },
          "metadata": {},
          "execution_count": 63
        }
      ]
    },
    {
      "cell_type": "code",
      "source": [
        "#обычная линейная регресии\n",
        "mean_squared_error(df2['gt'], df2['pred'])"
      ],
      "metadata": {
        "colab": {
          "base_uri": "https://localhost:8080/"
        },
        "id": "8U3p6yBWnIIr",
        "outputId": "f3a6df9b-f4f1-4275-9987-1413510da43a"
      },
      "id": "8U3p6yBWnIIr",
      "execution_count": null,
      "outputs": [
        {
          "output_type": "execute_result",
          "data": {
            "text/plain": [
              "2.244989796874995e+20"
            ]
          },
          "metadata": {},
          "execution_count": 65
        }
      ]
    },
    {
      "cell_type": "code",
      "source": [
        "#ridge\n",
        "mean_squared_error(df_ridge['gt'], df_ridge['pred'])"
      ],
      "metadata": {
        "colab": {
          "base_uri": "https://localhost:8080/"
        },
        "id": "GsSYiB6om39R",
        "outputId": "4c76adc3-ee22-4e6d-f0a9-66aa5bb88abb"
      },
      "id": "GsSYiB6om39R",
      "execution_count": null,
      "outputs": [
        {
          "output_type": "execute_result",
          "data": {
            "text/plain": [
              "38289074.50952167"
            ]
          },
          "metadata": {},
          "execution_count": 67
        }
      ]
    },
    {
      "cell_type": "code",
      "source": [
        "from sklearn.metrics import r2_score"
      ],
      "metadata": {
        "id": "Ogt7ofrgnB-y"
      },
      "id": "Ogt7ofrgnB-y",
      "execution_count": null,
      "outputs": []
    },
    {
      "cell_type": "code",
      "source": [
        "r2_score(df2['gt'], df2['pred'])"
      ],
      "metadata": {
        "colab": {
          "base_uri": "https://localhost:8080/"
        },
        "id": "L5ElOvI_nbJK",
        "outputId": "c429065d-a588-439d-e14a-87d1f9045430"
      },
      "id": "L5ElOvI_nbJK",
      "execution_count": null,
      "outputs": [
        {
          "output_type": "execute_result",
          "data": {
            "text/plain": [
              "-436202820532.94763"
            ]
          },
          "metadata": {},
          "execution_count": 69
        }
      ]
    },
    {
      "cell_type": "code",
      "source": [
        "r2_score(df_ridge['gt'], df_ridge['pred'])"
      ],
      "metadata": {
        "colab": {
          "base_uri": "https://localhost:8080/"
        },
        "id": "KiXGEjQjne6N",
        "outputId": "16b78d19-eb64-49c7-fc62-9f4f8a1eebe2"
      },
      "id": "KiXGEjQjne6N",
      "execution_count": null,
      "outputs": [
        {
          "output_type": "execute_result",
          "data": {
            "text/plain": [
              "0.9256041059966661"
            ]
          },
          "metadata": {},
          "execution_count": 70
        }
      ]
    },
    {
      "cell_type": "code",
      "source": [],
      "metadata": {
        "id": "ElxgPTN-nh5C"
      },
      "id": "ElxgPTN-nh5C",
      "execution_count": null,
      "outputs": []
    }
  ],
  "metadata": {
    "kernelspec": {
      "display_name": "Python 3 (ipykernel)",
      "language": "python",
      "name": "python3"
    },
    "language_info": {
      "codemirror_mode": {
        "name": "ipython",
        "version": 3
      },
      "file_extension": ".py",
      "mimetype": "text/x-python",
      "name": "python",
      "nbconvert_exporter": "python",
      "pygments_lexer": "ipython3",
      "version": "3.8.10"
    },
    "colab": {
      "provenance": []
    }
  },
  "nbformat": 4,
  "nbformat_minor": 5
}