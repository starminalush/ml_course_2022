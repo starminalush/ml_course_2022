{
 "cells": [
  {
   "cell_type": "code",
   "execution_count": null,
   "id": "4037baf3",
   "metadata": {},
   "outputs": [],
   "source": [
    "import pandas as pd\n",
    "import matplotlib.pyplot as plt\n",
    "from sklearn.linear_model import LinearRegression\n",
    "import matplotlib.pyplot as plt\n",
    "from sklearn.model_selection import train_test_split\n",
    "import seaborn as sns\n",
    "import numpy as np"
   ]
  },
  {
   "cell_type": "markdown",
   "id": "a762a8ef",
   "metadata": {},
   "source": [
    "## Анализ данных"
   ]
  },
  {
   "cell_type": "code",
   "execution_count": null,
   "id": "8093fe30",
   "metadata": {},
   "outputs": [],
   "source": [
    "df = pd.read_csv('linear_regression.csv')\n",
    "df.head()"
   ]
  },
  {
   "cell_type": "code",
   "execution_count": null,
   "id": "1a17fd68",
   "metadata": {},
   "outputs": [],
   "source": [
    "df.drop(['Unnamed: 0'], inplace=True, axis=1)\n",
    "df.head()"
   ]
  },
  {
   "cell_type": "code",
   "execution_count": null,
   "id": "01e1ab33",
   "metadata": {},
   "outputs": [],
   "source": [
    "df.info()"
   ]
  },
  {
   "cell_type": "code",
   "execution_count": null,
   "id": "15d14c55",
   "metadata": {},
   "outputs": [],
   "source": [
    "df.describe()"
   ]
  },
  {
   "cell_type": "code",
   "execution_count": null,
   "id": "fb4ecf04",
   "metadata": {},
   "outputs": [],
   "source": [
    "df.shape"
   ]
  },
  {
   "cell_type": "code",
   "execution_count": null,
   "id": "f9dd035e",
   "metadata": {},
   "outputs": [],
   "source": [
    "df.isna().sum()"
   ]
  },
  {
   "cell_type": "markdown",
   "id": "adfa215b",
   "metadata": {},
   "source": [
    "## Простая линейная регрессия для одного признака"
   ]
  },
  {
   "cell_type": "markdown",
   "id": "6b5749a6",
   "metadata": {},
   "source": [
    "https://scikit-learn.org/stable/modules/generated/sklearn.linear_model.LinearRegression.html"
   ]
  },
  {
   "cell_type": "code",
   "execution_count": null,
   "id": "d96c4f87",
   "metadata": {},
   "outputs": [],
   "source": [
    "##игрушечный пример"
   ]
  },
  {
   "cell_type": "code",
   "execution_count": null,
   "id": "a8fb7405",
   "metadata": {},
   "outputs": [],
   "source": [
    "df_toy = df[['duration', 'price']]\n",
    "df_toy.head()"
   ]
  },
  {
   "cell_type": "markdown",
   "id": "4cbfffe6",
   "metadata": {},
   "source": [
    "## Множественная линейная регрессия"
   ]
  },
  {
   "cell_type": "code",
   "execution_count": null,
   "id": "a38117f9",
   "metadata": {},
   "outputs": [],
   "source": [
    "# обучим модель на всех данных"
   ]
  },
  {
   "cell_type": "markdown",
   "id": "629b7ffb",
   "metadata": {},
   "source": [
    "## Метрики"
   ]
  },
  {
   "cell_type": "code",
   "execution_count": null,
   "id": "5aa468cc",
   "metadata": {},
   "outputs": [],
   "source": [
    "#считаем метрики mae, mse, rmse, r2"
   ]
  },
  {
   "cell_type": "markdown",
   "id": "c0b7962b",
   "metadata": {},
   "source": [
    "## Регуляризация"
   ]
  },
  {
   "cell_type": "markdown",
   "id": "16fef0ba",
   "metadata": {},
   "source": [
    "https://scikit-learn.org/stable/modules/generated/sklearn.linear_model.Ridge.html"
   ]
  },
  {
   "cell_type": "code",
   "execution_count": null,
   "id": "a1444bfe",
   "metadata": {},
   "outputs": [],
   "source": [
    "#попробовать регуляризацию и посмотреть, как изменятся метрики при этом"
   ]
  },
  {
   "cell_type": "code",
   "execution_count": null,
   "id": "edc90529",
   "metadata": {},
   "outputs": [],
   "source": []
  }
 ],
 "metadata": {
  "kernelspec": {
   "display_name": "Python 3 (ipykernel)",
   "language": "python",
   "name": "python3"
  },
  "language_info": {
   "codemirror_mode": {
    "name": "ipython",
    "version": 3
   },
   "file_extension": ".py",
   "mimetype": "text/x-python",
   "name": "python",
   "nbconvert_exporter": "python",
   "pygments_lexer": "ipython3",
   "version": "3.8.10"
  }
 },
 "nbformat": 4,
 "nbformat_minor": 5
}
